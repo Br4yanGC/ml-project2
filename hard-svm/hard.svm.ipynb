{
  "nbformat": 4,
  "nbformat_minor": 0,
  "metadata": {
    "colab": {
      "provenance": []
    },
    "kernelspec": {
      "name": "python3",
      "display_name": "Python 3"
    },
    "language_info": {
      "name": "python"
    }
  },
  "cells": [
    {
      "cell_type": "markdown",
      "source": [
        "# Seteo de librerias de utilidad"
      ],
      "metadata": {
        "id": "PdHwEACpCreK"
      }
    },
    {
      "cell_type": "code",
      "source": [
        "pip install tsfresh"
      ],
      "metadata": {
        "colab": {
          "base_uri": "https://localhost:8080/"
        },
        "collapsed": true,
        "id": "W5Xr4dGkHacz",
        "outputId": "3b7372d7-7865-4b42-aeae-d8b040d398bb"
      },
      "execution_count": null,
      "outputs": [
        {
          "output_type": "stream",
          "name": "stdout",
          "text": [
            "Collecting tsfresh\n",
            "  Downloading tsfresh-0.20.2-py2.py3-none-any.whl (95 kB)\n",
            "\u001b[?25l     \u001b[90m━━━━━━━━━━━━━━━━━━━━━━━━━━━━━━━━━━━━━━━━\u001b[0m \u001b[32m0.0/95.8 kB\u001b[0m \u001b[31m?\u001b[0m eta \u001b[36m-:--:--\u001b[0m\r\u001b[2K     \u001b[91m━━━━━━━━━━━━━━━━━━━━━━━━━━━━━━━━━━━━━━\u001b[0m\u001b[90m╺\u001b[0m\u001b[90m━\u001b[0m \u001b[32m92.2/95.8 kB\u001b[0m \u001b[31m3.1 MB/s\u001b[0m eta \u001b[36m0:00:01\u001b[0m\r\u001b[2K     \u001b[90m━━━━━━━━━━━━━━━━━━━━━━━━━━━━━━━━━━━━━━━━\u001b[0m \u001b[32m95.8/95.8 kB\u001b[0m \u001b[31m2.4 MB/s\u001b[0m eta \u001b[36m0:00:00\u001b[0m\n",
            "\u001b[?25hRequirement already satisfied: requests>=2.9.1 in /usr/local/lib/python3.10/dist-packages (from tsfresh) (2.31.0)\n",
            "Requirement already satisfied: numpy>=1.15.1 in /usr/local/lib/python3.10/dist-packages (from tsfresh) (1.25.2)\n",
            "Requirement already satisfied: pandas>=0.25.0 in /usr/local/lib/python3.10/dist-packages (from tsfresh) (2.0.3)\n",
            "Requirement already satisfied: scipy>=1.2.0 in /usr/local/lib/python3.10/dist-packages (from tsfresh) (1.11.4)\n",
            "Requirement already satisfied: statsmodels>=0.13 in /usr/local/lib/python3.10/dist-packages (from tsfresh) (0.14.2)\n",
            "Requirement already satisfied: patsy>=0.4.1 in /usr/local/lib/python3.10/dist-packages (from tsfresh) (0.5.6)\n",
            "Requirement already satisfied: scikit-learn>=0.22.0 in /usr/local/lib/python3.10/dist-packages (from tsfresh) (1.2.2)\n",
            "Requirement already satisfied: tqdm>=4.10.0 in /usr/local/lib/python3.10/dist-packages (from tsfresh) (4.66.4)\n",
            "Collecting stumpy>=1.7.2 (from tsfresh)\n",
            "  Downloading stumpy-1.12.0-py3-none-any.whl (169 kB)\n",
            "\u001b[2K     \u001b[90m━━━━━━━━━━━━━━━━━━━━━━━━━━━━━━━━━━━━━━━━\u001b[0m \u001b[32m169.1/169.1 kB\u001b[0m \u001b[31m9.9 MB/s\u001b[0m eta \u001b[36m0:00:00\u001b[0m\n",
            "\u001b[?25hRequirement already satisfied: cloudpickle in /usr/local/lib/python3.10/dist-packages (from tsfresh) (2.2.1)\n",
            "Requirement already satisfied: python-dateutil>=2.8.2 in /usr/local/lib/python3.10/dist-packages (from pandas>=0.25.0->tsfresh) (2.8.2)\n",
            "Requirement already satisfied: pytz>=2020.1 in /usr/local/lib/python3.10/dist-packages (from pandas>=0.25.0->tsfresh) (2023.4)\n",
            "Requirement already satisfied: tzdata>=2022.1 in /usr/local/lib/python3.10/dist-packages (from pandas>=0.25.0->tsfresh) (2024.1)\n",
            "Requirement already satisfied: six in /usr/local/lib/python3.10/dist-packages (from patsy>=0.4.1->tsfresh) (1.16.0)\n",
            "Requirement already satisfied: charset-normalizer<4,>=2 in /usr/local/lib/python3.10/dist-packages (from requests>=2.9.1->tsfresh) (3.3.2)\n",
            "Requirement already satisfied: idna<4,>=2.5 in /usr/local/lib/python3.10/dist-packages (from requests>=2.9.1->tsfresh) (3.7)\n",
            "Requirement already satisfied: urllib3<3,>=1.21.1 in /usr/local/lib/python3.10/dist-packages (from requests>=2.9.1->tsfresh) (2.0.7)\n",
            "Requirement already satisfied: certifi>=2017.4.17 in /usr/local/lib/python3.10/dist-packages (from requests>=2.9.1->tsfresh) (2024.2.2)\n",
            "Requirement already satisfied: joblib>=1.1.1 in /usr/local/lib/python3.10/dist-packages (from scikit-learn>=0.22.0->tsfresh) (1.4.2)\n",
            "Requirement already satisfied: threadpoolctl>=2.0.0 in /usr/local/lib/python3.10/dist-packages (from scikit-learn>=0.22.0->tsfresh) (3.5.0)\n",
            "Requirement already satisfied: packaging>=21.3 in /usr/local/lib/python3.10/dist-packages (from statsmodels>=0.13->tsfresh) (24.0)\n",
            "Requirement already satisfied: numba>=0.55.2 in /usr/local/lib/python3.10/dist-packages (from stumpy>=1.7.2->tsfresh) (0.58.1)\n",
            "Requirement already satisfied: llvmlite<0.42,>=0.41.0dev0 in /usr/local/lib/python3.10/dist-packages (from numba>=0.55.2->stumpy>=1.7.2->tsfresh) (0.41.1)\n",
            "Installing collected packages: stumpy, tsfresh\n",
            "Successfully installed stumpy-1.12.0 tsfresh-0.20.2\n"
          ]
        }
      ]
    },
    {
      "cell_type": "markdown",
      "source": [
        "# Importación de archivos train.h5 y test.h5"
      ],
      "metadata": {
        "id": "O9cNDbSECv6A"
      }
    },
    {
      "cell_type": "code",
      "execution_count": null,
      "metadata": {
        "colab": {
          "base_uri": "https://localhost:8080/"
        },
        "id": "-CLgyVXGuYoQ",
        "outputId": "bb169881-5a41-4555-e5af-01749bd9ee35"
      },
      "outputs": [
        {
          "output_type": "stream",
          "name": "stdout",
          "text": [
            "Mounted at /content/drive\n"
          ]
        }
      ],
      "source": [
        "# Monta Google Drive\n",
        "from google.colab import drive\n",
        "drive.mount('/content/drive')\n",
        "\n",
        "# Ruta a los archivos h5 en Google Drive\n",
        "folder_path = '/content/drive/My Drive/Machine Learning/project-2-classification-d1/'\n",
        "\n",
        "train_path = folder_path + 'train.h5'\n",
        "test_path = folder_path + 'test.h5'"
      ]
    },
    {
      "cell_type": "markdown",
      "source": [
        "# Vistazo a los datasets de los archivos train.h5 y test.h5"
      ],
      "metadata": {
        "id": "fo9GzET9C3c0"
      }
    },
    {
      "cell_type": "code",
      "source": [
        "import numpy as np\n",
        "import pandas as pd\n",
        "import h5py\n",
        "\n",
        "# Ruta al archivo h5 train\n",
        "with h5py.File(train_path, 'r') as f:\n",
        "    # Lista las claves (nombres de los datasets) en el archivo train.h5\n",
        "    print(\"Claves en el archivo h5:\", list(f.keys()))\n",
        "\n",
        "# Ruta al archivo h5 test\n",
        "with h5py.File(test_path, 'r') as f:\n",
        "    # Lista las claves (nombres de los datasets) en el archivo test.h5\n",
        "    print(\"Claves en el archivo h5:\", list(f.keys()))"
      ],
      "metadata": {
        "colab": {
          "base_uri": "https://localhost:8080/"
        },
        "id": "Ock4y0EA4KZW",
        "outputId": "cd0cb5e7-f110-4584-9d68-aa13d8ceefa3"
      },
      "execution_count": null,
      "outputs": [
        {
          "output_type": "stream",
          "name": "stdout",
          "text": [
            "Claves en el archivo h5: ['body_acc_x', 'body_acc_y', 'body_acc_z', 'body_gyro_x', 'body_gyro_y', 'body_gyro_z', 'total_acc_x', 'total_acc_y', 'total_acc_z', 'y']\n",
            "Claves en el archivo h5: ['body_acc_x', 'body_acc_y', 'body_acc_z', 'body_gyro_x', 'body_gyro_y', 'body_gyro_z', 'total_acc_x', 'total_acc_y', 'total_acc_z']\n"
          ]
        }
      ]
    },
    {
      "cell_type": "markdown",
      "source": [
        "# Asignación de variables a los datasets del archivo train.h5"
      ],
      "metadata": {
        "id": "MNACGO4sDHDx"
      }
    },
    {
      "cell_type": "code",
      "source": [
        "import numpy as np\n",
        "import pandas as pd\n",
        "import h5py\n",
        "\n",
        "# Ruta al archivo h5 train\n",
        "with h5py.File(train_path, 'r') as f:\n",
        "    # Lee los dataset 'x' y los convierte a DataFrames de pandas\n",
        "    df_body_acc_x = pd.DataFrame(f['body_acc_x'][:])\n",
        "    df_body_acc_y = pd.DataFrame(f['body_acc_y'][:])\n",
        "    df_body_acc_z = pd.DataFrame(f['body_acc_z'][:])\n",
        "    df_body_gyro_x = pd.DataFrame(f['body_gyro_x'][:])\n",
        "    df_body_gyro_y = pd.DataFrame(f['body_gyro_y'][:])\n",
        "    df_body_gyro_z = pd.DataFrame(f['body_gyro_z'][:])\n",
        "    df_total_acc_x = pd.DataFrame(f['total_acc_x'][:])\n",
        "    df_total_acc_y = pd.DataFrame(f['total_acc_y'][:])\n",
        "    df_total_acc_z = pd.DataFrame(f['total_acc_z'][:])\n",
        "    # Lee el dataset 'y' y lo convierte a DataFrame de pandas\n",
        "    df_y = pd.DataFrame(f['y']).squeeze()\n",
        "\n",
        "# Imprime las dimensiones de los DataFrames\n",
        "print(\"Dimensiones de body_acc_x:\", df_body_acc_x.shape)\n",
        "print(\"Dimensiones de body_acc_y:\", df_body_acc_y.shape)\n",
        "print(\"Dimensiones de body_acc_z:\", df_body_acc_z.shape)\n",
        "print(\"Dimensiones de body_gyro_x:\", df_body_gyro_x.shape)\n",
        "print(\"Dimensiones de body_gyro_y:\", df_body_gyro_y.shape)\n",
        "print(\"Dimensiones de body_gyro_z:\", df_body_gyro_z.shape)\n",
        "print(\"Dimensiones de total_acc_x:\", df_total_acc_x.shape)\n",
        "print(\"Dimensiones de total_acc_y:\", df_total_acc_y.shape)\n",
        "print(\"Dimensiones de total_acc_z:\", df_total_acc_z.shape)\n",
        "print(\"Dimensiones de y:\", df_y.shape)\n",
        "\n",
        "# Imprime los primeros elementos de los DataFrames\n",
        "# print(\"Primeros elementos de df_body_acc_x:\", df_body_acc_x.head())\n",
        "# print(\"Primeros elementos de y:\", (df_y.squeeze()))"
      ],
      "metadata": {
        "colab": {
          "base_uri": "https://localhost:8080/"
        },
        "id": "2e_HDq_3upN2",
        "outputId": "fa4af127-ddea-4bbe-9e84-51f330ec4019"
      },
      "execution_count": null,
      "outputs": [
        {
          "output_type": "stream",
          "name": "stdout",
          "text": [
            "Dimensiones de body_acc_x: (7352, 128)\n",
            "Dimensiones de body_acc_y: (7352, 128)\n",
            "Dimensiones de body_acc_z: (7352, 128)\n",
            "Dimensiones de body_gyro_x: (7352, 128)\n",
            "Dimensiones de body_gyro_y: (7352, 128)\n",
            "Dimensiones de body_gyro_z: (7352, 128)\n",
            "Dimensiones de total_acc_x: (7352, 128)\n",
            "Dimensiones de total_acc_y: (7352, 128)\n",
            "Dimensiones de total_acc_z: (7352, 128)\n",
            "Dimensiones de y: (7352,)\n"
          ]
        }
      ]
    },
    {
      "cell_type": "markdown",
      "source": [
        "# Unimos los datasets del archivo train.h5 en uno solo, exceptuando el dataset y\n",
        "La unión de los datasets dará como resultado una matriz la cual funcionará como nuestro X. Recordar que al usar la función `concat` los keys de las columnas serán las mismas de los datasets a los que pertenecieron. Optaremos por reescribir los keys, solo para prevenir posibles errores que podrían aparecer al trabajar con la libreria `tsfresh`\n"
      ],
      "metadata": {
        "id": "TI8INcpaZ7q3"
      }
    },
    {
      "cell_type": "code",
      "source": [
        "df_x = pd.concat([df_body_acc_x, df_body_acc_y, df_body_acc_z,\n",
        "                  df_body_gyro_x, df_body_gyro_y, df_body_gyro_z,\n",
        "                  df_total_acc_x, df_total_acc_y, df_total_acc_z], axis=1)\n",
        "df_x.columns = range(df_x.shape[1])"
      ],
      "metadata": {
        "id": "rStyoOWPZ8S7"
      },
      "execution_count": null,
      "outputs": []
    },
    {
      "cell_type": "code",
      "source": [
        "print(df_x.keys())"
      ],
      "metadata": {
        "colab": {
          "base_uri": "https://localhost:8080/"
        },
        "id": "oxHpLoezaKI4",
        "outputId": "b86e720d-a49d-4155-dc33-0c84c14c8125"
      },
      "execution_count": null,
      "outputs": [
        {
          "output_type": "stream",
          "name": "stdout",
          "text": [
            "RangeIndex(start=0, stop=1152, step=1)\n"
          ]
        }
      ]
    },
    {
      "cell_type": "markdown",
      "source": [
        "# Conversión de la variable *df_body_acc_x* a un formato compatible con la librería *tsfresh*\n",
        "\n",
        "(Nota: Esto se tiene que repetir también con las demás variables del train.h5)\n",
        "\n",
        "(Nota futura: Al final repetimos aquello pero sobre un dataset que une todas las variables (exceptuando la y) de train.h5)"
      ],
      "metadata": {
        "id": "HLhshR4YDWEI"
      }
    },
    {
      "cell_type": "code",
      "source": [
        "print(df_body_acc_x.index)"
      ],
      "metadata": {
        "colab": {
          "base_uri": "https://localhost:8080/"
        },
        "id": "RdwkuIPMLKyM",
        "outputId": "ece075cb-c907-454e-ae83-44aa40a5e35d"
      },
      "execution_count": null,
      "outputs": [
        {
          "output_type": "stream",
          "name": "stdout",
          "text": [
            "RangeIndex(start=0, stop=7352, step=1)\n"
          ]
        }
      ]
    },
    {
      "cell_type": "code",
      "source": [
        "df_body_acc_x['id'] = df_body_acc_x.index\n",
        "# print(df_body_acc_x)"
      ],
      "metadata": {
        "id": "o79vFZJ4LW6_"
      },
      "execution_count": null,
      "outputs": []
    },
    {
      "cell_type": "code",
      "source": [
        "print(df_body_acc_x['id'])"
      ],
      "metadata": {
        "colab": {
          "base_uri": "https://localhost:8080/"
        },
        "collapsed": true,
        "id": "_eOwcA8aVbaz",
        "outputId": "5247060a-8cdf-4349-cf68-755fbd784103"
      },
      "execution_count": null,
      "outputs": [
        {
          "output_type": "stream",
          "name": "stdout",
          "text": [
            "0          0\n",
            "1          1\n",
            "2          2\n",
            "3          3\n",
            "4          4\n",
            "        ... \n",
            "7347    7347\n",
            "7348    7348\n",
            "7349    7349\n",
            "7350    7350\n",
            "7351    7351\n",
            "Name: id, Length: 7352, dtype: int64\n"
          ]
        }
      ]
    },
    {
      "cell_type": "code",
      "source": [
        "long_df_body_acc_x = df_body_acc_x.melt(id_vars=['id'], var_name='time', value_name='value')\n",
        "# print(long_df_body_acc_x)"
      ],
      "metadata": {
        "id": "5XVfadi1N-a8"
      },
      "execution_count": null,
      "outputs": []
    },
    {
      "cell_type": "markdown",
      "source": [
        "# Generación de features de las series temporales\n",
        " ``extracted_features``: Son las características extraídas de las series temporales. Estas características pueden incluir estadísticas como la media, la desviación estándar, las frecuencias dominantes, y muchas otras propiedades estadísticas y matemáticas que pueden describir el comportamiento de las series temporales\n",
        "\n",
        "**Propósito de los extracted_features**\n",
        "- **Caracterización Completa**: Las características extraídas proporcionan una descripción rica y detallada de las series temporales. Esto puede ser extremadamente útil para el análisis y la construcción de modelos predictivos.\n",
        "\n",
        "- **Reducción de Dimensionalidad**: En lugar de trabajar con los datos de la serie temporal cruda, que puede ser de alta dimensionalidad, las características extraídas pueden ofrecer una representación más compacta y manejable.\n",
        "\n",
        "- **Facilitación del Aprendizaje Automático**: Los algoritmos de aprendizaje automático funcionan mejor con características significativas y bien definidas. Las características extraídas pueden mejorar el rendimiento de los modelos al proporcionar estas entradas bien definidas.\n"
      ],
      "metadata": {
        "id": "mhU4CAkAD1KB"
      }
    },
    {
      "cell_type": "code",
      "source": [
        "from tsfresh import extract_features\n",
        "\n",
        "extracted_features = extract_features(long_df_body_acc_x, column_id='id', column_sort='time')"
      ],
      "metadata": {
        "colab": {
          "base_uri": "https://localhost:8080/"
        },
        "collapsed": true,
        "id": "CWiqn8PADomb",
        "outputId": "c946bf33-920a-44cf-e8ed-539aaae19d4f"
      },
      "execution_count": null,
      "outputs": [
        {
          "output_type": "stream",
          "name": "stderr",
          "text": [
            "WARNING:tsfresh.feature_extraction.settings:Dependency not available for matrix_profile, this feature will be disabled!\n",
            "Feature Extraction: 100%|██████████| 7352/7352 [08:51<00:00, 13.84it/s]\n"
          ]
        }
      ]
    },
    {
      "cell_type": "code",
      "source": [
        "print(extracted_features.head())"
      ],
      "metadata": {
        "colab": {
          "base_uri": "https://localhost:8080/"
        },
        "collapsed": true,
        "id": "s9HdQE6UTKWx",
        "outputId": "fc4c6424-8412-4a8f-ad3b-4dd8efa345d3"
      },
      "execution_count": null,
      "outputs": [
        {
          "output_type": "stream",
          "name": "stdout",
          "text": [
            "   value__variance_larger_than_standard_deviation  value__has_duplicate_max  \\\n",
            "0                                             0.0                       0.0   \n",
            "1                                             0.0                       0.0   \n",
            "2                                             0.0                       0.0   \n",
            "3                                             0.0                       0.0   \n",
            "4                                             0.0                       0.0   \n",
            "\n",
            "   value__has_duplicate_min  value__has_duplicate  value__sum_values  \\\n",
            "0                       0.0                   0.0           0.290392   \n",
            "1                       0.0                   0.0           0.022239   \n",
            "2                       0.0                   0.0           0.054796   \n",
            "3                       0.0                   0.0           0.042157   \n",
            "4                       0.0                   0.0          -0.024980   \n",
            "\n",
            "   value__abs_energy  value__mean_abs_change  value__mean_change  \\\n",
            "0           0.001766                0.001435            0.000011   \n",
            "1           0.000506                0.001323           -0.000021   \n",
            "2           0.001106                0.001827           -0.000011   \n",
            "3           0.000932                0.001470            0.000014   \n",
            "4           0.000525                0.001215           -0.000027   \n",
            "\n",
            "   value__mean_second_derivative_central  value__median  ...  \\\n",
            "0                              -0.000032       0.002025  ...   \n",
            "1                              -0.000008       0.000110  ...   \n",
            "2                               0.000001       0.000627  ...   \n",
            "3                               0.000003       0.000269  ...   \n",
            "4                              -0.000007      -0.000144  ...   \n",
            "\n",
            "   value__fourier_entropy__bins_5  value__fourier_entropy__bins_10  \\\n",
            "0                        0.079487                         0.419383   \n",
            "1                        0.891060                         1.336251   \n",
            "2                        0.948691                         1.397948   \n",
            "3                        0.600197                         1.022235   \n",
            "4                        0.866293                         1.327997   \n",
            "\n",
            "   value__fourier_entropy__bins_100  \\\n",
            "0                          2.000401   \n",
            "1                          3.019874   \n",
            "2                          2.576279   \n",
            "3                          2.654834   \n",
            "4                          2.760333   \n",
            "\n",
            "   value__permutation_entropy__dimension_3__tau_1  \\\n",
            "0                                        1.747535   \n",
            "1                                        1.706146   \n",
            "2                                        1.669552   \n",
            "3                                        1.638109   \n",
            "4                                        1.637482   \n",
            "\n",
            "   value__permutation_entropy__dimension_4__tau_1  \\\n",
            "0                                        3.015811   \n",
            "1                                        2.903657   \n",
            "2                                        2.772489   \n",
            "3                                        2.654572   \n",
            "4                                        2.680036   \n",
            "\n",
            "   value__permutation_entropy__dimension_5__tau_1  \\\n",
            "0                                        4.068979   \n",
            "1                                        3.936212   \n",
            "2                                        3.784472   \n",
            "3                                        3.644889   \n",
            "4                                        3.652981   \n",
            "\n",
            "   value__permutation_entropy__dimension_6__tau_1  \\\n",
            "0                                        4.555721   \n",
            "1                                        4.520418   \n",
            "2                                        4.409911   \n",
            "3                                        4.335833   \n",
            "4                                        4.350795   \n",
            "\n",
            "   value__permutation_entropy__dimension_7__tau_1  \\\n",
            "0                                        4.724480   \n",
            "1                                        4.747206   \n",
            "2                                        4.735843   \n",
            "3                                        4.686101   \n",
            "4                                        4.656301   \n",
            "\n",
            "   value__query_similarity_count__query_None__threshold_0.0  \\\n",
            "0                                                NaN          \n",
            "1                                                NaN          \n",
            "2                                                NaN          \n",
            "3                                                NaN          \n",
            "4                                                NaN          \n",
            "\n",
            "   value__mean_n_absolute_max__number_of_maxima_7  \n",
            "0                                        0.008684  \n",
            "1                                        0.005250  \n",
            "2                                        0.007916  \n",
            "3                                        0.007687  \n",
            "4                                        0.004961  \n",
            "\n",
            "[5 rows x 783 columns]\n"
          ]
        }
      ]
    },
    {
      "cell_type": "code",
      "source": [
        "# Shape\n",
        "print(\"Shape: \\n\", extracted_features.shape)\n",
        "# Descriptive statistics\n",
        "print(\"Descriptive statistics: \\n\", extracted_features.describe())"
      ],
      "metadata": {
        "colab": {
          "base_uri": "https://localhost:8080/"
        },
        "collapsed": true,
        "id": "lAvKQwdaQZs7",
        "outputId": "13345b15-466b-4fcc-fd7e-0ae5b71bd681"
      },
      "execution_count": null,
      "outputs": [
        {
          "output_type": "stream",
          "name": "stdout",
          "text": [
            "Shape: \n",
            " (7352, 783)\n",
            "Descriptive statistics: \n",
            "        value__variance_larger_than_standard_deviation  \\\n",
            "count                                          7352.0   \n",
            "mean                                              0.0   \n",
            "std                                               0.0   \n",
            "min                                               0.0   \n",
            "25%                                               0.0   \n",
            "50%                                               0.0   \n",
            "75%                                               0.0   \n",
            "max                                               0.0   \n",
            "\n",
            "       value__has_duplicate_max  value__has_duplicate_min  \\\n",
            "count                    7352.0                    7352.0   \n",
            "mean                        0.0                       0.0   \n",
            "std                         0.0                       0.0   \n",
            "min                         0.0                       0.0   \n",
            "25%                         0.0                       0.0   \n",
            "50%                         0.0                       0.0   \n",
            "75%                         0.0                       0.0   \n",
            "max                         0.0                       0.0   \n",
            "\n",
            "       value__has_duplicate  value__sum_values  value__abs_energy  \\\n",
            "count           7352.000000        7352.000000        7352.000000   \n",
            "mean               0.000952          -0.081447           4.859584   \n",
            "std                0.030844           1.853377           7.010005   \n",
            "min                0.000000         -33.700321           0.000271   \n",
            "25%                0.000000          -0.385138           0.001999   \n",
            "50%                0.000000          -0.010087           0.053028   \n",
            "75%                0.000000           0.287138           7.811842   \n",
            "max                1.000000          19.056348          54.004917   \n",
            "\n",
            "       value__mean_abs_change  value__mean_change  \\\n",
            "count             7352.000000         7352.000000   \n",
            "mean                 0.040392            0.000042   \n",
            "std                  0.045886            0.002242   \n",
            "min                  0.000835           -0.013287   \n",
            "25%                  0.001745           -0.000152   \n",
            "50%                  0.004867            0.000001   \n",
            "75%                  0.080021            0.000194   \n",
            "max                  0.222890            0.011812   \n",
            "\n",
            "       value__mean_second_derivative_central  value__median  ...  \\\n",
            "count                           7.352000e+03    7352.000000  ...   \n",
            "mean                            2.169932e-06      -0.024342  ...   \n",
            "std                             4.782567e-04       0.044907  ...   \n",
            "min                            -4.246484e-03      -0.285125  ...   \n",
            "25%                            -3.049718e-05      -0.038399  ...   \n",
            "50%                             2.246125e-07      -0.001441  ...   \n",
            "75%                             3.056003e-05       0.000300  ...   \n",
            "max                             3.608715e-03       0.151517  ...   \n",
            "\n",
            "       value__fourier_entropy__bins_5  value__fourier_entropy__bins_10  \\\n",
            "count                     7352.000000                      7352.000000   \n",
            "mean                         0.371552                         0.594355   \n",
            "std                          0.237475                         0.360563   \n",
            "min                          0.079487                         0.079487   \n",
            "25%                          0.158734                         0.295163   \n",
            "50%                          0.295163                         0.465912   \n",
            "75%                          0.527636                         0.862597   \n",
            "max                          1.348965                         1.962296   \n",
            "\n",
            "       value__fourier_entropy__bins_100  \\\n",
            "count                       7352.000000   \n",
            "mean                           1.583728   \n",
            "std                            0.700418   \n",
            "min                            0.158734   \n",
            "25%                            1.053833   \n",
            "50%                            1.435505   \n",
            "75%                            2.200720   \n",
            "max                            3.373266   \n",
            "\n",
            "       value__permutation_entropy__dimension_3__tau_1  \\\n",
            "count                                     7352.000000   \n",
            "mean                                         1.556398   \n",
            "std                                          0.104900   \n",
            "min                                          1.149417   \n",
            "25%                                          1.477927   \n",
            "50%                                          1.579079   \n",
            "75%                                          1.643317   \n",
            "max                                          1.753204   \n",
            "\n",
            "       value__permutation_entropy__dimension_4__tau_1  \\\n",
            "count                                     7352.000000   \n",
            "mean                                         2.511915   \n",
            "std                                          0.237026   \n",
            "min                                          1.679488   \n",
            "25%                                          2.332736   \n",
            "50%                                          2.560629   \n",
            "75%                                          2.703405   \n",
            "max                                          3.043035   \n",
            "\n",
            "       value__permutation_entropy__dimension_5__tau_1  \\\n",
            "count                                     7352.000000   \n",
            "mean                                         3.382424   \n",
            "std                                          0.353083   \n",
            "min                                          2.188100   \n",
            "25%                                          3.109109   \n",
            "50%                                          3.460736   \n",
            "75%                                          3.676999   \n",
            "max                                          4.083262   \n",
            "\n",
            "       value__permutation_entropy__dimension_6__tau_1  \\\n",
            "count                                     7352.000000   \n",
            "mean                                         4.020273   \n",
            "std                                          0.382612   \n",
            "min                                          2.695231   \n",
            "25%                                          3.737884   \n",
            "50%                                          4.125629   \n",
            "75%                                          4.341076   \n",
            "max                                          4.661411   \n",
            "\n",
            "       value__permutation_entropy__dimension_7__tau_1  \\\n",
            "count                                     7352.000000   \n",
            "mean                                         4.396980   \n",
            "std                                          0.325055   \n",
            "min                                          3.103273   \n",
            "25%                                          4.185978   \n",
            "50%                                          4.518441   \n",
            "75%                                          4.659086   \n",
            "max                                          4.804021   \n",
            "\n",
            "       value__query_similarity_count__query_None__threshold_0.0  \\\n",
            "count                                                0.0          \n",
            "mean                                                 NaN          \n",
            "std                                                  NaN          \n",
            "min                                                  NaN          \n",
            "25%                                                  NaN          \n",
            "50%                                                  NaN          \n",
            "75%                                                  NaN          \n",
            "max                                                  NaN          \n",
            "\n",
            "       value__mean_n_absolute_max__number_of_maxima_7  \n",
            "count                                     7352.000000  \n",
            "mean                                         0.280842  \n",
            "std                                          0.312710  \n",
            "min                                          0.003344  \n",
            "25%                                          0.009390  \n",
            "50%                                          0.048859  \n",
            "75%                                          0.528522  \n",
            "max                                          1.179323  \n",
            "\n",
            "[8 rows x 783 columns]\n"
          ]
        }
      ]
    },
    {
      "cell_type": "code",
      "source": [
        "# No ejecutar\n",
        "# import seaborn as sns\n",
        "# sns.pairplot(extracted_features)"
      ],
      "metadata": {
        "id": "lCfAhkBFQv3J"
      },
      "execution_count": null,
      "outputs": []
    },
    {
      "cell_type": "markdown",
      "source": [
        "# Generación de gráficos de series temporales"
      ],
      "metadata": {
        "id": "Ns69PSXPFhUu"
      }
    },
    {
      "cell_type": "code",
      "source": [
        "import matplotlib.pyplot as plt\n",
        "\n",
        "# Grafica la serie temporal del primer ID (asumiendo que cada ID representa una serie temporal)\n",
        "plt.figure(figsize=(12, 6))\n",
        "plt.plot(df_body_acc_x.iloc[0][:-1], label='body_acc_x')\n",
        "plt.xlabel('Time')\n",
        "plt.ylabel('Value')\n",
        "plt.title('Time Series for body_acc_x (First ID)')\n",
        "plt.legend()\n",
        "plt.show()"
      ],
      "metadata": {
        "colab": {
          "base_uri": "https://localhost:8080/",
          "height": 564
        },
        "id": "9ph6aM4RTh1I",
        "outputId": "a7b4810d-b468-4562-f6b9-c888b99f2b23"
      },
      "execution_count": null,
      "outputs": [
        {
          "output_type": "display_data",
          "data": {
            "text/plain": [
              "<Figure size 1200x600 with 1 Axes>"
            ],
            "image/png": "[encoded data removed]"
          },
          "metadata": {}
        }
      ]
    },
    {
      "cell_type": "markdown",
      "source": [
        "# Inspección de features importantes"
      ],
      "metadata": {
        "id": "ebxZ4YJjGAsA"
      }
    },
    {
      "cell_type": "code",
      "source": [
        "from tsfresh import select_features\n",
        "from tsfresh.utilities.dataframe_functions import impute\n",
        "\n",
        "# Impute missing values\n",
        "impute(extracted_features)\n",
        "\n",
        "# 'y' is your target variable\n",
        "y = df_y\n",
        "\n",
        "# Selecting important features\n",
        "important_features = select_features(extracted_features, y)\n",
        "\n",
        "# Display important features\n",
        "print(important_features.head())"
      ],
      "metadata": {
        "colab": {
          "base_uri": "https://localhost:8080/"
        },
        "collapsed": true,
        "id": "fif2IOBWFj9-",
        "outputId": "3bf47dbc-3ec4-4b1b-9442-ee42e7216a4d"
      },
      "execution_count": null,
      "outputs": [
        {
          "output_type": "stream",
          "name": "stderr",
          "text": [
            "/usr/local/lib/python3.10/dist-packages/tsfresh/utilities/dataframe_functions.py:198: RuntimeWarning: The columns ['value__fft_coefficient__attr_\"real\"__coeff_65'\n",
            " 'value__fft_coefficient__attr_\"real\"__coeff_66'\n",
            " 'value__fft_coefficient__attr_\"real\"__coeff_67'\n",
            " 'value__fft_coefficient__attr_\"real\"__coeff_68'\n",
            " 'value__fft_coefficient__attr_\"real\"__coeff_69'\n",
            " 'value__fft_coefficient__attr_\"real\"__coeff_70'\n",
            " 'value__fft_coefficient__attr_\"real\"__coeff_71'\n",
            " 'value__fft_coefficient__attr_\"real\"__coeff_72'\n",
            " 'value__fft_coefficient__attr_\"real\"__coeff_73'\n",
            " 'value__fft_coefficient__attr_\"real\"__coeff_74'\n",
            " 'value__fft_coefficient__attr_\"real\"__coeff_75'\n",
            " 'value__fft_coefficient__attr_\"real\"__coeff_76'\n",
            " 'value__fft_coefficient__attr_\"real\"__coeff_77'\n",
            " 'value__fft_coefficient__attr_\"real\"__coeff_78'\n",
            " 'value__fft_coefficient__attr_\"real\"__coeff_79'\n",
            " 'value__fft_coefficient__attr_\"real\"__coeff_80'\n",
            " 'value__fft_coefficient__attr_\"real\"__coeff_81'\n",
            " 'value__fft_coefficient__attr_\"real\"__coeff_82'\n",
            " 'value__fft_coefficient__attr_\"real\"__coeff_83'\n",
            " 'value__fft_coefficient__attr_\"real\"__coeff_84'\n",
            " 'value__fft_coefficient__attr_\"real\"__coeff_85'\n",
            " 'value__fft_coefficient__attr_\"real\"__coeff_86'\n",
            " 'value__fft_coefficient__attr_\"real\"__coeff_87'\n",
            " 'value__fft_coefficient__attr_\"real\"__coeff_88'\n",
            " 'value__fft_coefficient__attr_\"real\"__coeff_89'\n",
            " 'value__fft_coefficient__attr_\"real\"__coeff_90'\n",
            " 'value__fft_coefficient__attr_\"real\"__coeff_91'\n",
            " 'value__fft_coefficient__attr_\"real\"__coeff_92'\n",
            " 'value__fft_coefficient__attr_\"real\"__coeff_93'\n",
            " 'value__fft_coefficient__attr_\"real\"__coeff_94'\n",
            " 'value__fft_coefficient__attr_\"real\"__coeff_95'\n",
            " 'value__fft_coefficient__attr_\"real\"__coeff_96'\n",
            " 'value__fft_coefficient__attr_\"real\"__coeff_97'\n",
            " 'value__fft_coefficient__attr_\"real\"__coeff_98'\n",
            " 'value__fft_coefficient__attr_\"real\"__coeff_99'\n",
            " 'value__fft_coefficient__attr_\"imag\"__coeff_65'\n",
            " 'value__fft_coefficient__attr_\"imag\"__coeff_66'\n",
            " 'value__fft_coefficient__attr_\"imag\"__coeff_67'\n",
            " 'value__fft_coefficient__attr_\"imag\"__coeff_68'\n",
            " 'value__fft_coefficient__attr_\"imag\"__coeff_69'\n",
            " 'value__fft_coefficient__attr_\"imag\"__coeff_70'\n",
            " 'value__fft_coefficient__attr_\"imag\"__coeff_71'\n",
            " 'value__fft_coefficient__attr_\"imag\"__coeff_72'\n",
            " 'value__fft_coefficient__attr_\"imag\"__coeff_73'\n",
            " 'value__fft_coefficient__attr_\"imag\"__coeff_74'\n",
            " 'value__fft_coefficient__attr_\"imag\"__coeff_75'\n",
            " 'value__fft_coefficient__attr_\"imag\"__coeff_76'\n",
            " 'value__fft_coefficient__attr_\"imag\"__coeff_77'\n",
            " 'value__fft_coefficient__attr_\"imag\"__coeff_78'\n",
            " 'value__fft_coefficient__attr_\"imag\"__coeff_79'\n",
            " 'value__fft_coefficient__attr_\"imag\"__coeff_80'\n",
            " 'value__fft_coefficient__attr_\"imag\"__coeff_81'\n",
            " 'value__fft_coefficient__attr_\"imag\"__coeff_82'\n",
            " 'value__fft_coefficient__attr_\"imag\"__coeff_83'\n",
            " 'value__fft_coefficient__attr_\"imag\"__coeff_84'\n",
            " 'value__fft_coefficient__attr_\"imag\"__coeff_85'\n",
            " 'value__fft_coefficient__attr_\"imag\"__coeff_86'\n",
            " 'value__fft_coefficient__attr_\"imag\"__coeff_87'\n",
            " 'value__fft_coefficient__attr_\"imag\"__coeff_88'\n",
            " 'value__fft_coefficient__attr_\"imag\"__coeff_89'\n",
            " 'value__fft_coefficient__attr_\"imag\"__coeff_90'\n",
            " 'value__fft_coefficient__attr_\"imag\"__coeff_91'\n",
            " 'value__fft_coefficient__attr_\"imag\"__coeff_92'\n",
            " 'value__fft_coefficient__attr_\"imag\"__coeff_93'\n",
            " 'value__fft_coefficient__attr_\"imag\"__coeff_94'\n",
            " 'value__fft_coefficient__attr_\"imag\"__coeff_95'\n",
            " 'value__fft_coefficient__attr_\"imag\"__coeff_96'\n",
            " 'value__fft_coefficient__attr_\"imag\"__coeff_97'\n",
            " 'value__fft_coefficient__attr_\"imag\"__coeff_98'\n",
            " 'value__fft_coefficient__attr_\"imag\"__coeff_99'\n",
            " 'value__fft_coefficient__attr_\"abs\"__coeff_65'\n",
            " 'value__fft_coefficient__attr_\"abs\"__coeff_66'\n",
            " 'value__fft_coefficient__attr_\"abs\"__coeff_67'\n",
            " 'value__fft_coefficient__attr_\"abs\"__coeff_68'\n",
            " 'value__fft_coefficient__attr_\"abs\"__coeff_69'\n",
            " 'value__fft_coefficient__attr_\"abs\"__coeff_70'\n",
            " 'value__fft_coefficient__attr_\"abs\"__coeff_71'\n",
            " 'value__fft_coefficient__attr_\"abs\"__coeff_72'\n",
            " 'value__fft_coefficient__attr_\"abs\"__coeff_73'\n",
            " 'value__fft_coefficient__attr_\"abs\"__coeff_74'\n",
            " 'value__fft_coefficient__attr_\"abs\"__coeff_75'\n",
            " 'value__fft_coefficient__attr_\"abs\"__coeff_76'\n",
            " 'value__fft_coefficient__attr_\"abs\"__coeff_77'\n",
            " 'value__fft_coefficient__attr_\"abs\"__coeff_78'\n",
            " 'value__fft_coefficient__attr_\"abs\"__coeff_79'\n",
            " 'value__fft_coefficient__attr_\"abs\"__coeff_80'\n",
            " 'value__fft_coefficient__attr_\"abs\"__coeff_81'\n",
            " 'value__fft_coefficient__attr_\"abs\"__coeff_82'\n",
            " 'value__fft_coefficient__attr_\"abs\"__coeff_83'\n",
            " 'value__fft_coefficient__attr_\"abs\"__coeff_84'\n",
            " 'value__fft_coefficient__attr_\"abs\"__coeff_85'\n",
            " 'value__fft_coefficient__attr_\"abs\"__coeff_86'\n",
            " 'value__fft_coefficient__attr_\"abs\"__coeff_87'\n",
            " 'value__fft_coefficient__attr_\"abs\"__coeff_88'\n",
            " 'value__fft_coefficient__attr_\"abs\"__coeff_89'\n",
            " 'value__fft_coefficient__attr_\"abs\"__coeff_90'\n",
            " 'value__fft_coefficient__attr_\"abs\"__coeff_91'\n",
            " 'value__fft_coefficient__attr_\"abs\"__coeff_92'\n",
            " 'value__fft_coefficient__attr_\"abs\"__coeff_93'\n",
            " 'value__fft_coefficient__attr_\"abs\"__coeff_94'\n",
            " 'value__fft_coefficient__attr_\"abs\"__coeff_95'\n",
            " 'value__fft_coefficient__attr_\"abs\"__coeff_96'\n",
            " 'value__fft_coefficient__attr_\"abs\"__coeff_97'\n",
            " 'value__fft_coefficient__attr_\"abs\"__coeff_98'\n",
            " 'value__fft_coefficient__attr_\"abs\"__coeff_99'\n",
            " 'value__fft_coefficient__attr_\"angle\"__coeff_65'\n",
            " 'value__fft_coefficient__attr_\"angle\"__coeff_66'\n",
            " 'value__fft_coefficient__attr_\"angle\"__coeff_67'\n",
            " 'value__fft_coefficient__attr_\"angle\"__coeff_68'\n",
            " 'value__fft_coefficient__attr_\"angle\"__coeff_69'\n",
            " 'value__fft_coefficient__attr_\"angle\"__coeff_70'\n",
            " 'value__fft_coefficient__attr_\"angle\"__coeff_71'\n",
            " 'value__fft_coefficient__attr_\"angle\"__coeff_72'\n",
            " 'value__fft_coefficient__attr_\"angle\"__coeff_73'\n",
            " 'value__fft_coefficient__attr_\"angle\"__coeff_74'\n",
            " 'value__fft_coefficient__attr_\"angle\"__coeff_75'\n",
            " 'value__fft_coefficient__attr_\"angle\"__coeff_76'\n",
            " 'value__fft_coefficient__attr_\"angle\"__coeff_77'\n",
            " 'value__fft_coefficient__attr_\"angle\"__coeff_78'\n",
            " 'value__fft_coefficient__attr_\"angle\"__coeff_79'\n",
            " 'value__fft_coefficient__attr_\"angle\"__coeff_80'\n",
            " 'value__fft_coefficient__attr_\"angle\"__coeff_81'\n",
            " 'value__fft_coefficient__attr_\"angle\"__coeff_82'\n",
            " 'value__fft_coefficient__attr_\"angle\"__coeff_83'\n",
            " 'value__fft_coefficient__attr_\"angle\"__coeff_84'\n",
            " 'value__fft_coefficient__attr_\"angle\"__coeff_85'\n",
            " 'value__fft_coefficient__attr_\"angle\"__coeff_86'\n",
            " 'value__fft_coefficient__attr_\"angle\"__coeff_87'\n",
            " 'value__fft_coefficient__attr_\"angle\"__coeff_88'\n",
            " 'value__fft_coefficient__attr_\"angle\"__coeff_89'\n",
            " 'value__fft_coefficient__attr_\"angle\"__coeff_90'\n",
            " 'value__fft_coefficient__attr_\"angle\"__coeff_91'\n",
            " 'value__fft_coefficient__attr_\"angle\"__coeff_92'\n",
            " 'value__fft_coefficient__attr_\"angle\"__coeff_93'\n",
            " 'value__fft_coefficient__attr_\"angle\"__coeff_94'\n",
            " 'value__fft_coefficient__attr_\"angle\"__coeff_95'\n",
            " 'value__fft_coefficient__attr_\"angle\"__coeff_96'\n",
            " 'value__fft_coefficient__attr_\"angle\"__coeff_97'\n",
            " 'value__fft_coefficient__attr_\"angle\"__coeff_98'\n",
            " 'value__fft_coefficient__attr_\"angle\"__coeff_99'\n",
            " 'value__query_similarity_count__query_None__threshold_0.0'] did not have any finite values. Filling with zeros.\n",
            "  warnings.warn(\n"
          ]
        },
        {
          "output_type": "stream",
          "name": "stdout",
          "text": [
            "   value__change_quantiles__f_agg_\"var\"__isabs_True__qh_1.0__ql_0.6  \\\n",
            "0                                       2.003572e-06                  \n",
            "1                                       6.161281e-07                  \n",
            "2                                       1.576832e-06                  \n",
            "3                                       1.831032e-06                  \n",
            "4                                       5.947830e-07                  \n",
            "\n",
            "   value__change_quantiles__f_agg_\"var\"__isabs_True__qh_0.8__ql_0.2  \\\n",
            "0                                       6.368649e-07                  \n",
            "1                                       2.440310e-07                  \n",
            "2                                       7.243013e-07                  \n",
            "3                                       4.431304e-07                  \n",
            "4                                       3.272691e-07                  \n",
            "\n",
            "   value__change_quantiles__f_agg_\"var\"__isabs_False__qh_1.0__ql_0.2  \\\n",
            "0                                           0.000005                   \n",
            "1                                           0.000002                   \n",
            "2                                           0.000003                   \n",
            "3                                           0.000003                   \n",
            "4                                           0.000002                   \n",
            "\n",
            "   value__change_quantiles__f_agg_\"mean\"__isabs_True__qh_1.0__ql_0.2  \\\n",
            "0                                           0.001517                   \n",
            "1                                           0.001062                   \n",
            "2                                           0.001412                   \n",
            "3                                           0.001205                   \n",
            "4                                           0.001053                   \n",
            "\n",
            "   value__change_quantiles__f_agg_\"var\"__isabs_True__qh_1.0__ql_0.2  \\\n",
            "0                                       2.344345e-06                  \n",
            "1                                       7.948448e-07                  \n",
            "2                                       1.176097e-06                  \n",
            "3                                       1.069289e-06                  \n",
            "4                                       6.824330e-07                  \n",
            "\n",
            "   value__change_quantiles__f_agg_\"var\"__isabs_False__qh_0.6__ql_0.4  \\\n",
            "0                                       1.318629e-06                   \n",
            "1                                       5.368966e-08                   \n",
            "2                                       3.731268e-08                   \n",
            "3                                       1.189494e-07                   \n",
            "4                                       4.840200e-08                   \n",
            "\n",
            "   value__change_quantiles__f_agg_\"mean\"__isabs_True__qh_0.6__ql_0.4  \\\n",
            "0                                           0.000936                   \n",
            "1                                           0.000198                   \n",
            "2                                           0.000144                   \n",
            "3                                           0.000234                   \n",
            "4                                           0.000214                   \n",
            "\n",
            "   value__change_quantiles__f_agg_\"var\"__isabs_True__qh_0.6__ql_0.4  \\\n",
            "0                                       4.520684e-07                  \n",
            "1                                       3.533359e-08                  \n",
            "2                                       2.031322e-08                  \n",
            "3                                       6.511606e-08                  \n",
            "4                                       1.571772e-08                  \n",
            "\n",
            "   value__change_quantiles__f_agg_\"var\"__isabs_False__qh_0.8__ql_0.4  \\\n",
            "0                                       2.109719e-06                   \n",
            "1                                       3.412811e-07                   \n",
            "2                                       9.836059e-07                   \n",
            "3                                       8.682530e-07                   \n",
            "4                                       7.246732e-07                   \n",
            "\n",
            "   value__change_quantiles__f_agg_\"mean\"__isabs_True__qh_0.8__ql_0.4  ...  \\\n",
            "0                                           0.001224                  ...   \n",
            "1                                           0.000462                  ...   \n",
            "2                                           0.000787                  ...   \n",
            "3                                           0.000723                  ...   \n",
            "4                                           0.000729                  ...   \n",
            "\n",
            "   value__last_location_of_minimum  \\\n",
            "0                         0.765625   \n",
            "1                         0.539062   \n",
            "2                         0.578125   \n",
            "3                         0.078125   \n",
            "4                         0.664062   \n",
            "\n",
            "   value__fft_coefficient__attr_\"angle\"__coeff_57  \\\n",
            "0                                      111.350023   \n",
            "1                                     -164.862158   \n",
            "2                                      -30.067904   \n",
            "3                                      159.226203   \n",
            "4                                        0.218924   \n",
            "\n",
            "   value__fft_coefficient__attr_\"angle\"__coeff_54  \\\n",
            "0                                       92.616719   \n",
            "1                                      174.274143   \n",
            "2                                      -16.975970   \n",
            "3                                      117.376351   \n",
            "4                                       11.811216   \n",
            "\n",
            "   value__ratio_beyond_r_sigma__r_6  \\\n",
            "0                               0.0   \n",
            "1                               0.0   \n",
            "2                               0.0   \n",
            "3                               0.0   \n",
            "4                               0.0   \n",
            "\n",
            "   value__fft_coefficient__attr_\"imag\"__coeff_22  \\\n",
            "0                                      -0.000445   \n",
            "1                                      -0.006919   \n",
            "2                                       0.018214   \n",
            "3                                       0.010199   \n",
            "4                                      -0.007283   \n",
            "\n",
            "   value__fft_coefficient__attr_\"angle\"__coeff_56  \\\n",
            "0                                      106.226952   \n",
            "1                                     -162.970088   \n",
            "2                                      -36.647181   \n",
            "3                                      157.342419   \n",
            "4                                        0.883800   \n",
            "\n",
            "   value__cwt_coefficients__coeff_6__w_5__widths_(2, 5, 10, 20)  \\\n",
            "0                                           0.007378              \n",
            "1                                           0.004840              \n",
            "2                                          -0.004008              \n",
            "3                                          -0.004865              \n",
            "4                                           0.003763              \n",
            "\n",
            "   value__fft_coefficient__attr_\"angle\"__coeff_58  \\\n",
            "0                                      116.565535   \n",
            "1                                     -165.542588   \n",
            "2                                      -25.524406   \n",
            "3                                      163.199946   \n",
            "4                                       -0.377937   \n",
            "\n",
            "   value__energy_ratio_by_chunks__num_segments_10__segment_focus_2  \\\n",
            "0                                           0.139401                 \n",
            "1                                           0.157085                 \n",
            "2                                           0.051568                 \n",
            "3                                           0.056612                 \n",
            "4                                           0.090822                 \n",
            "\n",
            "   value__lempel_ziv_complexity__bins_2  \n",
            "0                              0.210938  \n",
            "1                              0.226562  \n",
            "2                              0.210938  \n",
            "3                              0.226562  \n",
            "4                              0.218750  \n",
            "\n",
            "[5 rows x 332 columns]\n"
          ]
        }
      ]
    },
    {
      "cell_type": "code",
      "source": [
        "print(len(important_features.columns))"
      ],
      "metadata": {
        "colab": {
          "base_uri": "https://localhost:8080/"
        },
        "collapsed": true,
        "id": "rInCLN4nGbyn",
        "outputId": "aa61de30-2368-4d83-c6b9-799933f2ce1e"
      },
      "execution_count": null,
      "outputs": [
        {
          "output_type": "stream",
          "name": "stdout",
          "text": [
            "332\n"
          ]
        }
      ]
    },
    {
      "cell_type": "markdown",
      "source": [
        "# Selección de features relevantes\n",
        "(Basicamente lo mismo que inspección de features importantes con pasos de más)"
      ],
      "metadata": {
        "id": "i6b0cwqfQEZx"
      }
    },
    {
      "cell_type": "code",
      "source": [
        "import pandas as pd\n",
        "import numpy as np\n",
        "import h5py\n",
        "import tsfresh\n",
        "from tsfresh.feature_selection.relevance import calculate_relevance_table\n",
        "\n",
        "# Calcula la relevancia de cada característica respecto a la variable objetivo\n",
        "relevance_table = calculate_relevance_table(extracted_features, df_y)\n",
        "\n",
        "# Filtra características relevantes\n",
        "relevant_features = relevance_table[relevance_table.relevant].feature\n",
        "\n",
        "# Selecciona solo las características relevantes\n",
        "filtered_features = extracted_features[relevant_features]"
      ],
      "metadata": {
        "id": "0KYM-G0FQEBD"
      },
      "execution_count": null,
      "outputs": []
    },
    {
      "cell_type": "code",
      "source": [
        "# Imprime la tabla de relevancia\n",
        "print(relevance_table)"
      ],
      "metadata": {
        "colab": {
          "base_uri": "https://localhost:8080/"
        },
        "collapsed": true,
        "id": "92_JIBZKUsad",
        "outputId": "d3de5792-a4b6-49e3-dab3-9977f2e82a5c"
      },
      "execution_count": null,
      "outputs": [
        {
          "output_type": "stream",
          "name": "stdout",
          "text": [
            "                                                                                              feature  \\\n",
            "feature                                                                                                 \n",
            "value__change_quantiles__f_agg_\"var\"__isabs_Tru...  value__change_quantiles__f_agg_\"var\"__isabs_Tr...   \n",
            "value__change_quantiles__f_agg_\"var\"__isabs_Tru...  value__change_quantiles__f_agg_\"var\"__isabs_Tr...   \n",
            "value__change_quantiles__f_agg_\"var\"__isabs_Fal...  value__change_quantiles__f_agg_\"var\"__isabs_Fa...   \n",
            "value__change_quantiles__f_agg_\"mean\"__isabs_Tr...  value__change_quantiles__f_agg_\"mean\"__isabs_T...   \n",
            "value__change_quantiles__f_agg_\"var\"__isabs_Tru...  value__change_quantiles__f_agg_\"var\"__isabs_Tr...   \n",
            "...                                                                                               ...   \n",
            "value__value_count__value_0                                               value__value_count__value_0   \n",
            "value__value_count__value_1                                               value__value_count__value_1   \n",
            "value__value_count__value_-1                                             value__value_count__value_-1   \n",
            "value__ratio_beyond_r_sigma__r_10                                   value__ratio_beyond_r_sigma__r_10   \n",
            "value__query_similarity_count__query_None__thre...  value__query_similarity_count__query_None__thr...   \n",
            "\n",
            "                                                        type  p_value  \\\n",
            "feature                                                                 \n",
            "value__change_quantiles__f_agg_\"var\"__isabs_Tru...      real      0.0   \n",
            "value__change_quantiles__f_agg_\"var\"__isabs_Tru...      real      0.0   \n",
            "value__change_quantiles__f_agg_\"var\"__isabs_Fal...      real      0.0   \n",
            "value__change_quantiles__f_agg_\"mean\"__isabs_Tr...      real      0.0   \n",
            "value__change_quantiles__f_agg_\"var\"__isabs_Tru...      real      0.0   \n",
            "...                                                      ...      ...   \n",
            "value__value_count__value_0                         constant      NaN   \n",
            "value__value_count__value_1                         constant      NaN   \n",
            "value__value_count__value_-1                        constant      NaN   \n",
            "value__ratio_beyond_r_sigma__r_10                   constant      NaN   \n",
            "value__query_similarity_count__query_None__thre...  constant      NaN   \n",
            "\n",
            "                                                    relevant  \n",
            "feature                                                       \n",
            "value__change_quantiles__f_agg_\"var\"__isabs_Tru...      True  \n",
            "value__change_quantiles__f_agg_\"var\"__isabs_Tru...      True  \n",
            "value__change_quantiles__f_agg_\"var\"__isabs_Fal...      True  \n",
            "value__change_quantiles__f_agg_\"mean\"__isabs_Tr...      True  \n",
            "value__change_quantiles__f_agg_\"var\"__isabs_Tru...      True  \n",
            "...                                                      ...  \n",
            "value__value_count__value_0                            False  \n",
            "value__value_count__value_1                            False  \n",
            "value__value_count__value_-1                           False  \n",
            "value__ratio_beyond_r_sigma__r_10                      False  \n",
            "value__query_similarity_count__query_None__thre...     False  \n",
            "\n",
            "[783 rows x 4 columns]\n"
          ]
        }
      ]
    },
    {
      "cell_type": "code",
      "source": [
        "# Imprime las dimensiones originales y reducidas\n",
        "print(\"Dimensiones originales:\", extracted_features.shape)\n",
        "print(\"Dimensiones después de la selección de características:\", filtered_features.shape)"
      ],
      "metadata": {
        "colab": {
          "base_uri": "https://localhost:8080/"
        },
        "collapsed": true,
        "id": "Lj5kU5tHUq3g",
        "outputId": "4d7b254f-f81a-44e3-a345-784d0a6f0c91"
      },
      "execution_count": null,
      "outputs": [
        {
          "output_type": "stream",
          "name": "stdout",
          "text": [
            "Dimensiones originales: (7352, 783)\n",
            "Dimensiones después de la selección de características: (7352, 332)\n"
          ]
        }
      ]
    },
    {
      "cell_type": "markdown",
      "source": [
        "# Almacenamiento de features relevantes"
      ],
      "metadata": {
        "id": "F6ejA5NaQ_9J"
      }
    },
    {
      "cell_type": "code",
      "source": [
        "import os\n",
        "\n",
        "# Imprimir el directorio de trabajo actual\n",
        "print(\"Directorio de trabajo actual:\", os.getcwd())"
      ],
      "metadata": {
        "colab": {
          "base_uri": "https://localhost:8080/"
        },
        "collapsed": true,
        "id": "Tk1dDBDYVpDo",
        "outputId": "38cb5c21-063f-4a17-a457-120035674bf0"
      },
      "execution_count": null,
      "outputs": [
        {
          "output_type": "stream",
          "name": "stdout",
          "text": [
            "Directorio de trabajo actual: /content\n"
          ]
        }
      ]
    },
    {
      "cell_type": "code",
      "source": [
        "# Guardar las características extraídas en un archivo CSV\n",
        "filtered_features.to_csv(folder_path + './relevant-features/train/extracted_features.csv', index=False)\n",
        "print(\"Características relevantes extraídas guardadas en 'extracted_features.csv'\")"
      ],
      "metadata": {
        "colab": {
          "base_uri": "https://localhost:8080/"
        },
        "collapsed": true,
        "id": "3VIwNE_kRK_S",
        "outputId": "c9cd2f24-9087-4657-b417-937300b10ffe"
      },
      "execution_count": null,
      "outputs": [
        {
          "output_type": "stream",
          "name": "stdout",
          "text": [
            "Características relevantes extraídas guardadas en 'extracted_features.csv'\n"
          ]
        }
      ]
    },
    {
      "cell_type": "markdown",
      "source": [
        "# Replicamos la generación de los features y selección de features relevantes sobre *df_x*\n",
        "\n",
        "----\n",
        "\n",
        "Recordar que *df_x* es el dataset que contiene la unión de todos los datasets de train.h5, exceptuando el dataset *df_y*\n",
        "\n",
        "## Conversión de la variable *df_x* a un formato compatible con la librería *tsfresh*\n"
      ],
      "metadata": {
        "id": "vDA4kdhGX6jL"
      }
    },
    {
      "cell_type": "code",
      "source": [
        "df_x['id'] = df_x.index\n",
        "long_df_x = df_x.melt(id_vars=['id'], var_name='time', value_name='value')"
      ],
      "metadata": {
        "id": "P3NDEZg9YUf7"
      },
      "execution_count": null,
      "outputs": []
    },
    {
      "cell_type": "markdown",
      "source": [
        "## Generación de features de df_x\n",
        "\n"
      ],
      "metadata": {
        "id": "X6hdph2yfybG"
      }
    },
    {
      "cell_type": "code",
      "source": [
        "from tsfresh import extract_features\n",
        "\n",
        "extracted_features_df_x = extract_features(long_df_x, column_id='id', column_sort='time')"
      ],
      "metadata": {
        "colab": {
          "base_uri": "https://localhost:8080/"
        },
        "collapsed": true,
        "id": "xZ0Gag-tfx8m",
        "outputId": "c24a0f56-e20d-4d3c-d614-1f645d87c9aa"
      },
      "execution_count": null,
      "outputs": [
        {
          "output_type": "stream",
          "name": "stderr",
          "text": [
            "WARNING:tsfresh.feature_extraction.settings:Dependency not available for matrix_profile, this feature will be disabled!\n",
            "Feature Extraction: 100%|██████████| 7352/7352 [2:25:41<00:00,  1.19s/it]\n"
          ]
        }
      ]
    },
    {
      "cell_type": "code",
      "source": [
        "print(extracted_features_df_x.head())"
      ],
      "metadata": {
        "collapsed": true,
        "colab": {
          "base_uri": "https://localhost:8080/"
        },
        "id": "GZqJqeomJkAC",
        "outputId": "cc4d6411-2184-4d8e-bf74-12a57c8f1081"
      },
      "execution_count": null,
      "outputs": [
        {
          "output_type": "stream",
          "name": "stdout",
          "text": [
            "   value__variance_larger_than_standard_deviation  value__has_duplicate_max  \\\n",
            "0                                             0.0                       0.0   \n",
            "1                                             0.0                       0.0   \n",
            "2                                             0.0                       0.0   \n",
            "3                                             0.0                       0.0   \n",
            "4                                             0.0                       0.0   \n",
            "\n",
            "   value__has_duplicate_min  value__has_duplicate  value__sum_values  \\\n",
            "0                       0.0                   1.0         132.913093   \n",
            "1                       0.0                   0.0         128.371393   \n",
            "2                       0.0                   1.0         124.528080   \n",
            "3                       0.0                   1.0         120.814413   \n",
            "4                       0.0                   1.0         123.163131   \n",
            "\n",
            "   value__abs_energy  value__mean_abs_change  value__mean_change  \\\n",
            "0         136.504713                0.004410            0.000082   \n",
            "1         136.273107                0.004435            0.000078   \n",
            "2         136.386582                0.004792            0.000068   \n",
            "3         136.512324                0.004306            0.000072   \n",
            "4         136.395202                0.004204            0.000077   \n",
            "\n",
            "   value__mean_second_derivative_central  value__median  ...  \\\n",
            "0                          -6.453847e-06       0.006529  ...   \n",
            "1                          -8.170152e-07       0.002561  ...   \n",
            "2                           1.738143e-07      -0.000090  ...   \n",
            "3                          -1.013593e-06      -0.002785  ...   \n",
            "4                           1.642550e-06      -0.000587  ...   \n",
            "\n",
            "   value__fourier_entropy__bins_5  value__fourier_entropy__bins_10  \\\n",
            "0                        0.090729                         0.136002   \n",
            "1                        0.090729                         0.136002   \n",
            "2                        0.090729                         0.136002   \n",
            "3                        0.090729                         0.136002   \n",
            "4                        0.090729                         0.136002   \n",
            "\n",
            "   value__fourier_entropy__bins_100  \\\n",
            "0                          0.414868   \n",
            "1                          0.384839   \n",
            "2                          0.414868   \n",
            "3                          0.414868   \n",
            "4                          0.408178   \n",
            "\n",
            "   value__permutation_entropy__dimension_3__tau_1  \\\n",
            "0                                        1.682699   \n",
            "1                                        1.630984   \n",
            "2                                        1.640974   \n",
            "3                                        1.651847   \n",
            "4                                        1.664309   \n",
            "\n",
            "   value__permutation_entropy__dimension_4__tau_1  \\\n",
            "0                                        2.888284   \n",
            "1                                        2.742115   \n",
            "2                                        2.758139   \n",
            "3                                        2.786837   \n",
            "4                                        2.816289   \n",
            "\n",
            "   value__permutation_entropy__dimension_5__tau_1  \\\n",
            "0                                        4.176468   \n",
            "1                                        3.939743   \n",
            "2                                        3.950444   \n",
            "3                                        4.009533   \n",
            "4                                        4.059309   \n",
            "\n",
            "   value__permutation_entropy__dimension_6__tau_1  \\\n",
            "0                                        5.311003   \n",
            "1                                        5.037521   \n",
            "2                                        5.059907   \n",
            "3                                        5.158093   \n",
            "4                                        5.232182   \n",
            "\n",
            "   value__permutation_entropy__dimension_7__tau_1  \\\n",
            "0                                        6.106175   \n",
            "1                                        5.888817   \n",
            "2                                        5.915609   \n",
            "3                                        6.054629   \n",
            "4                                        6.088955   \n",
            "\n",
            "   value__query_similarity_count__query_None__threshold_0.0  \\\n",
            "0                                                0.0          \n",
            "1                                                0.0          \n",
            "2                                                0.0          \n",
            "3                                                0.0          \n",
            "4                                                0.0          \n",
            "\n",
            "   value__mean_n_absolute_max__number_of_maxima_7  \n",
            "0                                        1.022925  \n",
            "1                                        1.023272  \n",
            "2                                        1.025791  \n",
            "3                                        1.025790  \n",
            "4                                        1.024204  \n",
            "\n",
            "[5 rows x 783 columns]\n"
          ]
        }
      ]
    },
    {
      "cell_type": "markdown",
      "source": [
        "## Almacenamos los features de df_x"
      ],
      "metadata": {
        "id": "egv9g-b4D7av"
      }
    },
    {
      "cell_type": "code",
      "source": [
        "# Guardar las características extraídas en un archivo CSV\n",
        "extracted_features_df_x.to_csv(folder_path + './relevant-features/train/extracted_features_df_x.csv', index=False)\n",
        "print(\"Características relevantes extraídas guardadas en 'extracted_features_df_x.csv'\")"
      ],
      "metadata": {
        "colab": {
          "base_uri": "https://localhost:8080/"
        },
        "collapsed": true,
        "id": "FxSCdM5sEECW",
        "outputId": "e51865e2-dc01-4c39-937a-083504a4f58c"
      },
      "execution_count": null,
      "outputs": [
        {
          "output_type": "stream",
          "name": "stdout",
          "text": [
            "Características relevantes extraídas guardadas en 'extracted_features_df_x.csv'\n"
          ]
        }
      ]
    },
    {
      "cell_type": "markdown",
      "source": [
        "## Inspección de features importantes"
      ],
      "metadata": {
        "id": "vVNq-NI5JLct"
      }
    },
    {
      "cell_type": "code",
      "source": [
        "from tsfresh import select_features\n",
        "from tsfresh.utilities.dataframe_functions import impute\n",
        "\n",
        "# Impute missing values\n",
        "impute(extracted_features_df_x)\n",
        "\n",
        "# 'y' is your target variable\n",
        "y = df_y\n",
        "\n",
        "# Selecting important features\n",
        "important_features_df_x = select_features(extracted_features_df_x, y)\n",
        "\n",
        "# Display important features\n",
        "print(important_features_df_x.head())"
      ],
      "metadata": {
        "colab": {
          "base_uri": "https://localhost:8080/"
        },
        "collapsed": true,
        "id": "yT_yEDOhJN9l",
        "outputId": "b14f90d5-350e-421f-c1e2-be6ae4d1eb6e"
      },
      "execution_count": null,
      "outputs": [
        {
          "output_type": "stream",
          "name": "stderr",
          "text": [
            "/usr/local/lib/python3.10/dist-packages/tsfresh/utilities/dataframe_functions.py:198: RuntimeWarning: The columns ['value__query_similarity_count__query_None__threshold_0.0'] did not have any finite values. Filling with zeros.\n",
            "  warnings.warn(\n"
          ]
        },
        {
          "output_type": "stream",
          "name": "stdout",
          "text": [
            "   value__sum_values  \\\n",
            "0         132.913093   \n",
            "1         128.371393   \n",
            "2         124.528080   \n",
            "3         120.814413   \n",
            "4         123.163131   \n",
            "\n",
            "   value__agg_linear_trend__attr_\"rvalue\"__chunk_len_5__f_agg_\"mean\"  \\\n",
            "0                                           0.271820                   \n",
            "1                                           0.272076                   \n",
            "2                                           0.268473                   \n",
            "3                                           0.267168                   \n",
            "4                                           0.263131                   \n",
            "\n",
            "   value__agg_linear_trend__attr_\"rvalue\"__chunk_len_5__f_agg_\"var\"  \\\n",
            "0                                           0.071714                  \n",
            "1                                           0.071790                  \n",
            "2                                           0.071480                  \n",
            "3                                           0.071750                  \n",
            "4                                           0.071279                  \n",
            "\n",
            "   value__agg_linear_trend__attr_\"rvalue\"__chunk_len_10__f_agg_\"max\"  \\\n",
            "0                                           0.281817                   \n",
            "1                                           0.283434                   \n",
            "2                                           0.279563                   \n",
            "3                                           0.278773                   \n",
            "4                                           0.275617                   \n",
            "\n",
            "   value__agg_linear_trend__attr_\"rvalue\"__chunk_len_10__f_agg_\"min\"  \\\n",
            "0                                           0.249042                   \n",
            "1                                           0.248125                   \n",
            "2                                           0.244870                   \n",
            "3                                           0.243944                   \n",
            "4                                           0.239688                   \n",
            "\n",
            "   value__agg_linear_trend__attr_\"rvalue\"__chunk_len_10__f_agg_\"mean\"  \\\n",
            "0                                           0.272688                    \n",
            "1                                           0.272801                    \n",
            "2                                           0.269087                    \n",
            "3                                           0.267886                    \n",
            "4                                           0.263879                    \n",
            "\n",
            "   value__agg_linear_trend__attr_\"rvalue\"__chunk_len_10__f_agg_\"var\"  \\\n",
            "0                                           0.106027                   \n",
            "1                                           0.106198                   \n",
            "2                                           0.106155                   \n",
            "3                                           0.106004                   \n",
            "4                                           0.105517                   \n",
            "\n",
            "   value__fft_coefficient__attr_\"imag\"__coeff_12  \\\n",
            "0                                     -20.602868   \n",
            "1                                     -19.573422   \n",
            "2                                     -21.743097   \n",
            "3                                     -20.347668   \n",
            "4                                     -21.416007   \n",
            "\n",
            "   value__fft_coefficient__attr_\"imag\"__coeff_11  \\\n",
            "0                                      -8.967124   \n",
            "1                                     -10.781352   \n",
            "2                                      -8.046557   \n",
            "3                                      -9.055839   \n",
            "4                                      -9.177116   \n",
            "\n",
            "   value__agg_linear_trend__attr_\"rvalue\"__chunk_len_5__f_agg_\"min\"  ...  \\\n",
            "0                                           0.265166                 ...   \n",
            "1                                           0.264138                 ...   \n",
            "2                                           0.261382                 ...   \n",
            "3                                           0.260030                 ...   \n",
            "4                                           0.255828                 ...   \n",
            "\n",
            "   value__cwt_coefficients__coeff_8__w_5__widths_(2, 5, 10, 20)  \\\n",
            "0                                           0.004444              \n",
            "1                                           0.001824              \n",
            "2                                          -0.005180              \n",
            "3                                          -0.007316              \n",
            "4                                           0.004049              \n",
            "\n",
            "   value__fft_coefficient__attr_\"imag\"__coeff_9  \\\n",
            "0                                     -2.914598   \n",
            "1                                      0.466113   \n",
            "2                                     -2.730865   \n",
            "3                                      0.145416   \n",
            "4                                      1.341513   \n",
            "\n",
            "   value__fft_coefficient__attr_\"angle\"__coeff_18  \\\n",
            "0                                      -69.235241   \n",
            "1                                      127.031648   \n",
            "2                                     -178.826066   \n",
            "3                                      -96.584578   \n",
            "4                                       92.581625   \n",
            "\n",
            "   value__fft_coefficient__attr_\"imag\"__coeff_91  \\\n",
            "0                                       1.175255   \n",
            "1                                       0.851442   \n",
            "2                                       0.486702   \n",
            "3                                       1.096437   \n",
            "4                                       1.174461   \n",
            "\n",
            "   value__fft_coefficient__attr_\"imag\"__coeff_17  \\\n",
            "0                                       8.182584   \n",
            "1                                       7.403119   \n",
            "2                                       7.081295   \n",
            "3                                       7.018832   \n",
            "4                                       6.416855   \n",
            "\n",
            "   value__large_standard_deviation__r_0.4  \\\n",
            "0                                     0.0   \n",
            "1                                     0.0   \n",
            "2                                     0.0   \n",
            "3                                     0.0   \n",
            "4                                     0.0   \n",
            "\n",
            "   value__fft_coefficient__attr_\"angle\"__coeff_23  \\\n",
            "0                                      140.338728   \n",
            "1                                      137.309321   \n",
            "2                                      138.158498   \n",
            "3                                      137.959936   \n",
            "4                                      138.673559   \n",
            "\n",
            "   value__change_quantiles__f_agg_\"mean\"__isabs_False__qh_1.0__ql_0.2  \\\n",
            "0                                           0.001106                    \n",
            "1                                           0.001080                    \n",
            "2                                           0.001100                    \n",
            "3                                           0.001129                    \n",
            "4                                           0.001138                    \n",
            "\n",
            "   value__cwt_coefficients__coeff_6__w_5__widths_(2, 5, 10, 20)  \\\n",
            "0                                           0.007378              \n",
            "1                                           0.004840              \n",
            "2                                          -0.004008              \n",
            "3                                          -0.004865              \n",
            "4                                           0.003763              \n",
            "\n",
            "   value__fft_coefficient__attr_\"angle\"__coeff_4  \n",
            "0                                      46.867650  \n",
            "1                                      46.852195  \n",
            "2                                      45.382258  \n",
            "3                                      44.613677  \n",
            "4                                      45.164561  \n",
            "\n",
            "[5 rows x 645 columns]\n"
          ]
        }
      ]
    },
    {
      "cell_type": "markdown",
      "source": [
        "## Selección de features relevantes de *df_x*"
      ],
      "metadata": {
        "id": "o1LAvFUSga8B"
      }
    },
    {
      "cell_type": "code",
      "source": [
        "import pandas as pd\n",
        "import numpy as np\n",
        "import h5py\n",
        "import tsfresh\n",
        "from tsfresh.feature_selection.relevance import calculate_relevance_table\n",
        "\n",
        "# Calcula la relevancia de cada característica respecto a la variable objetivo\n",
        "relevance_table_df_x = calculate_relevance_table(extracted_features_df_x, df_y)\n",
        "\n",
        "# Filtra características relevantes\n",
        "relevant_features_df_x = relevance_table_df_x[relevance_table_df_x.relevant].feature\n",
        "\n",
        "# Selecciona solo las características relevantes\n",
        "filtered_features_df_x = extracted_features_df_x[relevant_features_df_x]"
      ],
      "metadata": {
        "id": "7JYWymgrZM-i"
      },
      "execution_count": null,
      "outputs": []
    },
    {
      "cell_type": "markdown",
      "source": [
        "## Almacenamiento de features relevantes de *df_x*"
      ],
      "metadata": {
        "id": "7RCBjGeHgiO6"
      }
    },
    {
      "cell_type": "code",
      "source": [
        "# Guardar las características extraídas en un archivo CSV\n",
        "filtered_features_df_x.to_csv(folder_path + './relevant-features/train/filtered_features_df_x.csv', index=False)\n",
        "print(\"Características relevantes extraídas guardadas en 'filtered_features_df_x.csv'\")"
      ],
      "metadata": {
        "colab": {
          "base_uri": "https://localhost:8080/"
        },
        "collapsed": true,
        "id": "JJzXfjoziwhq",
        "outputId": "22eebed1-8957-4adf-d6aa-62495575dfbe"
      },
      "execution_count": null,
      "outputs": [
        {
          "output_type": "stream",
          "name": "stdout",
          "text": [
            "Características relevantes extraídas guardadas en 'filtered_features_df_x.csv'\n"
          ]
        }
      ]
    },
    {
      "cell_type": "markdown",
      "source": [
        "# Asignación de variables a los datasets del archivo test.h5"
      ],
      "metadata": {
        "id": "UlsiXLABKSyS"
      }
    },
    {
      "cell_type": "code",
      "source": [
        "import numpy as np\n",
        "import pandas as pd\n",
        "import h5py\n",
        "\n",
        "# Ruta al archivo h5 test\n",
        "with h5py.File(test_path, 'r') as f:\n",
        "    # Lee los dataset 'x' y los convierte a DataFrames de pandas\n",
        "    df_body_acc_x = pd.DataFrame(f['body_acc_x'][:])\n",
        "    df_body_acc_y = pd.DataFrame(f['body_acc_y'][:])\n",
        "    df_body_acc_z = pd.DataFrame(f['body_acc_z'][:])\n",
        "    df_body_gyro_x = pd.DataFrame(f['body_gyro_x'][:])\n",
        "    df_body_gyro_y = pd.DataFrame(f['body_gyro_y'][:])\n",
        "    df_body_gyro_z = pd.DataFrame(f['body_gyro_z'][:])\n",
        "    df_total_acc_x = pd.DataFrame(f['total_acc_x'][:])\n",
        "    df_total_acc_y = pd.DataFrame(f['total_acc_y'][:])\n",
        "    df_total_acc_z = pd.DataFrame(f['total_acc_z'][:])\n",
        "\n",
        "# Imprime las dimensiones de los DataFrames\n",
        "print(\"Dimensiones de body_acc_x:\", df_body_acc_x.shape)\n",
        "print(\"Dimensiones de body_acc_y:\", df_body_acc_y.shape)\n",
        "print(\"Dimensiones de body_acc_z:\", df_body_acc_z.shape)\n",
        "print(\"Dimensiones de body_gyro_x:\", df_body_gyro_x.shape)\n",
        "print(\"Dimensiones de body_gyro_y:\", df_body_gyro_y.shape)\n",
        "print(\"Dimensiones de body_gyro_z:\", df_body_gyro_z.shape)\n",
        "print(\"Dimensiones de total_acc_x:\", df_total_acc_x.shape)\n",
        "print(\"Dimensiones de total_acc_y:\", df_total_acc_y.shape)\n",
        "print(\"Dimensiones de total_acc_z:\", df_total_acc_z.shape)\n",
        "\n",
        "# Imprime los primeros elementos de los DataFrames\n",
        "# print(\"Primeros elementos de df_body_acc_x:\", df_body_acc_x.head())"
      ],
      "metadata": {
        "colab": {
          "base_uri": "https://localhost:8080/"
        },
        "collapsed": true,
        "id": "DFgwzouOK1_7",
        "outputId": "417337c9-0ec7-4214-b0e2-e7b952a18e8e"
      },
      "execution_count": null,
      "outputs": [
        {
          "output_type": "stream",
          "name": "stdout",
          "text": [
            "Dimensiones de body_acc_x: (2947, 128)\n",
            "Dimensiones de body_acc_y: (2947, 128)\n",
            "Dimensiones de body_acc_z: (2947, 128)\n",
            "Dimensiones de body_gyro_x: (2947, 128)\n",
            "Dimensiones de body_gyro_y: (2947, 128)\n",
            "Dimensiones de body_gyro_z: (2947, 128)\n",
            "Dimensiones de total_acc_x: (2947, 128)\n",
            "Dimensiones de total_acc_y: (2947, 128)\n",
            "Dimensiones de total_acc_z: (2947, 128)\n"
          ]
        }
      ]
    },
    {
      "cell_type": "markdown",
      "source": [
        "## Unimos los datasets del archivo test.h5 en uno solo, exceptuando el dataset y\n",
        "La unión de los datasets dará como resultado una matriz la cual funcionará como nuestro X. Recordar que al usar la función `concat` los keys de las columnas serán las mismas de los datasets a los que pertenecieron. Optaremos por reescribir los keys, solo para prevenir posibles errores que podrían aparecer al trabajar con la libreria `tsfresh`\n"
      ],
      "metadata": {
        "id": "3mJhmJTSLC-7"
      }
    },
    {
      "cell_type": "code",
      "source": [
        "df_x = pd.concat([df_body_acc_x, df_body_acc_y, df_body_acc_z,\n",
        "                  df_body_gyro_x, df_body_gyro_y, df_body_gyro_z,\n",
        "                  df_total_acc_x, df_total_acc_y, df_total_acc_z], axis=1)\n",
        "df_x.columns = range(df_x.shape[1])"
      ],
      "metadata": {
        "id": "nIF9WYOgLS_s"
      },
      "execution_count": null,
      "outputs": []
    },
    {
      "cell_type": "code",
      "source": [
        "print(df_x.shape)"
      ],
      "metadata": {
        "colab": {
          "base_uri": "https://localhost:8080/"
        },
        "id": "GRuPA6jNO6xI",
        "outputId": "4e1cd511-158a-4734-aaef-60b55da422cb"
      },
      "execution_count": null,
      "outputs": [
        {
          "output_type": "stream",
          "name": "stdout",
          "text": [
            "(2947, 1152)\n"
          ]
        }
      ]
    },
    {
      "cell_type": "markdown",
      "source": [
        "## Conversión de la variable *df_x* a un formato compatible con la librería *tsfresh*"
      ],
      "metadata": {
        "id": "BFN6dHqyLUii"
      }
    },
    {
      "cell_type": "code",
      "source": [
        "df_x['id'] = df_x.index\n",
        "long_df_x = df_x.melt(id_vars=['id'], var_name='time', value_name='value')"
      ],
      "metadata": {
        "id": "6dbOZsLQML-X"
      },
      "execution_count": null,
      "outputs": []
    },
    {
      "cell_type": "markdown",
      "source": [
        "## Generación de features de df_x"
      ],
      "metadata": {
        "id": "pQPpmwi5MWTE"
      }
    },
    {
      "cell_type": "code",
      "source": [
        "from tsfresh import extract_features\n",
        "\n",
        "extracted_features_df_x = extract_features(long_df_x, column_id='id', column_sort='time')"
      ],
      "metadata": {
        "colab": {
          "base_uri": "https://localhost:8080/"
        },
        "id": "BtzC6vJwMYsc",
        "outputId": "10202796-1d33-4b87-a0c8-7ccec2ab2eb1"
      },
      "execution_count": null,
      "outputs": [
        {
          "output_type": "stream",
          "name": "stderr",
          "text": [
            "WARNING:tsfresh.feature_extraction.settings:Dependency not available for matrix_profile, this feature will be disabled!\n",
            "Feature Extraction: 100%|██████████| 2947/2947 [58:09<00:00,  1.18s/it]\n"
          ]
        }
      ]
    },
    {
      "cell_type": "code",
      "source": [
        "print(extracted_features_df_x.shape)"
      ],
      "metadata": {
        "colab": {
          "base_uri": "https://localhost:8080/"
        },
        "id": "r1dJGGp5bKbu",
        "outputId": "8db63bc1-7ecf-47df-d2b4-0c4f2b157fba"
      },
      "execution_count": null,
      "outputs": [
        {
          "output_type": "stream",
          "name": "stdout",
          "text": [
            "(2947, 783)\n"
          ]
        }
      ]
    },
    {
      "cell_type": "markdown",
      "source": [
        "## Almacenamos los features de df_x"
      ],
      "metadata": {
        "id": "QuGtg1XDbN8M"
      }
    },
    {
      "cell_type": "code",
      "source": [
        "# Guardar las características extraídas en un archivo CSV\n",
        "extracted_features_df_x.to_csv(folder_path + './relevant-features/test/extracted_features_df_x.csv', index=False)\n",
        "print(\"Características relevantes extraídas guardadas en 'extracted_features_df_x.csv'\")"
      ],
      "metadata": {
        "colab": {
          "base_uri": "https://localhost:8080/"
        },
        "id": "RWGcx769bR7Z",
        "outputId": "f8074d85-02d7-4f26-f5b4-838f8bc4e383"
      },
      "execution_count": null,
      "outputs": [
        {
          "output_type": "stream",
          "name": "stdout",
          "text": [
            "Características relevantes extraídas guardadas en 'extracted_features_df_x.csv'\n"
          ]
        }
      ]
    },
    {
      "cell_type": "markdown",
      "source": [
        "## Selección de features relevantes de *df_x*"
      ],
      "metadata": {
        "id": "Ocku8UVvbhkc"
      }
    },
    {
      "cell_type": "code",
      "source": [
        "import pandas as pd\n",
        "import numpy as np\n",
        "import h5py\n",
        "import tsfresh\n",
        "from tsfresh.feature_selection.relevance import calculate_relevance_table\n",
        "\n",
        "# Impute missing values\n",
        "# impute(extracted_features_df_x)\n",
        "\n",
        "# Trabajamos con el relevance_table_df_x del df_x del training. Filtra características relevantes\n",
        "relevant_features_df_x = relevance_table_df_x[relevance_table_df_x.relevant].feature\n",
        "\n",
        "# Selecciona solo las características relevantes\n",
        "filtered_features_df_x = extracted_features_df_x[relevant_features_df_x]"
      ],
      "metadata": {
        "id": "DhlPDiZgblIj"
      },
      "execution_count": null,
      "outputs": []
    },
    {
      "cell_type": "code",
      "source": [
        "print(filtered_features_df_x)"
      ],
      "metadata": {
        "colab": {
          "base_uri": "https://localhost:8080/"
        },
        "collapsed": true,
        "id": "tSz7b6JFe-Z1",
        "outputId": "afeef50f-7b1c-4fb0-f7a7-6e6fce238447"
      },
      "execution_count": null,
      "outputs": [
        {
          "output_type": "stream",
          "name": "stdout",
          "text": [
            "      value__sum_values  \\\n",
            "0            138.061978   \n",
            "1            113.080511   \n",
            "2            104.053698   \n",
            "3            100.892873   \n",
            "4             98.442652   \n",
            "...                 ...   \n",
            "2942          55.563126   \n",
            "2943          78.381714   \n",
            "2944          77.508492   \n",
            "2945          50.515193   \n",
            "2946          40.550878   \n",
            "\n",
            "      value__agg_linear_trend__attr_\"rvalue\"__chunk_len_5__f_agg_\"mean\"  \\\n",
            "0                                              0.200160                   \n",
            "1                                              0.223306                   \n",
            "2                                              0.229066                   \n",
            "3                                              0.222288                   \n",
            "4                                              0.214707                   \n",
            "...                                                 ...                   \n",
            "2942                                           0.031808                   \n",
            "2943                                           0.005777                   \n",
            "2944                                           0.035347                   \n",
            "2945                                           0.078120                   \n",
            "2946                                           0.065276                   \n",
            "\n",
            "      value__agg_linear_trend__attr_\"rvalue\"__chunk_len_5__f_agg_\"var\"  \\\n",
            "0                                              0.061725                  \n",
            "1                                              0.077459                  \n",
            "2                                              0.079855                  \n",
            "3                                              0.078186                  \n",
            "4                                              0.078898                  \n",
            "...                                                 ...                  \n",
            "2942                                           0.015096                  \n",
            "2943                                           0.010990                  \n",
            "2944                                          -0.004356                  \n",
            "2945                                           0.009530                  \n",
            "2946                                           0.015255                  \n",
            "\n",
            "      value__agg_linear_trend__attr_\"rvalue\"__chunk_len_10__f_agg_\"max\"  \\\n",
            "0                                              0.198871                   \n",
            "1                                              0.235765                   \n",
            "2                                              0.248764                   \n",
            "3                                              0.240935                   \n",
            "4                                              0.235234                   \n",
            "...                                                 ...                   \n",
            "2942                                          -0.002775                   \n",
            "2943                                          -0.030644                   \n",
            "2944                                           0.027767                   \n",
            "2945                                           0.047356                   \n",
            "2946                                           0.044101                   \n",
            "\n",
            "      value__agg_linear_trend__attr_\"rvalue\"__chunk_len_10__f_agg_\"min\"  \\\n",
            "0                                              0.190639                   \n",
            "1                                              0.199537                   \n",
            "2                                              0.199887                   \n",
            "3                                              0.193453                   \n",
            "4                                              0.185855                   \n",
            "...                                                 ...                   \n",
            "2942                                           0.034721                   \n",
            "2943                                           0.018993                   \n",
            "2944                                           0.029023                   \n",
            "2945                                           0.075652                   \n",
            "2946                                           0.073870                   \n",
            "\n",
            "      value__agg_linear_trend__attr_\"rvalue\"__chunk_len_10__f_agg_\"mean\"  \\\n",
            "0                                              0.202610                    \n",
            "1                                              0.225612                    \n",
            "2                                              0.231509                    \n",
            "3                                              0.224376                    \n",
            "4                                              0.217030                    \n",
            "...                                                 ...                    \n",
            "2942                                           0.027830                    \n",
            "2943                                          -0.004194                    \n",
            "2944                                           0.036218                    \n",
            "2945                                           0.076408                    \n",
            "2946                                           0.067228                    \n",
            "\n",
            "      value__agg_linear_trend__attr_\"rvalue\"__chunk_len_10__f_agg_\"var\"  \\\n",
            "0                                              0.097057                   \n",
            "1                                              0.109643                   \n",
            "2                                              0.113676                   \n",
            "3                                              0.113529                   \n",
            "4                                              0.113361                   \n",
            "...                                                 ...                   \n",
            "2942                                           0.023845                   \n",
            "2943                                           0.005997                   \n",
            "2944                                           0.051752                   \n",
            "2945                                           0.034642                   \n",
            "2946                                           0.022677                   \n",
            "\n",
            "      value__fft_coefficient__attr_\"imag\"__coeff_12  \\\n",
            "0                                        -20.338184   \n",
            "1                                        -23.577132   \n",
            "2                                        -16.775056   \n",
            "3                                        -20.191238   \n",
            "4                                        -18.511023   \n",
            "...                                             ...   \n",
            "2942                                     -21.867240   \n",
            "2943                                       4.335237   \n",
            "2944                                     -49.548912   \n",
            "2945                                     -34.743338   \n",
            "2946                                     -40.975823   \n",
            "\n",
            "      value__fft_coefficient__attr_\"imag\"__coeff_11  \\\n",
            "0                                         -1.442537   \n",
            "1                                         -9.765237   \n",
            "2                                        -12.477859   \n",
            "3                                         -9.888423   \n",
            "4                                        -11.136610   \n",
            "...                                             ...   \n",
            "2942                                       3.205263   \n",
            "2943                                     -72.760361   \n",
            "2944                                     -15.006725   \n",
            "2945                                     -24.872713   \n",
            "2946                                     -21.943771   \n",
            "\n",
            "      value__agg_linear_trend__attr_\"rvalue\"__chunk_len_5__f_agg_\"min\"  ...  \\\n",
            "0                                              0.201123                 ...   \n",
            "1                                              0.217515                 ...   \n",
            "2                                              0.219988                 ...   \n",
            "3                                              0.214443                 ...   \n",
            "4                                              0.206170                 ...   \n",
            "...                                                 ...                 ...   \n",
            "2942                                           0.047843                 ...   \n",
            "2943                                           0.008205                 ...   \n",
            "2944                                           0.047306                 ...   \n",
            "2945                                           0.090185                 ...   \n",
            "2946                                           0.078181                 ...   \n",
            "\n",
            "      value__cwt_coefficients__coeff_8__w_5__widths_(2, 5, 10, 20)  \\\n",
            "0                                             -0.103849              \n",
            "1                                              0.053814              \n",
            "2                                              0.001605              \n",
            "3                                              0.004502              \n",
            "4                                              0.011867              \n",
            "...                                                 ...              \n",
            "2942                                           0.704798              \n",
            "2943                                           0.554681              \n",
            "2944                                          -0.283882              \n",
            "2945                                          -0.558328              \n",
            "2946                                          -0.322932              \n",
            "\n",
            "      value__fft_coefficient__attr_\"imag\"__coeff_9  \\\n",
            "0                                        -6.314034   \n",
            "1                                        -7.162639   \n",
            "2                                         1.381972   \n",
            "3                                        -3.462382   \n",
            "4                                         1.084988   \n",
            "...                                            ...   \n",
            "2942                                      7.657997   \n",
            "2943                                     14.934341   \n",
            "2944                                    -14.455643   \n",
            "2945                                     -5.421481   \n",
            "2946                                     -5.511407   \n",
            "\n",
            "      value__fft_coefficient__attr_\"angle\"__coeff_18  \\\n",
            "0                                         -54.211668   \n",
            "1                                         -99.247461   \n",
            "2                                        -139.478182   \n",
            "3                                        -136.908595   \n",
            "4                                          47.206893   \n",
            "...                                              ...   \n",
            "2942                                     -124.303018   \n",
            "2943                                     -147.347825   \n",
            "2944                                      179.384188   \n",
            "2945                                      141.611412   \n",
            "2946                                      124.065880   \n",
            "\n",
            "      value__fft_coefficient__attr_\"imag\"__coeff_91  \\\n",
            "0                                          0.468716   \n",
            "1                                          0.254559   \n",
            "2                                          0.797902   \n",
            "3                                          0.957317   \n",
            "4                                          0.790854   \n",
            "...                                             ...   \n",
            "2942                                      -3.668478   \n",
            "2943                                      10.687604   \n",
            "2944                                       8.032406   \n",
            "2945                                      -4.758079   \n",
            "2946                                       3.547173   \n",
            "\n",
            "      value__fft_coefficient__attr_\"imag\"__coeff_17  \\\n",
            "0                                         12.674895   \n",
            "1                                          7.070525   \n",
            "2                                          5.788681   \n",
            "3                                          5.778350   \n",
            "4                                          5.364219   \n",
            "...                                             ...   \n",
            "2942                                      42.415961   \n",
            "2943                                      31.587090   \n",
            "2944                                      -1.109620   \n",
            "2945                                     -19.986014   \n",
            "2946                                     -30.311909   \n",
            "\n",
            "      value__large_standard_deviation__r_0.4  \\\n",
            "0                                        0.0   \n",
            "1                                        0.0   \n",
            "2                                        0.0   \n",
            "3                                        0.0   \n",
            "4                                        0.0   \n",
            "...                                      ...   \n",
            "2942                                     0.0   \n",
            "2943                                     0.0   \n",
            "2944                                     0.0   \n",
            "2945                                     0.0   \n",
            "2946                                     0.0   \n",
            "\n",
            "      value__fft_coefficient__attr_\"angle\"__coeff_23  \\\n",
            "0                                         129.469562   \n",
            "1                                         133.890734   \n",
            "2                                         139.234575   \n",
            "3                                         139.365762   \n",
            "4                                         134.229739   \n",
            "...                                              ...   \n",
            "2942                                      106.925707   \n",
            "2943                                      163.169055   \n",
            "2944                                      164.874745   \n",
            "2945                                      174.613173   \n",
            "2946                                      144.210373   \n",
            "\n",
            "      value__change_quantiles__f_agg_\"mean\"__isabs_False__qh_1.0__ql_0.2  \\\n",
            "0                                              0.000424                    \n",
            "1                                              0.001165                    \n",
            "2                                              0.001093                    \n",
            "3                                              0.001135                    \n",
            "4                                              0.001102                    \n",
            "...                                                 ...                    \n",
            "2942                                          -0.001856                    \n",
            "2943                                          -0.001330                    \n",
            "2944                                           0.000611                    \n",
            "2945                                           0.001604                    \n",
            "2946                                           0.001761                    \n",
            "\n",
            "      value__cwt_coefficients__coeff_6__w_5__widths_(2, 5, 10, 20)  \\\n",
            "0                                             -0.065101              \n",
            "1                                              0.051892              \n",
            "2                                              0.004273              \n",
            "3                                             -0.000108              \n",
            "4                                              0.004369              \n",
            "...                                                 ...              \n",
            "2942                                           0.908554              \n",
            "2943                                           0.135135              \n",
            "2944                                          -0.310166              \n",
            "2945                                          -0.440582              \n",
            "2946                                          -0.089278              \n",
            "\n",
            "      value__fft_coefficient__attr_\"angle\"__coeff_4  \n",
            "0                                         56.045463  \n",
            "1                                         51.575319  \n",
            "2                                         49.202907  \n",
            "3                                         46.648380  \n",
            "4                                         46.719735  \n",
            "...                                             ...  \n",
            "2942                                      27.752038  \n",
            "2943                                      47.084691  \n",
            "2944                                      12.991244  \n",
            "2945                                      25.623421  \n",
            "2946                                      34.824930  \n",
            "\n",
            "[2947 rows x 645 columns]\n"
          ]
        }
      ]
    },
    {
      "cell_type": "markdown",
      "source": [
        "## Almacenamiento de features relevantes de *df_x*"
      ],
      "metadata": {
        "id": "mfuXY6OHbqun"
      }
    },
    {
      "cell_type": "code",
      "source": [
        "# Guardar las características extraídas en un archivo CSV\n",
        "filtered_features_df_x.to_csv(folder_path + './relevant-features/test/filtered_features_df_x.csv', index=False)\n",
        "print(\"Características relevantes extraídas guardadas en 'filtered_features_df_x.csv'\")"
      ],
      "metadata": {
        "colab": {
          "base_uri": "https://localhost:8080/"
        },
        "id": "0hn3yjZybrhd",
        "outputId": "6345bc1b-5c90-416e-c3c2-d4e40c447b53"
      },
      "execution_count": null,
      "outputs": [
        {
          "output_type": "stream",
          "name": "stdout",
          "text": [
            "Características relevantes extraídas guardadas en 'filtered_features_df_x.csv'\n"
          ]
        }
      ]
    },
    {
      "cell_type": "markdown",
      "source": [
        "# Modelo Hard SVM"
      ],
      "metadata": {
        "id": "6-A4cbq3i8Hg"
      }
    },
    {
      "cell_type": "markdown",
      "source": [
        "## Librerias necesarias"
      ],
      "metadata": {
        "id": "4l9ERHr-jXJk"
      }
    },
    {
      "cell_type": "code",
      "source": [
        "import numpy as np\n",
        "import matplotlib.pyplot as plt\n",
        "import pandas as pd\n",
        "import cvxopt\n",
        "import math\n",
        "from sklearn.model_selection import train_test_split\n",
        "from sklearn.metrics import confusion_matrix\n",
        "from sklearn import metrics"
      ],
      "metadata": {
        "id": "JbUTvn5xjFvu"
      },
      "execution_count": null,
      "outputs": []
    },
    {
      "cell_type": "markdown",
      "source": [
        "## Multiplicadores de Lagrange\n",
        "\n",
        "----\n",
        "\n",
        "$\\frac{\\partial f(x)}{ \\partial x} = \\lambda \\frac{\\partial g(  x)}{ \\partial x}$\n",
        "\n",
        "----\n",
        "Encontrar los valores de $λ_i$ para cada elemento $X_i$ de training.\n",
        "\n",
        "La función ***GetLambda*** retorna un vector que llamaremos \\lambda (vector con los multiplicadores de lagrange), tal que $λ[i]$ será $0$, si el elemento $X[i]$ no se intersecta con cualquiera de las lineas rectas $XW^T + b >=1$ o $XW^T + b >=0$\n",
        "\n",
        "Nota: $X$ es una matriz, por lo tanto $X_i$ será un vector $K$-dimensional que represente el  $i$-ésimo objeto o punto $k$-dimensional, y  $X_{ij}$ es the $j$-ésimo elemento de el $i$-ésimo objeto.\n",
        "\n",
        "----\n"
      ],
      "metadata": {
        "id": "umSFTncdjTGI"
      }
    },
    {
      "cell_type": "code",
      "source": [
        "import numpy as np\n",
        "from cvxopt import matrix, solvers\n",
        "\n",
        "def GetLambda(X, y):\n",
        "    n, m = X.shape\n",
        "    y = y.astype(float)\n",
        "    K = np.dot(X, X.T) * np.dot(y, y.T)  # Kernel\n",
        "    P = matrix(K)\n",
        "    q = matrix(-np.ones(n))\n",
        "    G = matrix(-np.eye(n))\n",
        "    h = matrix(np.zeros(n))\n",
        "    A = matrix(y.values.reshape(1, -1))\n",
        "    b = matrix(np.zeros(1))\n",
        "    sol = solvers.qp(P, q, G, h, A, b)\n",
        "    alpha = np.array(sol['x'])\n",
        "    return alpha\n"
      ],
      "metadata": {
        "id": "gDgTzEfpjZhm"
      },
      "execution_count": null,
      "outputs": []
    },
    {
      "cell_type": "markdown",
      "source": [
        "## Cálculo de los pesos de W\n",
        "\n",
        "----\n",
        "\n",
        "$W_j = \\sum_{i=0}^n \\lambda_iy_ix_{ij}$  \n",
        "\n",
        "----\n",
        "Donde: $λ_i$ representa el $i$-ésimo multiplicador de lagrange, $W_j$ es el $j$-ésimo peso, $x_{ij}$ representa el valor del feature $(j)$ del $(i)-ésimo$ objeto de training, y $y_i$ el el output esperado (1 or -1) para el $i$-ésimimo objeto.\n",
        "\n",
        "$W_j = \\sum_{i=0}^n \\lambda_iy_ix_{ij}$  \n",
        "Notar que la sumatoria solo incluye elementos para el cual el multiplicador de Lagrange $\\lambda_i$ es distinto de cero.\n",
        "\n",
        "----"
      ],
      "metadata": {
        "id": "m-h9QQ1yjZLt"
      }
    },
    {
      "cell_type": "code",
      "source": [
        "def Get_W(X, Y, lambda_list):\n",
        "    W = np.sum(lambda_list[:len(X)] * Y.values * X.values, axis=0)\n",
        "    return W"
      ],
      "metadata": {
        "id": "_aRmpfR1kcKr"
      },
      "execution_count": null,
      "outputs": []
    },
    {
      "cell_type": "markdown",
      "source": [
        "## Encontrando el Bias (b)\n",
        "\n",
        "$XW^t + b = 0$\n",
        "\n",
        "$b = - \\frac{1}{n}∑_{i=0}^n X_iW^t$\n",
        "\n",
        "Donde $X_i$ es un vector $k$-dimensional vector que representa al $i$-ésimo objeto, y $k$ es el número de features del objeto."
      ],
      "metadata": {
        "id": "nBDrd6stkiot"
      }
    },
    {
      "cell_type": "code",
      "source": [
        "def Get_b(X,W):\n",
        "  return -np.sum(np.dot(X,W.T))/len(X)"
      ],
      "metadata": {
        "id": "DCp6D05Bkoby"
      },
      "execution_count": null,
      "outputs": []
    },
    {
      "cell_type": "markdown",
      "source": [
        "## Etapa de Testing\n",
        "\n",
        "----\n",
        "Para esta etapa, uno debe solo calcular :\n",
        "\n",
        "- $f(X_j) = X_jW^t + b$\n",
        "\n",
        "Pero dado que nosotros ya tenemos calculados los valores de los parámetros $W$ y $b$, entonces por sustitución tenemos:\n",
        "\n",
        "- $f(X_j) = \\sum_{i=0}^n \\lambda_iy_i<X_{i},X_{j}> + b$\n",
        "\n",
        "Donde: $X_i$ es el $i$-ésimo vector de entrenamiento y $X_j$ es el nuevo vector que pasa a través del modelo para predecir la clase (1 or -1)\n",
        "\n",
        "Finalmente, para determinar a cual clase el nuevo vector $X_j$ pertenece, basta con revisar el signo de f(X_j).\n",
        "\n",
        "- **Si $f(X_j) >=0$ entonces $Y_j$ = 1 caso contrario $Y_j = -1$**\n",
        "  \n",
        "-----"
      ],
      "metadata": {
        "id": "F_WjMk_skrU8"
      }
    },
    {
      "cell_type": "code",
      "source": [
        "def Test(X,W,b):\n",
        "  f_values = np.dot(X,W.T) + b\n",
        "  y_pred = np.where(f_values >= 0, 1, -1)\n",
        "  return y_pred"
      ],
      "metadata": {
        "id": "yFnYlBUtkw3I"
      },
      "execution_count": null,
      "outputs": []
    },
    {
      "cell_type": "markdown",
      "source": [
        "# Creación de csvs de los y\n",
        "\n",
        "Sea RESTO = WALKING_UPSTAIRS, WALKING_DOWNSTAIRS, SITTING, STANDING, LAYING\n",
        "- y1: 1 = WALKING y -1 = RESTO\n",
        "\n",
        "Sea RESTO = WALKING, WALKING_DOWNSTAIRS, SITTING, STANDING, LAYING\n",
        "- y2: 1 = WALKING_UPSTAIRS y -1 = RESTO\n",
        "\n",
        "Sea RESTO = WALKING, WALKING_UPSTAIRS, SITTING, STANDING, LAYING\n",
        "- y3: 1 = WALKING_DOWNSTAIRS y -1 = RESTO\n",
        "\n",
        "Sea RESTO = WALKING, WALKING_UPSTAIRS, WALKING_DOWNSTAIRS, STANDING, LAYING\n",
        "- y4: 1 = SITTING y -1 = RESTO\n",
        "\n",
        "Sea RESTO = WALKING, WALKING_UPSTAIRS, WALKING_DOWNSTAIRS, SITTING, LAYING\n",
        "- y5: 1 = STANDING y -1 = RESTO\n",
        "\n",
        "Sea RESTO = WALKING, WALKING_UPSTAIRS, WALKING_DOWNSTAIRS, SITTING, STANDING\n",
        "- y6: 1 = LAYING y -1 = RESTO"
      ],
      "metadata": {
        "id": "5d5ANGf_ySC_"
      }
    },
    {
      "cell_type": "code",
      "source": [
        "df_y1 = df_y.apply(lambda x: 1 if x == 1 else -1)\n",
        "df_y2 = df_y.apply(lambda x: 1 if x == 2 else -1)\n",
        "df_y3 = df_y.apply(lambda x: 1 if x == 3 else -1)\n",
        "df_y4 = df_y.apply(lambda x: 1 if x == 4 else -1)\n",
        "df_y5 = df_y.apply(lambda x: 1 if x == 5 else -1)\n",
        "df_y6 = df_y.apply(lambda x: 1 if x == 6 else -1)"
      ],
      "metadata": {
        "id": "URELTlAs16xn"
      },
      "execution_count": null,
      "outputs": []
    },
    {
      "cell_type": "markdown",
      "source": [
        "# Predicción\n",
        "## Predicción de los y1"
      ],
      "metadata": {
        "id": "zgQu_xlElCrT"
      }
    },
    {
      "cell_type": "code",
      "source": [
        "import pandas as pd\n",
        "import numpy as np\n",
        "\n",
        "# Ruta a los archivos h5 en Google Drive\n",
        "feature_vectors_path = '/content/drive/My Drive/Machine Learning/project-2-classification-d1/relevant-features'\n",
        "\n",
        "train_df_x_path = feature_vectors_path + '/train/filtered_features_df_x.csv'\n",
        "test_df_x_path = feature_vectors_path + '/test/filtered_features_df_x.csv'\n",
        "\n",
        "df_x_train = pd.read_csv(train_df_x_path)\n",
        "df_x_test = pd.read_csv(test_df_x_path)"
      ],
      "metadata": {
        "id": "N6jqUxp7ppo2"
      },
      "execution_count": null,
      "outputs": []
    },
    {
      "cell_type": "code",
      "source": [
        "y1_train = df_y1.to_frame()\n",
        "y2_train = df_y2.to_frame()\n",
        "y3_train = df_y3.to_frame()\n",
        "y4_train = df_y4.to_frame()\n",
        "y5_train = df_y5.to_frame()\n",
        "y6_train = df_y6.to_frame()"
      ],
      "metadata": {
        "id": "-mjNr4FJ3zK4"
      },
      "execution_count": null,
      "outputs": []
    },
    {
      "cell_type": "code",
      "source": [
        "X_train = df_x_train\n",
        "X_test = df_x_test\n",
        "Y_train = y1_train"
      ],
      "metadata": {
        "id": "iCmUzitK3qfs"
      },
      "execution_count": null,
      "outputs": []
    },
    {
      "cell_type": "code",
      "source": [
        "lambda_list = GetLambda(X_train,Y_train)\n",
        "sv = lambda_list > 1e-5"
      ],
      "metadata": {
        "colab": {
          "base_uri": "https://localhost:8080/"
        },
        "id": "9b0UECzXwAy8",
        "outputId": "a25e7000-59e6-4cf5-bcf9-a2ed1f45542e"
      },
      "execution_count": null,
      "outputs": [
        {
          "output_type": "stream",
          "name": "stdout",
          "text": [
            "     pcost       dcost       gap    pres   dres\n",
            " 0: -3.3469e+02 -8.5828e+02  4e+04  2e+02  2e+00\n",
            " 1: -5.2216e+02 -5.7287e+02  2e+04  7e+01  8e-01\n",
            " 2: -1.6426e+02 -7.4853e+01  4e+03  1e+01  2e-01\n",
            " 3: -4.1092e+01 -1.1439e+01  7e+02  3e+00  3e-02\n",
            " 4: -1.1164e+01 -2.1133e+00  2e+02  7e-01  8e-03\n",
            " 5: -2.0114e+00 -2.6299e-01  3e+01  1e-01  1e-03\n",
            " 6: -3.0011e-01 -6.2598e-02  5e+00  2e-02  2e-04\n",
            " 7: -5.1872e-02 -3.7697e-02  1e+00  3e-03  4e-05\n",
            " 8: -1.2554e-02 -2.5426e-02  3e-01  8e-04  9e-06\n",
            " 9: -6.3488e-03 -1.7770e-02  1e-01  3e-04  3e-06\n",
            "10: -5.6452e-03 -1.4349e-02  5e-02  1e-04  1e-06\n",
            "11: -6.1232e-03 -1.2508e-02  2e-02  5e-05  6e-07\n",
            "12: -7.0773e-03 -1.1690e-02  1e-02  2e-05  3e-07\n",
            "13: -8.5003e-03 -1.0887e-02  5e-03  6e-06  8e-08\n",
            "14: -8.5686e-03 -1.0843e-02  4e-03  4e-06  4e-08\n",
            "15: -9.5114e-03 -1.0556e-02  1e-03  9e-07  1e-08\n",
            "16: -9.6815e-03 -1.0517e-02  9e-04  1e-07  2e-09\n",
            "17: -1.0157e-02 -1.0443e-02  3e-04  3e-08  1e-09\n",
            "18: -1.0360e-02 -1.0419e-02  6e-05  3e-09  1e-09\n",
            "19: -1.0401e-02 -1.0416e-02  1e-05  3e-18  1e-09\n",
            "20: -1.0415e-02 -1.0415e-02  4e-07  3e-18  1e-09\n",
            "21: -1.0415e-02 -1.0415e-02  4e-09  6e-19  1e-09\n",
            "Optimal solution found.\n"
          ]
        }
      ]
    },
    {
      "cell_type": "code",
      "source": [
        "W = Get_W(X_train, Y_train, lambda_list)\n",
        "b = Get_b(X_train,W)\n",
        "\n",
        "# Convert all values greater than 0 to 1, and those less than 0 to -1\n",
        "Y1_pred  = np.sign(Test(X_test,W,b))"
      ],
      "metadata": {
        "id": "uAPa-uaRyIzg"
      },
      "execution_count": null,
      "outputs": []
    },
    {
      "cell_type": "code",
      "source": [
        "Y1_pred = pd.DataFrame(Y1_pred)"
      ],
      "metadata": {
        "id": "hm-0YWriKxh1"
      },
      "execution_count": null,
      "outputs": []
    },
    {
      "cell_type": "code",
      "source": [
        "# Guardar las predicciones en un archivo CSV\n",
        "Y1_pred.to_csv(folder_path + './predictions/pred_y1.csv', index=False)\n",
        "print(\"Predicciones y1 guardadas en 'pred_y1.csv'\")"
      ],
      "metadata": {
        "colab": {
          "base_uri": "https://localhost:8080/"
        },
        "id": "PK3VhcExIryw",
        "outputId": "7cfe68fa-47ac-445c-9b6e-5cc33337135f"
      },
      "execution_count": null,
      "outputs": [
        {
          "output_type": "stream",
          "name": "stdout",
          "text": [
            "Predicciones y1 guardadas en 'pred_y1.csv'\n"
          ]
        }
      ]
    },
    {
      "cell_type": "code",
      "source": [
        "# Guardar los lambda_list asociados a y1 en un archivo CSV\n",
        "lambda_list = pd.DataFrame(lambda_list)\n",
        "lambda_list.to_csv(folder_path + './lambda-lists/lambda_y1.csv', index=False)\n",
        "print(\"Lambda_list de y1 guardado en 'lambda_y1.csv'\")"
      ],
      "metadata": {
        "colab": {
          "base_uri": "https://localhost:8080/"
        },
        "id": "y1Oy0PQH1v-u",
        "outputId": "ca79612a-4e9b-468c-d33f-6cf1650805a7"
      },
      "execution_count": null,
      "outputs": [
        {
          "output_type": "stream",
          "name": "stdout",
          "text": [
            "Lambda_list de y1 guardado en 'lambda_y1.csv'\n"
          ]
        }
      ]
    },
    {
      "cell_type": "markdown",
      "source": [
        "## Predicción de los y2"
      ],
      "metadata": {
        "id": "MdLcbKsPDCOs"
      }
    },
    {
      "cell_type": "code",
      "source": [
        "Y_train = y2_train"
      ],
      "metadata": {
        "id": "oSMIylYYCCsa"
      },
      "execution_count": null,
      "outputs": []
    },
    {
      "cell_type": "code",
      "source": [
        "lambda_list = GetLambda(X_train,Y_train)\n",
        "sv = lambda_list > 1e-5"
      ],
      "metadata": {
        "colab": {
          "base_uri": "https://localhost:8080/"
        },
        "id": "GECdlrf1GTzW",
        "outputId": "f47e1331-f274-4fae-d307-3bb797f60b77"
      },
      "execution_count": null,
      "outputs": [
        {
          "output_type": "stream",
          "name": "stdout",
          "text": [
            "     pcost       dcost       gap    pres   dres\n",
            " 0: -3.5389e+02 -8.7687e+02  4e+04  2e+02  2e+00\n",
            " 1: -5.1281e+02 -5.2005e+02  1e+04  6e+01  8e-01\n",
            " 2: -1.7726e+02 -7.4331e+01  3e+03  1e+01  2e-01\n",
            " 3: -5.0371e+01 -1.1504e+01  6e+02  2e+00  3e-02\n",
            " 4: -1.1086e+01 -2.3063e+00  1e+02  5e-01  6e-03\n",
            " 5: -3.2356e+00 -5.2258e-01  3e+01  1e-01  2e-03\n",
            " 6: -8.7034e-01 -1.1433e-01  9e+00  3e-02  4e-04\n",
            " 7: -1.6346e-01 -4.8148e-02  2e+00  7e-03  9e-05\n",
            " 8: -4.4885e-02 -3.1361e-02  6e-01  2e-03  2e-05\n",
            " 9: -1.6149e-02 -2.1529e-02  2e-01  5e-04  7e-06\n",
            "10: -1.0273e-02 -1.6192e-02  1e-01  2e-04  3e-06\n",
            "11: -8.9516e-03 -1.3091e-02  6e-02  1e-04  2e-06\n",
            "12: -6.6457e-03 -1.1531e-02  4e-02  8e-05  1e-06\n",
            "13: -6.8940e-03 -9.3733e-03  2e-02  3e-05  4e-07\n",
            "14: -6.1595e-03 -8.9510e-03  2e-02  2e-05  3e-07\n",
            "15: -5.9617e-03 -8.5214e-03  1e-02  1e-05  2e-07\n",
            "16: -6.1196e-03 -8.1764e-03  6e-03  6e-06  8e-08\n",
            "17: -6.2894e-03 -8.0553e-03  4e-03  3e-06  4e-08\n",
            "18: -7.0194e-03 -7.8647e-03  1e-03  8e-07  1e-08\n",
            "19: -7.4974e-03 -7.7847e-03  3e-04  7e-08  1e-09\n",
            "20: -7.6626e-03 -7.7680e-03  1e-04  2e-08  1e-09\n",
            "21: -7.7140e-03 -7.7617e-03  5e-05  5e-18  1e-09\n",
            "22: -7.7588e-03 -7.7601e-03  1e-06  5e-19  1e-09\n",
            "23: -7.7600e-03 -7.7600e-03  2e-08  2e-18  1e-09\n",
            "Optimal solution found.\n"
          ]
        }
      ]
    },
    {
      "cell_type": "code",
      "source": [
        "W = Get_W(X_train, Y_train, lambda_list)\n",
        "b = Get_b(X_train,W)\n",
        "\n",
        "# Convert all values greater than 0 to 1, and those less than 0 to -1\n",
        "Y2_pred  = np.sign(Test(X_test,W,b))"
      ],
      "metadata": {
        "id": "BMuINKz0GUfv"
      },
      "execution_count": null,
      "outputs": []
    },
    {
      "cell_type": "code",
      "source": [
        "Y2_pred = pd.DataFrame(Y2_pred)"
      ],
      "metadata": {
        "id": "fZyMIKCQLkRp"
      },
      "execution_count": null,
      "outputs": []
    },
    {
      "cell_type": "code",
      "source": [
        "# Guardar las predicciones en un archivo CSV\n",
        "Y2_pred.to_csv(folder_path + './predictions/pred_y2.csv', index=False)\n",
        "print(\"Predicciones y2 guardadas en 'pred_y2.csv'\")"
      ],
      "metadata": {
        "colab": {
          "base_uri": "https://localhost:8080/"
        },
        "id": "u4P8GN83JZSj",
        "outputId": "4d98f1b8-496d-46a1-b3cb-2e6e5e742174"
      },
      "execution_count": null,
      "outputs": [
        {
          "output_type": "stream",
          "name": "stdout",
          "text": [
            "Predicciones y2 guardadas en 'pred_y2.csv'\n"
          ]
        }
      ]
    },
    {
      "cell_type": "code",
      "source": [
        "# Guardar los lambda_list asociados a y2 en un archivo CSV\n",
        "lambda_list = pd.DataFrame(lambda_list)\n",
        "lambda_list.to_csv(folder_path + './lambda-lists/lambda_y2.csv', index=False)\n",
        "print(\"Lambda_list de y2 guardado en 'lambda_y2.csv'\")"
      ],
      "metadata": {
        "colab": {
          "base_uri": "https://localhost:8080/"
        },
        "id": "UkNsjGr_2Ey5",
        "outputId": "db242a71-73a2-459b-fe6c-a39e6581beab"
      },
      "execution_count": null,
      "outputs": [
        {
          "output_type": "stream",
          "name": "stdout",
          "text": [
            "Lambda_list de y2 guardado en 'lambda_y2.csv'\n"
          ]
        }
      ]
    },
    {
      "cell_type": "markdown",
      "source": [
        "## Predicciones y3"
      ],
      "metadata": {
        "id": "hhkNEFBFJe2h"
      }
    },
    {
      "cell_type": "code",
      "source": [
        "Y_train = y3_train"
      ],
      "metadata": {
        "id": "9Uz-h6iqJgf_"
      },
      "execution_count": null,
      "outputs": []
    },
    {
      "cell_type": "code",
      "source": [
        "lambda_list = GetLambda(X_train,Y_train)\n",
        "sv = lambda_list > 1e-5"
      ],
      "metadata": {
        "colab": {
          "base_uri": "https://localhost:8080/"
        },
        "id": "zQN6OUWJJkHh",
        "outputId": "8a8d25eb-cede-47ae-ea1f-4e4ec1369437"
      },
      "execution_count": null,
      "outputs": [
        {
          "output_type": "stream",
          "name": "stdout",
          "text": [
            "     pcost       dcost       gap    pres   dres\n",
            " 0: -2.8756e+02 -6.4248e+02  3e+04  2e+02  2e+00\n",
            " 1: -3.6075e+02 -3.4526e+02  1e+04  6e+01  8e-01\n",
            " 2: -1.1434e+02 -3.3793e+01  2e+03  1e+01  1e-01\n",
            " 3: -2.6049e+01 -3.5620e+00  4e+02  2e+00  3e-02\n",
            " 4: -4.1772e+00 -4.1481e-01  7e+01  3e-01  4e-03\n",
            " 5: -5.4888e-01 -6.4475e-02  8e+00  4e-02  5e-04\n",
            " 6: -7.5588e-02 -2.1384e-02  1e+00  6e-03  8e-05\n",
            " 7: -1.3787e-02 -1.4273e-02  3e-01  1e-03  2e-05\n",
            " 8: -4.7009e-03 -1.0379e-02  1e-01  3e-04  5e-06\n",
            " 9: -2.6017e-03 -7.7477e-03  3e-02  1e-04  1e-06\n",
            "10: -2.9473e-03 -6.2078e-03  1e-02  4e-05  5e-07\n",
            "11: -3.0466e-03 -5.9391e-03  9e-03  2e-05  3e-07\n",
            "12: -3.7900e-03 -5.4159e-03  3e-03  5e-06  7e-08\n",
            "13: -4.1410e-03 -5.2542e-03  1e-03  9e-07  1e-08\n",
            "14: -4.4345e-03 -5.1120e-03  7e-04  2e-07  3e-09\n",
            "15: -4.5437e-03 -5.0783e-03  6e-04  9e-08  1e-09\n",
            "16: -4.6740e-03 -5.0354e-03  4e-04  4e-08  7e-10\n",
            "17: -4.6864e-03 -5.0294e-03  3e-04  3e-08  6e-10\n",
            "18: -4.8169e-03 -4.9890e-03  2e-04  1e-08  5e-10\n",
            "19: -4.8870e-03 -4.9719e-03  8e-05  2e-10  6e-10\n",
            "20: -4.9314e-03 -4.9656e-03  3e-05  4e-11  5e-10\n",
            "21: -4.9499e-03 -4.9635e-03  1e-05  9e-12  5e-10\n",
            "22: -4.9608e-03 -4.9628e-03  2e-06  6e-14  6e-10\n",
            "23: -4.9627e-03 -4.9627e-03  3e-08  8e-16  6e-10\n",
            "Optimal solution found.\n"
          ]
        }
      ]
    },
    {
      "cell_type": "code",
      "source": [
        "W = Get_W(X_train, Y_train, lambda_list)\n",
        "b = Get_b(X_train,W)\n",
        "\n",
        "# Convert all values greater than 0 to 1, and those less than 0 to -1\n",
        "Y3_pred  = np.sign(Test(X_test,W,b))"
      ],
      "metadata": {
        "id": "QwS3OYHkJp0X"
      },
      "execution_count": null,
      "outputs": []
    },
    {
      "cell_type": "code",
      "source": [
        "Y3_pred = pd.DataFrame(Y3_pred)"
      ],
      "metadata": {
        "id": "--HelHTgPRu4"
      },
      "execution_count": null,
      "outputs": []
    },
    {
      "cell_type": "code",
      "source": [
        "# Guardar las predicciones en un archivo CSV\n",
        "Y3_pred.to_csv(folder_path + './predictions/pred_y3.csv', index=False)\n",
        "print(\"Predicciones y3 guardadas en 'pred_y3.csv'\")"
      ],
      "metadata": {
        "colab": {
          "base_uri": "https://localhost:8080/"
        },
        "id": "2DoxDK1lJwGL",
        "outputId": "934d9aef-c170-4f4c-b2f9-eec71ac0d11c"
      },
      "execution_count": null,
      "outputs": [
        {
          "output_type": "stream",
          "name": "stdout",
          "text": [
            "Predicciones y3 guardadas en 'pred_y3.csv'\n"
          ]
        }
      ]
    },
    {
      "cell_type": "code",
      "source": [
        "# Guardar los lambda_list asociados a y3 en un archivo CSV\n",
        "lambda_list = pd.DataFrame(lambda_list)\n",
        "lambda_list.to_csv(folder_path + './lambda-lists/lambda_y3.csv', index=False)\n",
        "print(\"Lambda_list de y3 guardado en 'lambda_y3.csv'\")"
      ],
      "metadata": {
        "colab": {
          "base_uri": "https://localhost:8080/"
        },
        "id": "a07UVvIy6qM-",
        "outputId": "e62b7097-32d9-4c6d-bfaf-4a0f2c071c9b"
      },
      "execution_count": null,
      "outputs": [
        {
          "output_type": "stream",
          "name": "stdout",
          "text": [
            "Lambda_list de y3 guardado en 'lambda_y3.csv'\n"
          ]
        }
      ]
    },
    {
      "cell_type": "markdown",
      "source": [
        "## Predicciones y4"
      ],
      "metadata": {
        "id": "8hzipV2CJzqT"
      }
    },
    {
      "cell_type": "code",
      "source": [
        "Y_train = y4_train"
      ],
      "metadata": {
        "id": "4VbU0UK1J1Uh"
      },
      "execution_count": null,
      "outputs": []
    },
    {
      "cell_type": "code",
      "source": [
        "lambda_list = GetLambda(X_train,Y_train)\n",
        "sv = lambda_list > 1e-5"
      ],
      "metadata": {
        "colab": {
          "base_uri": "https://localhost:8080/"
        },
        "id": "MqOFVtcFJ3lE",
        "outputId": "e81db959-c936-4619-a325-e1bf4442e1be"
      },
      "execution_count": null,
      "outputs": [
        {
          "output_type": "stream",
          "name": "stdout",
          "text": [
            "     pcost       dcost       gap    pres   dres\n",
            " 0: -1.2227e+03 -3.7201e+03  4e+04  2e+02  3e+00\n",
            " 1: -3.8053e+03 -8.4842e+03  4e+04  1e+02  2e+00\n",
            " 2: -8.7815e+03 -1.5895e+04  4e+04  1e+02  2e+00\n",
            " 3: -1.8988e+04 -2.7857e+04  3e+04  8e+01  1e+00\n",
            " 4: -3.6668e+04 -4.8380e+04  4e+04  8e+01  1e+00\n",
            " 5: -6.8627e+04 -8.4884e+04  4e+04  7e+01  1e+00\n",
            " 6: -1.3827e+05 -1.6278e+05  5e+04  7e+01  1e+00\n",
            " 7: -2.3319e+05 -2.6810e+05  7e+04  7e+01  1e+00\n",
            " 8: -3.6114e+05 -4.0900e+05  8e+04  7e+01  1e+00\n",
            " 9: -5.5032e+05 -6.1549e+05  1e+05  6e+01  1e+00\n",
            "10: -7.1000e+05 -7.8914e+05  1e+05  6e+01  1e+00\n",
            "11: -9.0947e+05 -1.0047e+06  2e+05  6e+01  1e+00\n",
            "12: -1.1387e+06 -1.2515e+06  2e+05  6e+01  1e+00\n",
            "13: -1.3592e+06 -1.4892e+06  2e+05  6e+01  1e+00\n",
            "14: -1.6151e+06 -1.7672e+06  3e+05  6e+01  1e+00\n",
            "15: -1.7581e+06 -1.9237e+06  3e+05  6e+01  1e+00\n",
            "16: -1.8689e+06 -2.0451e+06  4e+05  6e+01  1e+00\n",
            "17: -1.9929e+06 -2.1817e+06  4e+05  6e+01  1e+00\n",
            "18: -2.1015e+06 -2.3006e+06  5e+05  6e+01  1e+00\n",
            "19: -2.2275e+06 -2.4403e+06  5e+05  6e+01  1e+00\n",
            "20: -2.3259e+06 -2.5475e+06  6e+05  6e+01  1e+00\n",
            "21: -2.4239e+06 -2.6552e+06  7e+05  6e+01  1e+00\n",
            "22: -2.5031e+06 -2.7396e+06  8e+05  6e+01  1e+00\n",
            "23: -2.5497e+06 -2.7859e+06  9e+05  6e+01  9e-01\n",
            "24: -2.6410e+06 -2.8716e+06  1e+06  6e+01  9e-01\n",
            "25: -2.6271e+06 -2.8525e+06  1e+06  5e+01  9e-01\n",
            "26: -2.6970e+06 -2.8973e+06  1e+06  5e+01  9e-01\n",
            "27: -2.6353e+06 -2.8265e+06  1e+06  5e+01  8e-01\n",
            "28: -2.5896e+06 -2.7657e+06  1e+06  5e+01  8e-01\n",
            "29: -2.5595e+06 -2.7222e+06  2e+06  4e+01  7e-01\n",
            "30: -2.5142e+06 -2.6751e+06  2e+06  4e+01  7e-01\n",
            "31: -2.4465e+06 -2.6084e+06  2e+06  4e+01  6e-01\n",
            "32: -2.3646e+06 -2.5226e+06  2e+06  4e+01  6e-01\n",
            "33: -2.2746e+06 -2.4168e+06  2e+06  3e+01  5e-01\n",
            "34: -2.1608e+06 -2.2941e+06  2e+06  3e+01  5e-01\n",
            "35: -2.1312e+06 -2.2796e+06  2e+06  2e+01  4e-01\n",
            "36: -2.0300e+06 -2.1875e+06  2e+06  2e+01  4e-01\n",
            "37: -1.9030e+06 -2.0987e+06  2e+06  2e+01  3e-01\n",
            "38: -1.8437e+06 -2.0569e+06  2e+06  2e+01  3e-01\n",
            "39: -1.7241e+06 -1.9584e+06  1e+06  1e+01  3e-01\n",
            "40: -1.6689e+06 -1.9500e+06  1e+06  1e+01  2e-01\n",
            "41: -1.5730e+06 -1.9026e+06  1e+06  9e+00  2e-01\n",
            "42: -1.5282e+06 -1.8533e+06  1e+06  8e+00  2e-01\n",
            "43: -1.4841e+06 -1.7771e+06  9e+05  5e+00  2e-01\n",
            "44: -1.4281e+06 -1.6938e+06  6e+05  3e+00  2e-01\n",
            "45: -1.3688e+06 -1.6596e+06  6e+05  3e+00  2e-01\n",
            "46: -1.4209e+06 -1.6886e+06  5e+05  2e+00  2e-01\n",
            "47: -1.3948e+06 -1.6654e+06  4e+05  1e+00  2e-01\n",
            "48: -1.4119e+06 -1.6807e+06  4e+05  1e+00  2e-01\n",
            "49: -1.4215e+06 -1.6833e+06  4e+05  1e+00  2e-01\n",
            "50: -1.4128e+06 -1.6567e+06  3e+05  7e-01  2e-01\n",
            "51: -1.3981e+06 -1.6262e+06  3e+05  6e-01  2e-01\n",
            "52: -1.4388e+06 -1.6519e+06  3e+05  4e-01  2e-01\n",
            "53: -1.3908e+06 -1.6050e+06  3e+05  4e-01  2e-01\n",
            "54: -1.4238e+06 -1.6044e+06  2e+05  2e-01  2e-01\n",
            "55: -1.5050e+06 -1.6796e+06  2e+05  2e-01  2e-01\n",
            "56: -1.4806e+06 -1.6537e+06  2e+05  2e-01  2e-01\n",
            "57: -1.4771e+06 -1.6500e+06  2e+05  1e-01  2e-01\n",
            "58: -1.5070e+06 -1.6520e+06  2e+05  8e-02  2e-01\n",
            "59: -1.4385e+06 -1.5733e+06  1e+05  6e-02  2e-01\n",
            "60: -1.4438e+06 -1.5733e+06  1e+05  4e-02  2e-01\n",
            "61: -1.4909e+06 -1.6172e+06  1e+05  4e-02  2e-01\n",
            "62: -1.5353e+06 -1.6583e+06  1e+05  3e-02  2e-01\n",
            "63: -1.4652e+06 -1.5901e+06  1e+05  3e-02  2e-01\n",
            "64: -1.4966e+06 -1.6071e+06  1e+05  2e-02  2e-01\n",
            "65: -1.5182e+06 -1.6224e+06  1e+05  2e-02  2e-01\n",
            "66: -1.5294e+06 -1.6275e+06  1e+05  1e-02  2e-01\n",
            "67: -1.5172e+06 -1.6144e+06  1e+05  1e-02  2e-01\n",
            "68: -1.5432e+06 -1.6356e+06  9e+04  8e-03  2e-01\n",
            "69: -1.4887e+06 -1.5813e+06  9e+04  7e-03  2e-01\n",
            "70: -1.5044e+06 -1.5950e+06  9e+04  6e-03  2e-01\n",
            "71: -1.5071e+06 -1.5984e+06  9e+04  5e-03  2e-01\n",
            "72: -1.5122e+06 -1.6010e+06  9e+04  4e-03  2e-01\n",
            "73: -1.5019e+06 -1.5834e+06  8e+04  3e-03  2e-01\n",
            "74: -1.4878e+06 -1.5703e+06  8e+04  3e-03  2e-01\n",
            "75: -1.5710e+06 -1.6525e+06  8e+04  2e-03  2e-01\n",
            "76: -1.5494e+06 -1.6340e+06  8e+04  2e-03  2e-01\n",
            "77: -1.5224e+06 -1.6095e+06  9e+04  2e-03  2e-01\n",
            "78: -1.5208e+06 -1.5975e+06  8e+04  1e-03  2e-01\n",
            "79: -1.5673e+06 -1.6455e+06  8e+04  9e-04  2e-01\n",
            "80: -1.5109e+06 -1.5869e+06  8e+04  7e-04  2e-01\n",
            "81: -1.5337e+06 -1.6103e+06  8e+04  6e-04  2e-01\n",
            "82: -1.5153e+06 -1.5869e+06  7e+04  5e-04  2e-01\n",
            "83: -1.5102e+06 -1.5813e+06  7e+04  4e-04  2e-01\n",
            "84: -1.5256e+06 -1.5957e+06  7e+04  3e-04  2e-01\n",
            "85: -1.5253e+06 -1.5982e+06  7e+04  3e-04  2e-01\n",
            "86: -1.5538e+06 -1.6144e+06  6e+04  2e-04  2e-01\n",
            "87: -1.5536e+06 -1.6153e+06  6e+04  1e-04  2e-01\n",
            "88: -1.5712e+06 -1.6298e+06  6e+04  1e-04  2e-01\n",
            "89: -1.5303e+06 -1.5892e+06  6e+04  9e-05  2e-01\n",
            "90: -1.5591e+06 -1.6133e+06  5e+04  6e-05  2e-01\n",
            "91: -1.5281e+06 -1.5817e+06  5e+04  6e-05  2e-01\n",
            "92: -1.5595e+06 -1.6146e+06  6e+04  5e-05  2e-01\n",
            "93: -1.5558e+06 -1.6048e+06  5e+04  4e-05  2e-01\n",
            "94: -1.5093e+06 -1.5587e+06  5e+04  3e-05  2e-01\n",
            "95: -1.5508e+06 -1.5997e+06  5e+04  3e-05  2e-01\n",
            "96: -1.5156e+06 -1.5655e+06  5e+04  3e-05  2e-01\n",
            "97: -1.5445e+06 -1.5951e+06  5e+04  3e-05  2e-01\n",
            "98: -1.5821e+06 -1.6341e+06  5e+04  2e-05  2e-01\n",
            "99: -1.4965e+06 -1.5489e+06  5e+04  2e-05  2e-01\n",
            "100: -1.5351e+06 -1.5867e+06  5e+04  2e-05  2e-01\n",
            "Terminated (maximum number of iterations reached).\n"
          ]
        }
      ]
    },
    {
      "cell_type": "code",
      "source": [
        "W = Get_W(X_train, Y_train, lambda_list)\n",
        "b = Get_b(X_train,W)\n",
        "\n",
        "# Convert all values greater than 0 to 1, and those less than 0 to -1\n",
        "Y4_pred  = np.sign(Test(X_test,W,b))"
      ],
      "metadata": {
        "id": "avdvHApxJ4ii"
      },
      "execution_count": null,
      "outputs": []
    },
    {
      "cell_type": "code",
      "source": [
        "Y4_pred = pd.DataFrame(Y4_pred)"
      ],
      "metadata": {
        "id": "Sj_hEu85VlfA"
      },
      "execution_count": null,
      "outputs": []
    },
    {
      "cell_type": "code",
      "source": [
        "# Guardar las predicciones en un archivo CSV\n",
        "Y4_pred.to_csv(folder_path + './predictions/pred_y4.csv', index=False)\n",
        "print(\"Predicciones y4 guardadas en 'pred_y4.csv'\")"
      ],
      "metadata": {
        "colab": {
          "base_uri": "https://localhost:8080/"
        },
        "id": "QvdvD__vJ8G6",
        "outputId": "395c25e4-ad97-4cb4-8efc-d15179f4d579"
      },
      "execution_count": null,
      "outputs": [
        {
          "output_type": "stream",
          "name": "stdout",
          "text": [
            "Predicciones y4 guardadas en 'pred_y4.csv'\n"
          ]
        }
      ]
    },
    {
      "cell_type": "code",
      "source": [
        "# Guardar los lambda_list asociados a y4 en un archivo CSV\n",
        "lambda_list = pd.DataFrame(lambda_list)\n",
        "lambda_list.to_csv(folder_path + './lambda-lists/lambda_y4.csv', index=False)\n",
        "print(\"Lambda_list de y4 guardado en 'lambda_y4.csv'\")"
      ],
      "metadata": {
        "colab": {
          "base_uri": "https://localhost:8080/"
        },
        "id": "JEv4LfP-EGLH",
        "outputId": "f5682926-3e7c-4d2e-86d7-2bd92c05d254"
      },
      "execution_count": null,
      "outputs": [
        {
          "output_type": "stream",
          "name": "stdout",
          "text": [
            "Lambda_list de y4 guardado en 'lambda_y4.csv'\n"
          ]
        }
      ]
    },
    {
      "cell_type": "markdown",
      "source": [
        "## Predicciones y5"
      ],
      "metadata": {
        "id": "mT8alqsPJ_v_"
      }
    },
    {
      "cell_type": "code",
      "source": [
        "Y_train = y5_train"
      ],
      "metadata": {
        "id": "iKE_Xn3rKCjd"
      },
      "execution_count": null,
      "outputs": []
    },
    {
      "cell_type": "code",
      "source": [
        "lambda_list = GetLambda(X_train,Y_train)\n",
        "sv = lambda_list > 1e-5"
      ],
      "metadata": {
        "colab": {
          "base_uri": "https://localhost:8080/"
        },
        "id": "Z9sjCFUlKYKE",
        "outputId": "6d7d49bb-60f6-4b1d-970b-1f52ecf902f4"
      },
      "execution_count": null,
      "outputs": [
        {
          "output_type": "stream",
          "name": "stdout",
          "text": [
            "     pcost       dcost       gap    pres   dres\n",
            " 0: -1.2178e+03 -3.6888e+03  4e+04  2e+02  3e+00\n",
            " 1: -3.5987e+03 -8.0108e+03  3e+04  1e+02  2e+00\n",
            " 2: -8.2991e+03 -1.4800e+04  3e+04  9e+01  2e+00\n",
            " 3: -1.6738e+04 -2.5013e+04  3e+04  8e+01  1e+00\n",
            " 4: -3.6233e+04 -4.7018e+04  3e+04  7e+01  1e+00\n",
            " 5: -6.4450e+04 -7.9329e+04  4e+04  6e+01  1e+00\n",
            " 6: -1.2113e+05 -1.4316e+05  5e+04  6e+01  1e+00\n",
            " 7: -2.0825e+05 -2.4030e+05  6e+04  6e+01  1e+00\n",
            " 8: -3.4928e+05 -3.9576e+05  8e+04  6e+01  1e+00\n",
            " 9: -5.1705e+05 -5.7955e+05  1e+05  6e+01  1e+00\n",
            "10: -7.0073e+05 -7.7975e+05  1e+05  6e+01  1e+00\n",
            "11: -8.9502e+05 -9.9115e+05  2e+05  6e+01  1e+00\n",
            "12: -1.1288e+06 -1.2455e+06  2e+05  6e+01  1e+00\n",
            "13: -1.3069e+06 -1.4391e+06  2e+05  6e+01  1e+00\n",
            "14: -1.4634e+06 -1.6111e+06  3e+05  6e+01  1e+00\n",
            "15: -1.6594e+06 -1.8259e+06  3e+05  6e+01  1e+00\n",
            "16: -1.8348e+06 -2.0196e+06  4e+05  6e+01  1e+00\n",
            "17: -1.9156e+06 -2.1121e+06  4e+05  6e+01  1e+00\n",
            "18: -2.0912e+06 -2.3049e+06  5e+05  5e+01  1e+00\n",
            "19: -2.2177e+06 -2.4435e+06  5e+05  5e+01  1e+00\n",
            "20: -2.3046e+06 -2.5430e+06  6e+05  5e+01  1e+00\n",
            "21: -2.3695e+06 -2.6127e+06  7e+05  5e+01  1e+00\n",
            "22: -2.4473e+06 -2.6953e+06  7e+05  5e+01  1e+00\n",
            "23: -2.4525e+06 -2.7034e+06  8e+05  5e+01  1e+00\n",
            "24: -2.5249e+06 -2.7786e+06  9e+05  5e+01  1e+00\n",
            "25: -2.5803e+06 -2.8400e+06  9e+05  5e+01  9e-01\n",
            "26: -2.6734e+06 -2.9409e+06  1e+06  5e+01  9e-01\n",
            "27: -2.6894e+06 -2.9673e+06  1e+06  5e+01  9e-01\n",
            "28: -2.8034e+06 -3.0881e+06  1e+06  4e+01  8e-01\n",
            "29: -2.7936e+06 -3.0889e+06  1e+06  4e+01  8e-01\n",
            "30: -2.8107e+06 -3.1124e+06  1e+06  4e+01  8e-01\n",
            "31: -2.8043e+06 -3.1077e+06  2e+06  4e+01  7e-01\n",
            "32: -2.7936e+06 -3.1114e+06  2e+06  3e+01  7e-01\n",
            "33: -2.7781e+06 -3.1113e+06  2e+06  3e+01  6e-01\n",
            "34: -2.7742e+06 -3.1201e+06  2e+06  3e+01  6e-01\n",
            "35: -2.7212e+06 -3.0823e+06  2e+06  3e+01  5e-01\n",
            "36: -2.5938e+06 -2.9905e+06  2e+06  2e+01  5e-01\n",
            "37: -2.5992e+06 -3.0206e+06  2e+06  2e+01  5e-01\n",
            "38: -2.4587e+06 -2.9242e+06  2e+06  2e+01  4e-01\n",
            "39: -2.3348e+06 -2.7957e+06  2e+06  1e+01  4e-01\n",
            "40: -2.3108e+06 -2.7946e+06  2e+06  1e+01  3e-01\n",
            "41: -2.2543e+06 -2.7585e+06  2e+06  1e+01  3e-01\n",
            "42: -2.2312e+06 -2.7442e+06  1e+06  8e+00  3e-01\n",
            "43: -2.0999e+06 -2.6081e+06  1e+06  6e+00  3e-01\n",
            "44: -2.0476e+06 -2.5708e+06  1e+06  5e+00  3e-01\n",
            "45: -2.0309e+06 -2.5626e+06  1e+06  4e+00  3e-01\n",
            "46: -1.8938e+06 -2.4458e+06  9e+05  3e+00  3e-01\n",
            "47: -1.9954e+06 -2.5448e+06  9e+05  2e+00  3e-01\n",
            "48: -1.9149e+06 -2.4745e+06  8e+05  2e+00  3e-01\n",
            "49: -1.8835e+06 -2.3998e+06  7e+05  1e+00  3e-01\n",
            "50: -2.0841e+06 -2.5998e+06  7e+05  1e+00  3e-01\n",
            "51: -1.9088e+06 -2.4410e+06  7e+05  9e-01  3e-01\n",
            "52: -2.0626e+06 -2.5003e+06  5e+05  6e-01  3e-01\n",
            "53: -2.0510e+06 -2.4709e+06  5e+05  5e-01  3e-01\n",
            "54: -2.1833e+06 -2.5860e+06  5e+05  4e-01  3e-01\n",
            "55: -2.1034e+06 -2.4938e+06  4e+05  4e-01  3e-01\n",
            "56: -2.0339e+06 -2.4163e+06  4e+05  3e-01  3e-01\n",
            "57: -2.1213e+06 -2.4783e+06  4e+05  3e-01  3e-01\n",
            "58: -2.1017e+06 -2.4623e+06  4e+05  2e-01  3e-01\n",
            "59: -2.1515e+06 -2.4945e+06  4e+05  2e-01  3e-01\n",
            "60: -2.1581e+06 -2.4946e+06  4e+05  2e-01  3e-01\n",
            "61: -2.0554e+06 -2.3984e+06  4e+05  1e-01  3e-01\n",
            "62: -2.1209e+06 -2.4565e+06  3e+05  1e-01  3e-01\n",
            "63: -2.1296e+06 -2.4589e+06  3e+05  1e-01  3e-01\n",
            "64: -2.1602e+06 -2.4946e+06  3e+05  8e-02  3e-01\n",
            "65: -2.1806e+06 -2.5087e+06  3e+05  7e-02  3e-01\n",
            "66: -2.2001e+06 -2.5108e+06  3e+05  6e-02  3e-01\n",
            "67: -2.1683e+06 -2.4547e+06  3e+05  4e-02  3e-01\n",
            "68: -2.1829e+06 -2.4478e+06  3e+05  3e-02  3e-01\n",
            "69: -2.1711e+06 -2.4368e+06  3e+05  3e-02  3e-01\n",
            "70: -2.1792e+06 -2.4486e+06  3e+05  3e-02  3e-01\n",
            "71: -2.2195e+06 -2.4652e+06  2e+05  2e-02  3e-01\n",
            "72: -2.2335e+06 -2.4656e+06  2e+05  2e-02  3e-01\n",
            "73: -2.2781e+06 -2.4988e+06  2e+05  1e-02  3e-01\n",
            "74: -2.1694e+06 -2.3923e+06  2e+05  1e-02  3e-01\n",
            "75: -2.1142e+06 -2.3324e+06  2e+05  1e-02  3e-01\n",
            "76: -2.1676e+06 -2.3849e+06  2e+05  9e-03  3e-01\n",
            "77: -2.2215e+06 -2.4491e+06  2e+05  8e-03  3e-01\n",
            "78: -2.2937e+06 -2.4996e+06  2e+05  6e-03  3e-01\n",
            "79: -2.1144e+06 -2.3003e+06  2e+05  5e-03  3e-01\n",
            "80: -2.1976e+06 -2.3872e+06  2e+05  4e-03  3e-01\n",
            "81: -2.2623e+06 -2.4603e+06  2e+05  4e-03  3e-01\n",
            "82: -2.2784e+06 -2.4784e+06  2e+05  3e-03  3e-01\n",
            "83: -2.1942e+06 -2.4000e+06  2e+05  3e-03  3e-01\n",
            "84: -2.1145e+06 -2.3188e+06  2e+05  2e-03  3e-01\n",
            "85: -2.1248e+06 -2.3170e+06  2e+05  2e-03  3e-01\n",
            "86: -2.1357e+06 -2.3298e+06  2e+05  2e-03  3e-01\n",
            "87: -2.2344e+06 -2.4248e+06  2e+05  1e-03  3e-01\n",
            "88: -2.1995e+06 -2.3897e+06  2e+05  1e-03  3e-01\n",
            "89: -2.1843e+06 -2.3741e+06  2e+05  1e-03  3e-01\n",
            "90: -2.2789e+06 -2.4715e+06  2e+05  1e-03  3e-01\n",
            "91: -2.2850e+06 -2.4750e+06  2e+05  1e-03  3e-01\n",
            "92: -2.1674e+06 -2.3656e+06  2e+05  8e-04  3e-01\n",
            "93: -2.2883e+06 -2.4835e+06  2e+05  7e-04  3e-01\n",
            "94: -2.2210e+06 -2.4211e+06  2e+05  6e-04  3e-01\n",
            "95: -2.2592e+06 -2.4589e+06  2e+05  5e-04  3e-01\n",
            "96: -2.2323e+06 -2.4211e+06  2e+05  4e-04  3e-01\n",
            "97: -2.1332e+06 -2.3236e+06  2e+05  3e-04  3e-01\n",
            "98: -2.2145e+06 -2.3979e+06  2e+05  3e-04  3e-01\n",
            "99: -2.1977e+06 -2.3796e+06  2e+05  2e-04  3e-01\n",
            "100: -2.1953e+06 -2.3771e+06  2e+05  2e-04  3e-01\n",
            "Terminated (maximum number of iterations reached).\n"
          ]
        }
      ]
    },
    {
      "cell_type": "code",
      "source": [
        "W = Get_W(X_train, Y_train, lambda_list)\n",
        "b = Get_b(X_train,W)\n",
        "\n",
        "# Convert all values greater than 0 to 1, and those less than 0 to -1\n",
        "Y5_pred  = np.sign(Test(X_test,W,b))"
      ],
      "metadata": {
        "id": "zVynoJoXKY8j"
      },
      "execution_count": null,
      "outputs": []
    },
    {
      "cell_type": "code",
      "source": [
        "Y5_pred = pd.DataFrame(Y5_pred)"
      ],
      "metadata": {
        "id": "2WYi-1JebtFq"
      },
      "execution_count": null,
      "outputs": []
    },
    {
      "cell_type": "code",
      "source": [
        "# Guardar las predicciones en un archivo CSV\n",
        "Y5_pred.to_csv(folder_path + './predictions/pred_y5.csv', index=False)\n",
        "print(\"Predicciones y5 guardadas en 'pred_y5.csv'\")"
      ],
      "metadata": {
        "colab": {
          "base_uri": "https://localhost:8080/"
        },
        "id": "NbNEXsdFKa3Q",
        "outputId": "9b882d26-4fac-44a1-95ff-ab6f9a1e193c"
      },
      "execution_count": null,
      "outputs": [
        {
          "output_type": "stream",
          "name": "stdout",
          "text": [
            "Predicciones y5 guardadas en 'pred_y5.csv'\n"
          ]
        }
      ]
    },
    {
      "cell_type": "code",
      "source": [
        "# Guardar los lambda_list asociados a y5 en un archivo CSV\n",
        "lambda_list = pd.DataFrame(lambda_list)\n",
        "lambda_list.to_csv(folder_path + './lambda-lists/lambda_y5.csv', index=False)\n",
        "print(\"Lambda_list de y5 guardado en 'lambda_y5.csv'\")"
      ],
      "metadata": {
        "colab": {
          "base_uri": "https://localhost:8080/"
        },
        "id": "gN32UUpGOHf2",
        "outputId": "355b2f7c-96bc-4329-9f2d-7231be58b37b"
      },
      "execution_count": null,
      "outputs": [
        {
          "output_type": "stream",
          "name": "stdout",
          "text": [
            "Lambda_list de y5 guardado en 'lambda_y5.csv'\n"
          ]
        }
      ]
    },
    {
      "cell_type": "markdown",
      "source": [
        "## Predicciones y6"
      ],
      "metadata": {
        "id": "5r63MZ8YbeaV"
      }
    },
    {
      "cell_type": "code",
      "source": [
        "Y_train = y6_train"
      ],
      "metadata": {
        "id": "AhsP2gYibgB_"
      },
      "execution_count": null,
      "outputs": []
    },
    {
      "cell_type": "code",
      "source": [
        "lambda_list = GetLambda(X_train,Y_train)\n",
        "sv = lambda_list > 1e-5"
      ],
      "metadata": {
        "colab": {
          "base_uri": "https://localhost:8080/"
        },
        "id": "OLwyXpvsbi8_",
        "outputId": "8270ab6d-45f7-4af2-b3ae-4b7db4df5d43"
      },
      "execution_count": null,
      "outputs": [
        {
          "output_type": "stream",
          "name": "stdout",
          "text": [
            "     pcost       dcost       gap    pres   dres\n",
            " 0: -4.5478e+01 -1.0828e+02  2e+04  1e+02  2e+00\n",
            " 1: -4.6973e+01 -4.1700e+01  4e+03  2e+01  4e-01\n",
            " 2: -9.9271e+00 -4.6649e+00  7e+02  3e+00  6e-02\n",
            " 3: -1.9339e+00 -6.8877e-01  1e+02  5e-01  8e-03\n",
            " 4: -3.7938e-01 -8.7522e-02  2e+01  7e-02  1e-03\n",
            " 5: -6.6247e-02 -7.5122e-03  2e+00  1e-02  2e-04\n",
            " 6: -5.9334e-03 -1.9262e-03  2e-01  1e-03  2e-05\n",
            " 7: -1.0458e-03 -8.6730e-04  4e-02  2e-04  3e-06\n",
            " 8: -2.4769e-04 -3.7818e-04  5e-03  2e-05  3e-07\n",
            " 9: -1.4094e-04 -1.8304e-04  1e-03  5e-06  9e-08\n",
            "10: -9.7849e-05 -1.6359e-04  9e-04  3e-06  5e-08\n",
            "11: -8.1118e-05 -1.3803e-04  3e-04  8e-07  1e-08\n",
            "12: -7.8336e-05 -1.3153e-04  1e-04  2e-07  4e-09\n",
            "13: -9.1186e-05 -1.2771e-04  5e-05  4e-08  6e-10\n",
            "14: -9.9767e-05 -1.2470e-04  3e-05  2e-08  3e-10\n",
            "15: -1.0224e-04 -1.2451e-04  2e-05  6e-09  1e-10\n",
            "16: -1.1243e-04 -1.2230e-04  1e-05  2e-09  5e-11\n",
            "17: -1.1649e-04 -1.2156e-04  5e-06  6e-20  4e-11\n",
            "18: -1.1922e-04 -1.2136e-04  2e-06  3e-20  4e-11\n",
            "19: -1.2079e-04 -1.2129e-04  5e-07  7e-20  4e-11\n",
            "20: -1.2128e-04 -1.2128e-04  8e-09  7e-20  4e-11\n",
            "Optimal solution found.\n"
          ]
        }
      ]
    },
    {
      "cell_type": "code",
      "source": [
        "W = Get_W(X_train, Y_train, lambda_list)\n",
        "b = Get_b(X_train,W)\n",
        "\n",
        "# Convert all values greater than 0 to 1, and those less than 0 to -1\n",
        "Y6_pred  = np.sign(Test(X_test,W,b))"
      ],
      "metadata": {
        "id": "KRXQKGKtbl9N"
      },
      "execution_count": null,
      "outputs": []
    },
    {
      "cell_type": "code",
      "source": [
        "Y6_pred = pd.DataFrame(Y6_pred)"
      ],
      "metadata": {
        "id": "suoWvbAvdfrX"
      },
      "execution_count": null,
      "outputs": []
    },
    {
      "cell_type": "code",
      "source": [
        "# Guardar las predicciones en un archivo CSV\n",
        "Y6_pred.to_csv(folder_path + './predictions/pred_y6.csv', index=False)\n",
        "print(\"Predicciones y6 guardadas en 'pred_y6.csv'\")"
      ],
      "metadata": {
        "colab": {
          "base_uri": "https://localhost:8080/"
        },
        "id": "OJT1WBvgbobC",
        "outputId": "755d2c30-4a39-425a-c782-a775584865dd"
      },
      "execution_count": null,
      "outputs": [
        {
          "output_type": "stream",
          "name": "stdout",
          "text": [
            "Predicciones y6 guardadas en 'pred_y6.csv'\n"
          ]
        }
      ]
    },
    {
      "cell_type": "code",
      "source": [
        "# Guardar los lambda_list asociados a y6 en un archivo CSV\n",
        "lambda_list = pd.DataFrame(lambda_list)\n",
        "lambda_list.to_csv(folder_path + './lambda-lists/lambda_y6.csv', index=False)\n",
        "print(\"Lambda_list de y6 guardado en 'lambda_y6.csv'\")"
      ],
      "metadata": {
        "colab": {
          "base_uri": "https://localhost:8080/"
        },
        "id": "0hxldRbLZg78",
        "outputId": "c6020485-203f-4388-d97c-03e5ef58d7af"
      },
      "execution_count": null,
      "outputs": [
        {
          "output_type": "stream",
          "name": "stdout",
          "text": [
            "Lambda_list de y6 guardado en 'lambda_y6.csv'\n"
          ]
        }
      ]
    },
    {
      "cell_type": "markdown",
      "source": [
        "## Union de predicciones y1, y2, y3, y4, y5, y6"
      ],
      "metadata": {
        "id": "z9-eGPpk6rmE"
      }
    },
    {
      "cell_type": "code",
      "source": [
        "import pandas as pd\n",
        "\n",
        "pred_y1 = pd.read_csv(folder_path + 'predictions/pred_y1.csv')\n",
        "pred_y2 = pd.read_csv(folder_path + 'predictions/pred_y2.csv')\n",
        "pred_y3 = pd.read_csv(folder_path + 'predictions/pred_y3.csv')\n",
        "pred_y4 = pd.read_csv(folder_path + 'predictions/pred_y4.csv')\n",
        "pred_y5 = pd.read_csv(folder_path + 'predictions/pred_y5.csv')\n",
        "pred_y6 = pd.read_csv(folder_path + 'predictions/pred_y6.csv')\n"
      ],
      "metadata": {
        "id": "tN2tqwO98MCT"
      },
      "execution_count": null,
      "outputs": []
    },
    {
      "cell_type": "code",
      "source": [
        "pred_y = pred_y1"
      ],
      "metadata": {
        "id": "tCONrOJt66ir"
      },
      "execution_count": null,
      "outputs": []
    },
    {
      "cell_type": "code",
      "source": [
        "for i in range(len(pred_y)):\n",
        "    if (pred_y.iloc[i, 0] == -1) and (pred_y2.iloc[i, 0]) == 1:\n",
        "        pred_y.iloc[i, 0] = 2\n",
        "\n",
        "count_minus_ones = (pred_y['0'] == -1).sum()\n",
        "print(count_minus_ones)"
      ],
      "metadata": {
        "colab": {
          "base_uri": "https://localhost:8080/"
        },
        "id": "IhlhqFZneb4w",
        "outputId": "3635f98d-522f-4f81-e152-e282274ffd4d"
      },
      "execution_count": null,
      "outputs": [
        {
          "output_type": "stream",
          "name": "stdout",
          "text": [
            "1086\n"
          ]
        }
      ]
    },
    {
      "cell_type": "code",
      "source": [
        "for i in range(len(pred_y)):\n",
        "    if (pred_y.iloc[i, 0] == -1) and (pred_y3.iloc[i, 0]) == 1:\n",
        "        pred_y.iloc[i, 0] = 3\n",
        "\n",
        "count_minus_ones = (pred_y['0'] == -1).sum()\n",
        "print(count_minus_ones)"
      ],
      "metadata": {
        "colab": {
          "base_uri": "https://localhost:8080/"
        },
        "id": "MZ2GZulMe8Np",
        "outputId": "ad29ca03-0522-47a2-8a5e-52eea7459646"
      },
      "execution_count": null,
      "outputs": [
        {
          "output_type": "stream",
          "name": "stdout",
          "text": [
            "878\n"
          ]
        }
      ]
    },
    {
      "cell_type": "code",
      "source": [
        "for i in range(len(pred_y)):\n",
        "    if (pred_y.iloc[i, 0] == -1) and (pred_y4.iloc[i, 0]) == 1:\n",
        "        pred_y.iloc[i, 0] = 4\n",
        "\n",
        "count_minus_ones = (pred_y['0'] == -1).sum()\n",
        "print(count_minus_ones)"
      ],
      "metadata": {
        "colab": {
          "base_uri": "https://localhost:8080/"
        },
        "id": "1_Sz962TfIhY",
        "outputId": "6d6d78f4-598b-4a29-a91f-66830fd19e12"
      },
      "execution_count": null,
      "outputs": [
        {
          "output_type": "stream",
          "name": "stdout",
          "text": [
            "120\n"
          ]
        }
      ]
    },
    {
      "cell_type": "code",
      "source": [
        "for i in range(len(pred_y)):\n",
        "    if (pred_y.iloc[i, 0] == -1) and (pred_y5.iloc[i, 0]) == 1:\n",
        "        pred_y.iloc[i, 0] = 5\n",
        "\n",
        "count_minus_ones = (pred_y['0'] == -1).sum()\n",
        "print(count_minus_ones)"
      ],
      "metadata": {
        "colab": {
          "base_uri": "https://localhost:8080/"
        },
        "id": "XDD1qvbKfLF9",
        "outputId": "ca41a4ee-60c1-4146-ef12-b56fa0c601af"
      },
      "execution_count": null,
      "outputs": [
        {
          "output_type": "stream",
          "name": "stdout",
          "text": [
            "70\n"
          ]
        }
      ]
    },
    {
      "cell_type": "code",
      "source": [
        "for i in range(len(pred_y)):\n",
        "    if (pred_y.iloc[i, 0] == -1):\n",
        "        pred_y.iloc[i, 0] = 6\n",
        "\n",
        "count_minus_ones = (pred_y['0'] == -1).sum()\n",
        "print(count_minus_ones)"
      ],
      "metadata": {
        "colab": {
          "base_uri": "https://localhost:8080/"
        },
        "id": "_y7Mb9x8fMwS",
        "outputId": "8ae77855-2e6b-4971-ba12-66b18359fe5f"
      },
      "execution_count": null,
      "outputs": [
        {
          "output_type": "stream",
          "name": "stdout",
          "text": [
            "0\n"
          ]
        }
      ]
    },
    {
      "cell_type": "markdown",
      "source": [
        "## Predicción final"
      ],
      "metadata": {
        "id": "Jy6mSx3NfTOu"
      }
    },
    {
      "cell_type": "code",
      "source": [
        "print(pred_y)"
      ],
      "metadata": {
        "colab": {
          "base_uri": "https://localhost:8080/"
        },
        "id": "sE3WwdpBfa6L",
        "outputId": "4b47cefa-745d-4678-f7c8-8d6a09e74b53"
      },
      "execution_count": null,
      "outputs": [
        {
          "output_type": "stream",
          "name": "stdout",
          "text": [
            "      0\n",
            "0     1\n",
            "1     2\n",
            "2     2\n",
            "3     1\n",
            "4     2\n",
            "...  ..\n",
            "2942  1\n",
            "2943  1\n",
            "2944  1\n",
            "2945  1\n",
            "2946  1\n",
            "\n",
            "[2947 rows x 1 columns]\n"
          ]
        }
      ]
    },
    {
      "cell_type": "code",
      "source": [
        "# Guardar la predicción final en un archivo CSV\n",
        "pred_y.to_csv(folder_path + './predictions/pred_y.csv', index=False)\n",
        "print(\"Predicción final guardada en 'pred_y.csv'\")"
      ],
      "metadata": {
        "colab": {
          "base_uri": "https://localhost:8080/"
        },
        "id": "n6ASCBCoflGU",
        "outputId": "3dd7fc45-ab04-4d60-ba4b-170b8374ba0b"
      },
      "execution_count": null,
      "outputs": [
        {
          "output_type": "stream",
          "name": "stdout",
          "text": [
            "Predicción final guardada en 'pred_y.csv'\n"
          ]
        }
      ]
    },
    {
      "cell_type": "markdown",
      "source": [
        "### Predicción final formateada"
      ],
      "metadata": {
        "id": "ZEKUoJFei-Pc"
      }
    },
    {
      "cell_type": "code",
      "source": [
        "pred_y_formated = pd.read_csv(folder_path + 'predictions/pred_y.csv')\n",
        "ids = range(1, len(pred_y_formated) + 1)\n",
        "pred_y_formated.insert(0, 'ID', ids)\n",
        "pred_y_formated.rename(columns={'0': 'Predicción'}, inplace=True)"
      ],
      "metadata": {
        "id": "pNEFzdPvgP2C"
      },
      "execution_count": null,
      "outputs": []
    },
    {
      "cell_type": "code",
      "source": [
        "print(pred_y_formated)"
      ],
      "metadata": {
        "colab": {
          "base_uri": "https://localhost:8080/"
        },
        "id": "5s8Vz15giCHv",
        "outputId": "0178c60b-80d9-4a52-c54b-dd3f47e4b8ce"
      },
      "execution_count": null,
      "outputs": [
        {
          "output_type": "stream",
          "name": "stdout",
          "text": [
            "        ID  Predicción\n",
            "0        1           1\n",
            "1        2           2\n",
            "2        3           2\n",
            "3        4           1\n",
            "4        5           2\n",
            "...    ...         ...\n",
            "2942  2943           1\n",
            "2943  2944           1\n",
            "2944  2945           1\n",
            "2945  2946           1\n",
            "2946  2947           1\n",
            "\n",
            "[2947 rows x 2 columns]\n"
          ]
        }
      ]
    },
    {
      "cell_type": "code",
      "source": [
        "# Guardar la predicción final formateada en un archivo CSV\n",
        "pred_y_formated.to_csv(folder_path + './predictions/pred_y_formated.csv', index=False)\n",
        "print(\"Predicción final formateada guardada en 'pred_y_formated.csv'\")"
      ],
      "metadata": {
        "colab": {
          "base_uri": "https://localhost:8080/"
        },
        "id": "t6mO2MGLjBcK",
        "outputId": "f2e9a4e4-d863-46c3-bfeb-98dd54ce3640"
      },
      "execution_count": null,
      "outputs": [
        {
          "output_type": "stream",
          "name": "stdout",
          "text": [
            "Predicción final formateada guardada en 'pred_y_formated.csv'\n"
          ]
        }
      ]
    },
    {
      "cell_type": "code",
      "source": [
        "print(pred_y_formated.keys())"
      ],
      "metadata": {
        "colab": {
          "base_uri": "https://localhost:8080/"
        },
        "id": "3BWfcrqaljf7",
        "outputId": "e1ddc44a-da86-48c8-bc01-6b63879a426c"
      },
      "execution_count": null,
      "outputs": [
        {
          "output_type": "stream",
          "name": "stdout",
          "text": [
            "Index(['ID', 'Predicción'], dtype='object')\n"
          ]
        }
      ]
    },
    {
      "cell_type": "markdown",
      "source": [
        "# Predicciones del modelo a partir de la seleccion de los y del train\n",
        "- Objetivo: Generar la matriz de confusión"
      ],
      "metadata": {
        "id": "dw0TM-41O-c1"
      }
    },
    {
      "cell_type": "code",
      "source": [
        "# Monta Google Drive\n",
        "from google.colab import drive\n",
        "drive.mount('/content/drive')\n",
        "\n",
        "# Ruta a los archivos h5 en Google Drive\n",
        "folder_path = '/content/drive/My Drive/Machine Learning/project-2-classification-d1/'\n",
        "\n",
        "train_path = folder_path + 'train.h5'"
      ],
      "metadata": {
        "id": "PVI9UhFqP_r3"
      },
      "execution_count": null,
      "outputs": []
    },
    {
      "cell_type": "code",
      "source": [
        "import numpy as np\n",
        "import pandas as pd\n",
        "import h5py\n",
        "\n",
        "# Ruta al archivo h5 train\n",
        "with h5py.File(train_path, 'r') as f:\n",
        "    # Lee los dataset 'x' y los convierte a DataFrames de pandas\n",
        "    df_body_acc_x = pd.DataFrame(f['body_acc_x'][:])\n",
        "    df_body_acc_y = pd.DataFrame(f['body_acc_y'][:])\n",
        "    df_body_acc_z = pd.DataFrame(f['body_acc_z'][:])\n",
        "    df_body_gyro_x = pd.DataFrame(f['body_gyro_x'][:])\n",
        "    df_body_gyro_y = pd.DataFrame(f['body_gyro_y'][:])\n",
        "    df_body_gyro_z = pd.DataFrame(f['body_gyro_z'][:])\n",
        "    df_total_acc_x = pd.DataFrame(f['total_acc_x'][:])\n",
        "    df_total_acc_y = pd.DataFrame(f['total_acc_y'][:])\n",
        "    df_total_acc_z = pd.DataFrame(f['total_acc_z'][:])\n",
        "    # Lee el dataset 'y' y lo convierte a DataFrame de pandas\n",
        "    df_y = pd.DataFrame(f['y']).squeeze()\n"
      ],
      "metadata": {
        "id": "YnCIRzN-O7US"
      },
      "execution_count": null,
      "outputs": []
    },
    {
      "cell_type": "code",
      "source": [
        "import pandas as pd\n",
        "import numpy as np\n",
        "\n",
        "# Ruta a los archivos h5 en Google Drive\n",
        "feature_vectors_path = '/content/drive/My Drive/Machine Learning/project-2-classification-d1/relevant-features'\n",
        "\n",
        "train_df_x_path = feature_vectors_path + '/train/filtered_features_df_x.csv'\n",
        "df_x_train = pd.read_csv(train_df_x_path)"
      ],
      "metadata": {
        "id": "-d2FTUZqTaLY"
      },
      "execution_count": null,
      "outputs": []
    },
    {
      "cell_type": "code",
      "source": [
        "df_y1 = df_y.apply(lambda x: 1 if x == 1 else -1)\n",
        "df_y2 = df_y.apply(lambda x: 1 if x == 2 else -1)\n",
        "df_y3 = df_y.apply(lambda x: 1 if x == 3 else -1)\n",
        "df_y4 = df_y.apply(lambda x: 1 if x == 4 else -1)\n",
        "df_y5 = df_y.apply(lambda x: 1 if x == 5 else -1)\n",
        "df_y6 = df_y.apply(lambda x: 1 if x == 6 else -1)"
      ],
      "metadata": {
        "id": "5AnsAO9qQH6s"
      },
      "execution_count": null,
      "outputs": []
    },
    {
      "cell_type": "code",
      "source": [],
      "metadata": {
        "id": "-veHIA7_T39L"
      },
      "execution_count": null,
      "outputs": []
    },
    {
      "cell_type": "code",
      "source": [
        "X_train = df_x_train\n",
        "X_test = df_x_test\n",
        "Y_train = y1_train"
      ],
      "metadata": {
        "id": "bk-2sOkbUOTf"
      },
      "execution_count": null,
      "outputs": []
    },
    {
      "cell_type": "code",
      "source": [
        "lambda_list = GetLambda(X_train,Y_train)\n",
        "sv = lambda_list > 1e-5"
      ],
      "metadata": {
        "id": "xpEXm8wmUOTg"
      },
      "execution_count": null,
      "outputs": []
    },
    {
      "cell_type": "code",
      "source": [
        "W = Get_W(X_train, Y_train, lambda_list)\n",
        "b = Get_b(X_train,W)\n",
        "\n",
        "# Convert all values greater than 0 to 1, and those less than 0 to -1\n",
        "Y1_pred  = np.sign(Test(X_test,W,b))"
      ],
      "metadata": {
        "id": "uMui93OvUOTg"
      },
      "execution_count": null,
      "outputs": []
    },
    {
      "cell_type": "code",
      "source": [
        "Y1_pred = pd.DataFrame(Y1_pred)"
      ],
      "metadata": {
        "id": "KwxNnSDZUOTg"
      },
      "execution_count": null,
      "outputs": []
    },
    {
      "cell_type": "markdown",
      "source": [
        "## Predicción de los y2"
      ],
      "metadata": {
        "id": "9-JR_SrIUOTg"
      }
    },
    {
      "cell_type": "code",
      "source": [
        "Y_train = y2_train"
      ],
      "metadata": {
        "id": "8JEmrTwEUOTh"
      },
      "execution_count": null,
      "outputs": []
    },
    {
      "cell_type": "code",
      "source": [
        "lambda_list = GetLambda(X_train,Y_train)\n",
        "sv = lambda_list > 1e-5"
      ],
      "metadata": {
        "id": "HrqreQIyUOTh"
      },
      "execution_count": null,
      "outputs": []
    },
    {
      "cell_type": "code",
      "source": [
        "W = Get_W(X_train, Y_train, lambda_list)\n",
        "b = Get_b(X_train,W)\n",
        "\n",
        "# Convert all values greater than 0 to 1, and those less than 0 to -1\n",
        "Y2_pred  = np.sign(Test(X_test,W,b))"
      ],
      "metadata": {
        "id": "apBY6obtUOTh"
      },
      "execution_count": null,
      "outputs": []
    },
    {
      "cell_type": "code",
      "source": [
        "Y2_pred = pd.DataFrame(Y2_pred)"
      ],
      "metadata": {
        "id": "LHe-iN6pUOTh"
      },
      "execution_count": null,
      "outputs": []
    },
    {
      "cell_type": "markdown",
      "source": [
        "## Predicciones y3"
      ],
      "metadata": {
        "id": "cb74W9BNUOTh"
      }
    },
    {
      "cell_type": "code",
      "source": [
        "Y_train = y3_train"
      ],
      "metadata": {
        "id": "luWOavA0UOTi"
      },
      "execution_count": null,
      "outputs": []
    },
    {
      "cell_type": "code",
      "source": [
        "lambda_list = GetLambda(X_train,Y_train)\n",
        "sv = lambda_list > 1e-5"
      ],
      "metadata": {
        "id": "oadjmPSGUOTi"
      },
      "execution_count": null,
      "outputs": []
    },
    {
      "cell_type": "code",
      "source": [
        "W = Get_W(X_train, Y_train, lambda_list)\n",
        "b = Get_b(X_train,W)\n",
        "\n",
        "# Convert all values greater than 0 to 1, and those less than 0 to -1\n",
        "Y3_pred  = np.sign(Test(X_test,W,b))"
      ],
      "metadata": {
        "id": "3laAIot9UOTi"
      },
      "execution_count": null,
      "outputs": []
    },
    {
      "cell_type": "code",
      "source": [
        "Y3_pred = pd.DataFrame(Y3_pred)"
      ],
      "metadata": {
        "id": "pZwkGlw1UOTi"
      },
      "execution_count": null,
      "outputs": []
    },
    {
      "cell_type": "markdown",
      "source": [
        "## Predicciones y4"
      ],
      "metadata": {
        "id": "fJ0afUzFUOTi"
      }
    },
    {
      "cell_type": "code",
      "source": [
        "Y_train = y4_train"
      ],
      "metadata": {
        "id": "WivSLNZOUOTj"
      },
      "execution_count": null,
      "outputs": []
    },
    {
      "cell_type": "code",
      "source": [
        "lambda_list = GetLambda(X_train,Y_train)\n",
        "sv = lambda_list > 1e-5"
      ],
      "metadata": {
        "id": "XEZiWb3RUOTj"
      },
      "execution_count": null,
      "outputs": []
    },
    {
      "cell_type": "code",
      "source": [
        "W = Get_W(X_train, Y_train, lambda_list)\n",
        "b = Get_b(X_train,W)\n",
        "\n",
        "# Convert all values greater than 0 to 1, and those less than 0 to -1\n",
        "Y4_pred  = np.sign(Test(X_test,W,b))"
      ],
      "metadata": {
        "id": "7gBZgGu7UOTj"
      },
      "execution_count": null,
      "outputs": []
    },
    {
      "cell_type": "code",
      "source": [
        "Y4_pred = pd.DataFrame(Y4_pred)"
      ],
      "metadata": {
        "id": "ZTiA8rlqUOTj"
      },
      "execution_count": null,
      "outputs": []
    },
    {
      "cell_type": "markdown",
      "source": [
        "## Predicciones y5"
      ],
      "metadata": {
        "id": "UtOf8wlzUOTj"
      }
    },
    {
      "cell_type": "code",
      "source": [
        "Y_train = y5_train"
      ],
      "metadata": {
        "id": "yvaATZV2UOTk"
      },
      "execution_count": null,
      "outputs": []
    },
    {
      "cell_type": "code",
      "source": [
        "lambda_list = GetLambda(X_train,Y_train)\n",
        "sv = lambda_list > 1e-5"
      ],
      "metadata": {
        "id": "zut7NVlnUOTk"
      },
      "execution_count": null,
      "outputs": []
    },
    {
      "cell_type": "code",
      "source": [
        "W = Get_W(X_train, Y_train, lambda_list)\n",
        "b = Get_b(X_train,W)\n",
        "\n",
        "# Convert all values greater than 0 to 1, and those less than 0 to -1\n",
        "Y5_pred  = np.sign(Test(X_test,W,b))"
      ],
      "metadata": {
        "id": "S_flDvibUOTk"
      },
      "execution_count": null,
      "outputs": []
    },
    {
      "cell_type": "code",
      "source": [
        "Y5_pred = pd.DataFrame(Y5_pred)"
      ],
      "metadata": {
        "id": "Kpo8JGfWUOTk"
      },
      "execution_count": null,
      "outputs": []
    },
    {
      "cell_type": "markdown",
      "source": [
        "## Predicciones y6"
      ],
      "metadata": {
        "id": "C3oR49OJUOTk"
      }
    },
    {
      "cell_type": "code",
      "source": [
        "Y_train = y6_train"
      ],
      "metadata": {
        "id": "fxcwnyD1UOTk"
      },
      "execution_count": null,
      "outputs": []
    },
    {
      "cell_type": "code",
      "source": [
        "lambda_list = GetLambda(X_train,Y_train)\n",
        "sv = lambda_list > 1e-5"
      ],
      "metadata": {
        "id": "4ez8UP2SUOTl"
      },
      "execution_count": null,
      "outputs": []
    },
    {
      "cell_type": "code",
      "source": [
        "W = Get_W(X_train, Y_train, lambda_list)\n",
        "b = Get_b(X_train,W)\n",
        "\n",
        "# Convert all values greater than 0 to 1, and those less than 0 to -1\n",
        "Y6_pred  = np.sign(Test(X_test,W,b))"
      ],
      "metadata": {
        "id": "vv2y8JdSUOTl"
      },
      "execution_count": null,
      "outputs": []
    },
    {
      "cell_type": "code",
      "source": [
        "Y6_pred = pd.DataFrame(Y6_pred)"
      ],
      "metadata": {
        "id": "d8BXIZHlUOTl"
      },
      "execution_count": null,
      "outputs": []
    },
    {
      "cell_type": "markdown",
      "source": [
        "# Union de las predicciones"
      ],
      "metadata": {
        "id": "LHnn1an3WBu1"
      }
    },
    {
      "cell_type": "code",
      "source": [
        "pred_y = pred_y1"
      ],
      "metadata": {
        "id": "p4BtL-ntWHci"
      },
      "execution_count": null,
      "outputs": []
    },
    {
      "cell_type": "code",
      "source": [
        "for i in range(len(pred_y)):\n",
        "    if (pred_y.iloc[i, 0] == -1) and (pred_y2.iloc[i, 0]) == 1:\n",
        "        pred_y.iloc[i, 0] = 2\n",
        "\n",
        "count_minus_ones = (pred_y['0'] == -1).sum()\n",
        "print(count_minus_ones)"
      ],
      "metadata": {
        "id": "oythcc8WWHcj"
      },
      "execution_count": null,
      "outputs": []
    },
    {
      "cell_type": "code",
      "source": [
        "for i in range(len(pred_y)):\n",
        "    if (pred_y.iloc[i, 0] == -1) and (pred_y3.iloc[i, 0]) == 1:\n",
        "        pred_y.iloc[i, 0] = 3\n",
        "\n",
        "count_minus_ones = (pred_y['0'] == -1).sum()\n",
        "print(count_minus_ones)"
      ],
      "metadata": {
        "id": "UonsOZfAWHcj"
      },
      "execution_count": null,
      "outputs": []
    },
    {
      "cell_type": "code",
      "source": [
        "for i in range(len(pred_y)):\n",
        "    if (pred_y.iloc[i, 0] == -1) and (pred_y4.iloc[i, 0]) == 1:\n",
        "        pred_y.iloc[i, 0] = 4\n",
        "\n",
        "count_minus_ones = (pred_y['0'] == -1).sum()\n",
        "print(count_minus_ones)"
      ],
      "metadata": {
        "id": "uCm_uzKAWHck"
      },
      "execution_count": null,
      "outputs": []
    },
    {
      "cell_type": "code",
      "source": [
        "for i in range(len(pred_y)):\n",
        "    if (pred_y.iloc[i, 0] == -1) and (pred_y5.iloc[i, 0]) == 1:\n",
        "        pred_y.iloc[i, 0] = 5\n",
        "\n",
        "count_minus_ones = (pred_y['0'] == -1).sum()\n",
        "print(count_minus_ones)"
      ],
      "metadata": {
        "id": "KDJ6LS8mWHck"
      },
      "execution_count": null,
      "outputs": []
    },
    {
      "cell_type": "code",
      "source": [
        "for i in range(len(pred_y)):\n",
        "    if (pred_y.iloc[i, 0] == -1):\n",
        "        pred_y.iloc[i, 0] = 6\n",
        "\n",
        "count_minus_ones = (pred_y['0'] == -1).sum()\n",
        "print(count_minus_ones)"
      ],
      "metadata": {
        "id": "BNpc9pKQWHck"
      },
      "execution_count": null,
      "outputs": []
    },
    {
      "cell_type": "code",
      "source": [
        "print(pred_y)"
      ],
      "metadata": {
        "id": "IvhbfsIpWD0u"
      },
      "execution_count": null,
      "outputs": []
    },
    {
      "cell_type": "code",
      "source": [
        "npPredY = np.array(pred_y).squeeze()\n",
        "yTrain = np.array(df_y).squeeze()"
      ],
      "metadata": {
        "id": "ZtA8h_XtZugv"
      },
      "execution_count": null,
      "outputs": []
    },
    {
      "cell_type": "markdown",
      "source": [
        "## Matriz de confusión"
      ],
      "metadata": {
        "id": "Y76PIpCjZy-a"
      }
    },
    {
      "cell_type": "code",
      "source": [
        "show_metrics(yTrain, npPredY)"
      ],
      "metadata": {
        "id": "PhxAF-qRZyZL"
      },
      "execution_count": null,
      "outputs": []
    }
  ]
}