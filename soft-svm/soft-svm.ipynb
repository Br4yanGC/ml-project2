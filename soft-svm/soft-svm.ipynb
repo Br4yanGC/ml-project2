{
  "cells": [
    {
      "cell_type": "markdown",
      "metadata": {
        "id": "PdHwEACpCreK"
      },
      "source": [
        "# Seteo de librerias de utilidad"
      ]
    },
    {
      "cell_type": "code",
      "execution_count": null,
      "metadata": {
        "collapsed": true,
        "id": "W5Xr4dGkHacz",
        "colab": {
          "base_uri": "https://localhost:8080/"
        },
        "outputId": "722bf7ca-0ca3-45b1-cbd8-2ea6fbcc2604"
      },
      "outputs": [
        {
          "output_type": "stream",
          "name": "stdout",
          "text": [
            "Collecting tsfresh\n",
            "  Downloading tsfresh-0.20.2-py2.py3-none-any.whl (95 kB)\n",
            "\u001b[2K     \u001b[90m━━━━━━━━━━━━━━━━━━━━━━━━━━━━━━━━━━━━━━━━\u001b[0m \u001b[32m95.8/95.8 kB\u001b[0m \u001b[31m2.1 MB/s\u001b[0m eta \u001b[36m0:00:00\u001b[0m\n",
            "\u001b[?25hRequirement already satisfied: requests>=2.9.1 in /usr/local/lib/python3.10/dist-packages (from tsfresh) (2.31.0)\n",
            "Requirement already satisfied: numpy>=1.15.1 in /usr/local/lib/python3.10/dist-packages (from tsfresh) (1.25.2)\n",
            "Requirement already satisfied: pandas>=0.25.0 in /usr/local/lib/python3.10/dist-packages (from tsfresh) (2.0.3)\n",
            "Requirement already satisfied: scipy>=1.2.0 in /usr/local/lib/python3.10/dist-packages (from tsfresh) (1.11.4)\n",
            "Requirement already satisfied: statsmodels>=0.13 in /usr/local/lib/python3.10/dist-packages (from tsfresh) (0.14.2)\n",
            "Requirement already satisfied: patsy>=0.4.1 in /usr/local/lib/python3.10/dist-packages (from tsfresh) (0.5.6)\n",
            "Requirement already satisfied: scikit-learn>=0.22.0 in /usr/local/lib/python3.10/dist-packages (from tsfresh) (1.2.2)\n",
            "Requirement already satisfied: tqdm>=4.10.0 in /usr/local/lib/python3.10/dist-packages (from tsfresh) (4.66.4)\n",
            "Collecting stumpy>=1.7.2 (from tsfresh)\n",
            "  Downloading stumpy-1.12.0-py3-none-any.whl (169 kB)\n",
            "\u001b[2K     \u001b[90m━━━━━━━━━━━━━━━━━━━━━━━━━━━━━━━━━━━━━━━━\u001b[0m \u001b[32m169.1/169.1 kB\u001b[0m \u001b[31m9.4 MB/s\u001b[0m eta \u001b[36m0:00:00\u001b[0m\n",
            "\u001b[?25hRequirement already satisfied: cloudpickle in /usr/local/lib/python3.10/dist-packages (from tsfresh) (2.2.1)\n",
            "Requirement already satisfied: python-dateutil>=2.8.2 in /usr/local/lib/python3.10/dist-packages (from pandas>=0.25.0->tsfresh) (2.8.2)\n",
            "Requirement already satisfied: pytz>=2020.1 in /usr/local/lib/python3.10/dist-packages (from pandas>=0.25.0->tsfresh) (2023.4)\n",
            "Requirement already satisfied: tzdata>=2022.1 in /usr/local/lib/python3.10/dist-packages (from pandas>=0.25.0->tsfresh) (2024.1)\n",
            "Requirement already satisfied: six in /usr/local/lib/python3.10/dist-packages (from patsy>=0.4.1->tsfresh) (1.16.0)\n",
            "Requirement already satisfied: charset-normalizer<4,>=2 in /usr/local/lib/python3.10/dist-packages (from requests>=2.9.1->tsfresh) (3.3.2)\n",
            "Requirement already satisfied: idna<4,>=2.5 in /usr/local/lib/python3.10/dist-packages (from requests>=2.9.1->tsfresh) (3.7)\n",
            "Requirement already satisfied: urllib3<3,>=1.21.1 in /usr/local/lib/python3.10/dist-packages (from requests>=2.9.1->tsfresh) (2.0.7)\n",
            "Requirement already satisfied: certifi>=2017.4.17 in /usr/local/lib/python3.10/dist-packages (from requests>=2.9.1->tsfresh) (2024.2.2)\n",
            "Requirement already satisfied: joblib>=1.1.1 in /usr/local/lib/python3.10/dist-packages (from scikit-learn>=0.22.0->tsfresh) (1.4.2)\n",
            "Requirement already satisfied: threadpoolctl>=2.0.0 in /usr/local/lib/python3.10/dist-packages (from scikit-learn>=0.22.0->tsfresh) (3.5.0)\n",
            "Requirement already satisfied: packaging>=21.3 in /usr/local/lib/python3.10/dist-packages (from statsmodels>=0.13->tsfresh) (24.0)\n",
            "Requirement already satisfied: numba>=0.55.2 in /usr/local/lib/python3.10/dist-packages (from stumpy>=1.7.2->tsfresh) (0.58.1)\n",
            "Requirement already satisfied: llvmlite<0.42,>=0.41.0dev0 in /usr/local/lib/python3.10/dist-packages (from numba>=0.55.2->stumpy>=1.7.2->tsfresh) (0.41.1)\n",
            "Installing collected packages: stumpy, tsfresh\n",
            "Successfully installed stumpy-1.12.0 tsfresh-0.20.2\n"
          ]
        }
      ],
      "source": [
        "pip install tsfresh"
      ]
    },
    {
      "cell_type": "markdown",
      "metadata": {
        "id": "O9cNDbSECv6A"
      },
      "source": [
        "# Importación de archivos train.h5 y test.h5"
      ]
    },
    {
      "cell_type": "code",
      "execution_count": null,
      "metadata": {
        "colab": {
          "base_uri": "https://localhost:8080/"
        },
        "id": "-CLgyVXGuYoQ",
        "outputId": "ef7ea29b-f240-4243-86ef-fd2b5c2a9db8"
      },
      "outputs": [
        {
          "output_type": "stream",
          "name": "stdout",
          "text": [
            "Mounted at /content/drive\n"
          ]
        }
      ],
      "source": [
        "# Monta Google Drive\n",
        "from google.colab import drive\n",
        "drive.mount('/content/drive')\n",
        "\n",
        "# Ruta a los archivos h5 en Google Drive\n",
        "folder_path = '/content/drive/My Drive/Machine Learning/project-2-classification-d1/'\n",
        "\n",
        "train_path = folder_path + 'train.h5'\n",
        "test_path = folder_path + 'test.h5'"
      ]
    },
    {
      "cell_type": "markdown",
      "metadata": {
        "id": "fo9GzET9C3c0"
      },
      "source": [
        "# Vistazo a los datasets de los archivos train.h5 y test.h5"
      ]
    },
    {
      "cell_type": "code",
      "execution_count": null,
      "metadata": {
        "colab": {
          "base_uri": "https://localhost:8080/"
        },
        "id": "Ock4y0EA4KZW",
        "outputId": "54bba3b4-11cf-4080-9b25-54f0eff128e8"
      },
      "outputs": [
        {
          "name": "stdout",
          "output_type": "stream",
          "text": [
            "Claves en el archivo h5: ['body_acc_x', 'body_acc_y', 'body_acc_z', 'body_gyro_x', 'body_gyro_y', 'body_gyro_z', 'total_acc_x', 'total_acc_y', 'total_acc_z', 'y']\n",
            "Claves en el archivo h5: ['body_acc_x', 'body_acc_y', 'body_acc_z', 'body_gyro_x', 'body_gyro_y', 'body_gyro_z', 'total_acc_x', 'total_acc_y', 'total_acc_z']\n"
          ]
        }
      ],
      "source": [
        "import numpy as np\n",
        "import pandas as pd\n",
        "import h5py\n",
        "\n",
        "# Ruta al archivo h5 train\n",
        "with h5py.File(train_path, 'r') as f:\n",
        "    # Lista las claves (nombres de los datasets) en el archivo train.h5\n",
        "    print(\"Claves en el archivo h5:\", list(f.keys()))\n",
        "\n",
        "# Ruta al archivo h5 test\n",
        "with h5py.File(test_path, 'r') as f:\n",
        "    # Lista las claves (nombres de los datasets) en el archivo test.h5\n",
        "    print(\"Claves en el archivo h5:\", list(f.keys()))"
      ]
    },
    {
      "cell_type": "markdown",
      "metadata": {
        "id": "MNACGO4sDHDx"
      },
      "source": [
        "# Asignación de variables a los datasets del archivo train.h5"
      ]
    },
    {
      "cell_type": "code",
      "execution_count": null,
      "metadata": {
        "colab": {
          "base_uri": "https://localhost:8080/"
        },
        "id": "2e_HDq_3upN2",
        "outputId": "ddb7910b-8c71-45a6-a2b9-9feddeb66bfe"
      },
      "outputs": [
        {
          "output_type": "stream",
          "name": "stdout",
          "text": [
            "Dimensiones de body_acc_x: (7352, 128)\n",
            "Dimensiones de body_acc_y: (7352, 128)\n",
            "Dimensiones de body_acc_z: (7352, 128)\n",
            "Dimensiones de body_gyro_x: (7352, 128)\n",
            "Dimensiones de body_gyro_y: (7352, 128)\n",
            "Dimensiones de body_gyro_z: (7352, 128)\n",
            "Dimensiones de total_acc_x: (7352, 128)\n",
            "Dimensiones de total_acc_y: (7352, 128)\n",
            "Dimensiones de total_acc_z: (7352, 128)\n",
            "Dimensiones de y: (7352,)\n"
          ]
        }
      ],
      "source": [
        "import numpy as np\n",
        "import pandas as pd\n",
        "import h5py\n",
        "\n",
        "# Ruta al archivo h5 train\n",
        "with h5py.File(train_path, 'r') as f:\n",
        "    # Lee los dataset 'x' y los convierte a DataFrames de pandas\n",
        "    df_body_acc_x = pd.DataFrame(f['body_acc_x'][:])\n",
        "    df_body_acc_y = pd.DataFrame(f['body_acc_y'][:])\n",
        "    df_body_acc_z = pd.DataFrame(f['body_acc_z'][:])\n",
        "    df_body_gyro_x = pd.DataFrame(f['body_gyro_x'][:])\n",
        "    df_body_gyro_y = pd.DataFrame(f['body_gyro_y'][:])\n",
        "    df_body_gyro_z = pd.DataFrame(f['body_gyro_z'][:])\n",
        "    df_total_acc_x = pd.DataFrame(f['total_acc_x'][:])\n",
        "    df_total_acc_y = pd.DataFrame(f['total_acc_y'][:])\n",
        "    df_total_acc_z = pd.DataFrame(f['total_acc_z'][:])\n",
        "    # Lee el dataset 'y' y lo convierte a DataFrame de pandas\n",
        "    df_y = pd.DataFrame(f['y']).squeeze()\n",
        "\n",
        "# Imprime las dimensiones de los DataFrames\n",
        "print(\"Dimensiones de body_acc_x:\", df_body_acc_x.shape)\n",
        "print(\"Dimensiones de body_acc_y:\", df_body_acc_y.shape)\n",
        "print(\"Dimensiones de body_acc_z:\", df_body_acc_z.shape)\n",
        "print(\"Dimensiones de body_gyro_x:\", df_body_gyro_x.shape)\n",
        "print(\"Dimensiones de body_gyro_y:\", df_body_gyro_y.shape)\n",
        "print(\"Dimensiones de body_gyro_z:\", df_body_gyro_z.shape)\n",
        "print(\"Dimensiones de total_acc_x:\", df_total_acc_x.shape)\n",
        "print(\"Dimensiones de total_acc_y:\", df_total_acc_y.shape)\n",
        "print(\"Dimensiones de total_acc_z:\", df_total_acc_z.shape)\n",
        "print(\"Dimensiones de y:\", df_y.shape)\n",
        "\n",
        "# Imprime los primeros elementos de los DataFrames\n",
        "# print(\"Primeros elementos de df_body_acc_x:\", df_body_acc_x.head())\n",
        "# print(\"Primeros elementos de y:\", (df_y.squeeze()))"
      ]
    },
    {
      "cell_type": "markdown",
      "metadata": {
        "id": "TI8INcpaZ7q3"
      },
      "source": [
        "# Unimos los datasets del archivo train.h5 en uno solo, exceptuando el dataset y\n",
        "La unión de los datasets dará como resultado una matriz la cual funcionará como nuestro X. Recordar que al usar la función `concat` los keys de las columnas serán las mismas de los datasets a los que pertenecieron. Optaremos por reescribir los keys, solo para prevenir posibles errores que podrían aparecer al trabajar con la libreria `tsfresh`\n"
      ]
    },
    {
      "cell_type": "code",
      "execution_count": null,
      "metadata": {
        "id": "rStyoOWPZ8S7"
      },
      "outputs": [],
      "source": [
        "df_x = pd.concat([df_body_acc_x, df_body_acc_y, df_body_acc_z,\n",
        "                  df_body_gyro_x, df_body_gyro_y, df_body_gyro_z,\n",
        "                  df_total_acc_x, df_total_acc_y, df_total_acc_z], axis=1)\n",
        "df_x.columns = range(df_x.shape[1])"
      ]
    },
    {
      "cell_type": "code",
      "execution_count": null,
      "metadata": {
        "colab": {
          "base_uri": "https://localhost:8080/"
        },
        "id": "oxHpLoezaKI4",
        "outputId": "cca0891e-395f-4ad9-a7a0-61125c5c2626"
      },
      "outputs": [
        {
          "output_type": "stream",
          "name": "stdout",
          "text": [
            "RangeIndex(start=0, stop=1152, step=1)\n"
          ]
        }
      ],
      "source": [
        "print(df_x.keys())"
      ]
    },
    {
      "cell_type": "markdown",
      "metadata": {
        "id": "HLhshR4YDWEI"
      },
      "source": [
        "# Conversión de la variable *df_body_acc_x* a un formato compatible con la librería *tsfresh*\n",
        "\n",
        "(Nota: Esto se tiene que repetir también con las demás variables del train.h5)\n",
        "\n",
        "(Nota futura: Al final repetimos aquello pero sobre un dataset que une todas las variables (exceptuando la y) de train.h5)"
      ]
    },
    {
      "cell_type": "code",
      "execution_count": null,
      "metadata": {
        "colab": {
          "base_uri": "https://localhost:8080/"
        },
        "id": "RdwkuIPMLKyM",
        "outputId": "8d765b39-ae5f-4166-e780-82594dafe44b"
      },
      "outputs": [
        {
          "output_type": "stream",
          "name": "stdout",
          "text": [
            "RangeIndex(start=0, stop=7352, step=1)\n"
          ]
        }
      ],
      "source": [
        "print(df_body_acc_x.index)"
      ]
    },
    {
      "cell_type": "code",
      "execution_count": null,
      "metadata": {
        "id": "o79vFZJ4LW6_"
      },
      "outputs": [],
      "source": [
        "df_body_acc_x['id'] = df_body_acc_x.index\n",
        "# print(df_body_acc_x)"
      ]
    },
    {
      "cell_type": "code",
      "execution_count": null,
      "metadata": {
        "colab": {
          "base_uri": "https://localhost:8080/"
        },
        "collapsed": true,
        "id": "_eOwcA8aVbaz",
        "outputId": "739ac030-6f89-478f-d34d-74e0b719d0db"
      },
      "outputs": [
        {
          "name": "stdout",
          "output_type": "stream",
          "text": [
            "0          0\n",
            "1          1\n",
            "2          2\n",
            "3          3\n",
            "4          4\n",
            "        ... \n",
            "7347    7347\n",
            "7348    7348\n",
            "7349    7349\n",
            "7350    7350\n",
            "7351    7351\n",
            "Name: id, Length: 7352, dtype: int64\n"
          ]
        }
      ],
      "source": [
        "print(df_body_acc_x['id'])"
      ]
    },
    {
      "cell_type": "code",
      "execution_count": null,
      "metadata": {
        "id": "5XVfadi1N-a8"
      },
      "outputs": [],
      "source": [
        "long_df_body_acc_x = df_body_acc_x.melt(id_vars=['id'], var_name='time', value_name='value')\n",
        "# print(long_df_body_acc_x)"
      ]
    },
    {
      "cell_type": "markdown",
      "metadata": {
        "id": "mhU4CAkAD1KB"
      },
      "source": [
        "# Generación de features de las series temporales\n",
        " ``extracted_features``: Son las características extraídas de las series temporales. Estas características pueden incluir estadísticas como la media, la desviación estándar, las frecuencias dominantes, y muchas otras propiedades estadísticas y matemáticas que pueden describir el comportamiento de las series temporales\n",
        "\n",
        "**Propósito de los extracted_features**\n",
        "- **Caracterización Completa**: Las características extraídas proporcionan una descripción rica y detallada de las series temporales. Esto puede ser extremadamente útil para el análisis y la construcción de modelos predictivos.\n",
        "\n",
        "- **Reducción de Dimensionalidad**: En lugar de trabajar con los datos de la serie temporal cruda, que puede ser de alta dimensionalidad, las características extraídas pueden ofrecer una representación más compacta y manejable.\n",
        "\n",
        "- **Facilitación del Aprendizaje Automático**: Los algoritmos de aprendizaje automático funcionan mejor con características significativas y bien definidas. Las características extraídas pueden mejorar el rendimiento de los modelos al proporcionar estas entradas bien definidas.\n"
      ]
    },
    {
      "cell_type": "code",
      "execution_count": null,
      "metadata": {
        "colab": {
          "base_uri": "https://localhost:8080/",
          "height": 356
        },
        "collapsed": true,
        "id": "CWiqn8PADomb",
        "outputId": "a95bcff2-fadb-4ffd-94fe-b16e24a5e60e"
      },
      "outputs": [
        {
          "output_type": "stream",
          "name": "stderr",
          "text": [
            "WARNING:tsfresh.feature_extraction.settings:Dependency not available for matrix_profile, this feature will be disabled!\n",
            "Feature Extraction:  19%|█▉        | 1380/7352 [02:50<12:17,  8.09it/s]\n"
          ]
        },
        {
          "output_type": "error",
          "ename": "KeyboardInterrupt",
          "evalue": "",
          "traceback": [
            "\u001b[0;31m---------------------------------------------------------------------------\u001b[0m",
            "\u001b[0;31mKeyboardInterrupt\u001b[0m                         Traceback (most recent call last)",
            "\u001b[0;32m<ipython-input-9-5cfd9922c2f4>\u001b[0m in \u001b[0;36m<cell line: 3>\u001b[0;34m()\u001b[0m\n\u001b[1;32m      1\u001b[0m \u001b[0;32mfrom\u001b[0m \u001b[0mtsfresh\u001b[0m \u001b[0;32mimport\u001b[0m \u001b[0mextract_features\u001b[0m\u001b[0;34m\u001b[0m\u001b[0;34m\u001b[0m\u001b[0m\n\u001b[1;32m      2\u001b[0m \u001b[0;34m\u001b[0m\u001b[0m\n\u001b[0;32m----> 3\u001b[0;31m \u001b[0mextracted_features\u001b[0m \u001b[0;34m=\u001b[0m \u001b[0mextract_features\u001b[0m\u001b[0;34m(\u001b[0m\u001b[0mlong_df_body_acc_x\u001b[0m\u001b[0;34m,\u001b[0m \u001b[0mcolumn_id\u001b[0m\u001b[0;34m=\u001b[0m\u001b[0;34m'id'\u001b[0m\u001b[0;34m,\u001b[0m \u001b[0mcolumn_sort\u001b[0m\u001b[0;34m=\u001b[0m\u001b[0;34m'time'\u001b[0m\u001b[0;34m)\u001b[0m\u001b[0;34m\u001b[0m\u001b[0;34m\u001b[0m\u001b[0m\n\u001b[0m",
            "\u001b[0;32m/usr/local/lib/python3.10/dist-packages/tsfresh/feature_extraction/extraction.py\u001b[0m in \u001b[0;36mextract_features\u001b[0;34m(timeseries_container, default_fc_parameters, kind_to_fc_parameters, column_id, column_sort, column_kind, column_value, chunksize, n_jobs, show_warnings, disable_progressbar, impute_function, profile, profiling_filename, profiling_sorting, distributor, pivot)\u001b[0m\n\u001b[1;32m    162\u001b[0m             \u001b[0mwarnings\u001b[0m\u001b[0;34m.\u001b[0m\u001b[0msimplefilter\u001b[0m\u001b[0;34m(\u001b[0m\u001b[0;34m\"default\"\u001b[0m\u001b[0;34m)\u001b[0m\u001b[0;34m\u001b[0m\u001b[0;34m\u001b[0m\u001b[0m\n\u001b[1;32m    163\u001b[0m \u001b[0;34m\u001b[0m\u001b[0m\n\u001b[0;32m--> 164\u001b[0;31m         result = _do_extraction(\n\u001b[0m\u001b[1;32m    165\u001b[0m             \u001b[0mdf\u001b[0m\u001b[0;34m=\u001b[0m\u001b[0mtimeseries_container\u001b[0m\u001b[0;34m,\u001b[0m\u001b[0;34m\u001b[0m\u001b[0;34m\u001b[0m\u001b[0m\n\u001b[1;32m    166\u001b[0m             \u001b[0mcolumn_id\u001b[0m\u001b[0;34m=\u001b[0m\u001b[0mcolumn_id\u001b[0m\u001b[0;34m,\u001b[0m\u001b[0;34m\u001b[0m\u001b[0;34m\u001b[0m\u001b[0m\n",
            "\u001b[0;32m/usr/local/lib/python3.10/dist-packages/tsfresh/feature_extraction/extraction.py\u001b[0m in \u001b[0;36m_do_extraction\u001b[0;34m(df, column_id, column_value, column_kind, column_sort, default_fc_parameters, kind_to_fc_parameters, n_jobs, chunk_size, disable_progressbar, show_warnings, distributor, pivot)\u001b[0m\n\u001b[1;32m    292\u001b[0m     )\n\u001b[1;32m    293\u001b[0m \u001b[0;34m\u001b[0m\u001b[0m\n\u001b[0;32m--> 294\u001b[0;31m     result = distributor.map_reduce(\n\u001b[0m\u001b[1;32m    295\u001b[0m         \u001b[0m_do_extraction_on_chunk\u001b[0m\u001b[0;34m,\u001b[0m\u001b[0;34m\u001b[0m\u001b[0;34m\u001b[0m\u001b[0m\n\u001b[1;32m    296\u001b[0m         \u001b[0mdata\u001b[0m\u001b[0;34m=\u001b[0m\u001b[0mdata\u001b[0m\u001b[0;34m,\u001b[0m\u001b[0;34m\u001b[0m\u001b[0;34m\u001b[0m\u001b[0m\n",
            "\u001b[0;32m/usr/local/lib/python3.10/dist-packages/tsfresh/utilities/distribution.py\u001b[0m in \u001b[0;36mmap_reduce\u001b[0;34m(self, map_function, data, function_kwargs, chunk_size, data_length)\u001b[0m\n\u001b[1;32m    239\u001b[0m             )\n\u001b[1;32m    240\u001b[0m \u001b[0;34m\u001b[0m\u001b[0m\n\u001b[0;32m--> 241\u001b[0;31m         \u001b[0mresult\u001b[0m \u001b[0;34m=\u001b[0m \u001b[0mlist\u001b[0m\u001b[0;34m(\u001b[0m\u001b[0mitertools\u001b[0m\u001b[0;34m.\u001b[0m\u001b[0mchain\u001b[0m\u001b[0;34m.\u001b[0m\u001b[0mfrom_iterable\u001b[0m\u001b[0;34m(\u001b[0m\u001b[0mresult\u001b[0m\u001b[0;34m)\u001b[0m\u001b[0;34m)\u001b[0m\u001b[0;34m\u001b[0m\u001b[0;34m\u001b[0m\u001b[0m\n\u001b[0m\u001b[1;32m    242\u001b[0m \u001b[0;34m\u001b[0m\u001b[0m\n\u001b[1;32m    243\u001b[0m         \u001b[0mself\u001b[0m\u001b[0;34m.\u001b[0m\u001b[0mclose\u001b[0m\u001b[0;34m(\u001b[0m\u001b[0;34m)\u001b[0m\u001b[0;34m\u001b[0m\u001b[0;34m\u001b[0m\u001b[0m\n",
            "\u001b[0;32m/usr/local/lib/python3.10/dist-packages/tqdm/std.py\u001b[0m in \u001b[0;36m__iter__\u001b[0;34m(self)\u001b[0m\n\u001b[1;32m   1179\u001b[0m \u001b[0;34m\u001b[0m\u001b[0m\n\u001b[1;32m   1180\u001b[0m         \u001b[0;32mtry\u001b[0m\u001b[0;34m:\u001b[0m\u001b[0;34m\u001b[0m\u001b[0;34m\u001b[0m\u001b[0m\n\u001b[0;32m-> 1181\u001b[0;31m             \u001b[0;32mfor\u001b[0m \u001b[0mobj\u001b[0m \u001b[0;32min\u001b[0m \u001b[0miterable\u001b[0m\u001b[0;34m:\u001b[0m\u001b[0;34m\u001b[0m\u001b[0;34m\u001b[0m\u001b[0m\n\u001b[0m\u001b[1;32m   1182\u001b[0m                 \u001b[0;32myield\u001b[0m \u001b[0mobj\u001b[0m\u001b[0;34m\u001b[0m\u001b[0;34m\u001b[0m\u001b[0m\n\u001b[1;32m   1183\u001b[0m                 \u001b[0;31m# Update and possibly print the progressbar.\u001b[0m\u001b[0;34m\u001b[0m\u001b[0;34m\u001b[0m\u001b[0m\n",
            "\u001b[0;32m/usr/local/lib/python3.10/dist-packages/tsfresh/utilities/distribution.py\u001b[0m in \u001b[0;36m_function_with_partly_reduce\u001b[0;34m(chunk_list, map_function, kwargs)\u001b[0m\n\u001b[1;32m     41\u001b[0m     \u001b[0mkwargs\u001b[0m \u001b[0;34m=\u001b[0m \u001b[0mkwargs\u001b[0m \u001b[0;32mor\u001b[0m \u001b[0;34m{\u001b[0m\u001b[0;34m}\u001b[0m\u001b[0;34m\u001b[0m\u001b[0;34m\u001b[0m\u001b[0m\n\u001b[1;32m     42\u001b[0m     \u001b[0mresults\u001b[0m \u001b[0;34m=\u001b[0m \u001b[0;34m(\u001b[0m\u001b[0mmap_function\u001b[0m\u001b[0;34m(\u001b[0m\u001b[0mchunk\u001b[0m\u001b[0;34m,\u001b[0m \u001b[0;34m**\u001b[0m\u001b[0mkwargs\u001b[0m\u001b[0;34m)\u001b[0m \u001b[0;32mfor\u001b[0m \u001b[0mchunk\u001b[0m \u001b[0;32min\u001b[0m \u001b[0mchunk_list\u001b[0m\u001b[0;34m)\u001b[0m\u001b[0;34m\u001b[0m\u001b[0;34m\u001b[0m\u001b[0m\n\u001b[0;32m---> 43\u001b[0;31m     \u001b[0mresults\u001b[0m \u001b[0;34m=\u001b[0m \u001b[0mlist\u001b[0m\u001b[0;34m(\u001b[0m\u001b[0mitertools\u001b[0m\u001b[0;34m.\u001b[0m\u001b[0mchain\u001b[0m\u001b[0;34m.\u001b[0m\u001b[0mfrom_iterable\u001b[0m\u001b[0;34m(\u001b[0m\u001b[0mresults\u001b[0m\u001b[0;34m)\u001b[0m\u001b[0;34m)\u001b[0m\u001b[0;34m\u001b[0m\u001b[0;34m\u001b[0m\u001b[0m\n\u001b[0m\u001b[1;32m     44\u001b[0m     \u001b[0;32mreturn\u001b[0m \u001b[0mresults\u001b[0m\u001b[0;34m\u001b[0m\u001b[0;34m\u001b[0m\u001b[0m\n\u001b[1;32m     45\u001b[0m \u001b[0;34m\u001b[0m\u001b[0m\n",
            "\u001b[0;32m/usr/local/lib/python3.10/dist-packages/tsfresh/utilities/distribution.py\u001b[0m in \u001b[0;36m<genexpr>\u001b[0;34m(.0)\u001b[0m\n\u001b[1;32m     40\u001b[0m     \"\"\"\n\u001b[1;32m     41\u001b[0m     \u001b[0mkwargs\u001b[0m \u001b[0;34m=\u001b[0m \u001b[0mkwargs\u001b[0m \u001b[0;32mor\u001b[0m \u001b[0;34m{\u001b[0m\u001b[0;34m}\u001b[0m\u001b[0;34m\u001b[0m\u001b[0;34m\u001b[0m\u001b[0m\n\u001b[0;32m---> 42\u001b[0;31m     \u001b[0mresults\u001b[0m \u001b[0;34m=\u001b[0m \u001b[0;34m(\u001b[0m\u001b[0mmap_function\u001b[0m\u001b[0;34m(\u001b[0m\u001b[0mchunk\u001b[0m\u001b[0;34m,\u001b[0m \u001b[0;34m**\u001b[0m\u001b[0mkwargs\u001b[0m\u001b[0;34m)\u001b[0m \u001b[0;32mfor\u001b[0m \u001b[0mchunk\u001b[0m \u001b[0;32min\u001b[0m \u001b[0mchunk_list\u001b[0m\u001b[0;34m)\u001b[0m\u001b[0;34m\u001b[0m\u001b[0;34m\u001b[0m\u001b[0m\n\u001b[0m\u001b[1;32m     43\u001b[0m     \u001b[0mresults\u001b[0m \u001b[0;34m=\u001b[0m \u001b[0mlist\u001b[0m\u001b[0;34m(\u001b[0m\u001b[0mitertools\u001b[0m\u001b[0;34m.\u001b[0m\u001b[0mchain\u001b[0m\u001b[0;34m.\u001b[0m\u001b[0mfrom_iterable\u001b[0m\u001b[0;34m(\u001b[0m\u001b[0mresults\u001b[0m\u001b[0;34m)\u001b[0m\u001b[0;34m)\u001b[0m\u001b[0;34m\u001b[0m\u001b[0;34m\u001b[0m\u001b[0m\n\u001b[1;32m     44\u001b[0m     \u001b[0;32mreturn\u001b[0m \u001b[0mresults\u001b[0m\u001b[0;34m\u001b[0m\u001b[0;34m\u001b[0m\u001b[0m\n",
            "\u001b[0;32m/usr/local/lib/python3.10/dist-packages/tsfresh/feature_extraction/extraction.py\u001b[0m in \u001b[0;36m_do_extraction_on_chunk\u001b[0;34m(chunk, default_fc_parameters, kind_to_fc_parameters, show_warnings)\u001b[0m\n\u001b[1;32m    384\u001b[0m             \u001b[0mwarnings\u001b[0m\u001b[0;34m.\u001b[0m\u001b[0msimplefilter\u001b[0m\u001b[0;34m(\u001b[0m\u001b[0;34m\"default\"\u001b[0m\u001b[0;34m)\u001b[0m\u001b[0;34m\u001b[0m\u001b[0;34m\u001b[0m\u001b[0m\n\u001b[1;32m    385\u001b[0m \u001b[0;34m\u001b[0m\u001b[0m\n\u001b[0;32m--> 386\u001b[0;31m         \u001b[0;32mreturn\u001b[0m \u001b[0mlist\u001b[0m\u001b[0;34m(\u001b[0m\u001b[0m_f\u001b[0m\u001b[0;34m(\u001b[0m\u001b[0;34m)\u001b[0m\u001b[0;34m)\u001b[0m\u001b[0;34m\u001b[0m\u001b[0;34m\u001b[0m\u001b[0m\n\u001b[0m",
            "\u001b[0;32m/usr/local/lib/python3.10/dist-packages/tsfresh/feature_extraction/extraction.py\u001b[0m in \u001b[0;36m_f\u001b[0;34m()\u001b[0m\n\u001b[1;32m    370\u001b[0m                     )\n\u001b[1;32m    371\u001b[0m                 \u001b[0;32melse\u001b[0m\u001b[0;34m:\u001b[0m\u001b[0;34m\u001b[0m\u001b[0;34m\u001b[0m\u001b[0m\n\u001b[0;32m--> 372\u001b[0;31m                     \u001b[0mresult\u001b[0m \u001b[0;34m=\u001b[0m \u001b[0;34m[\u001b[0m\u001b[0;34m(\u001b[0m\u001b[0;34m\"\"\u001b[0m\u001b[0;34m,\u001b[0m \u001b[0mfunc\u001b[0m\u001b[0;34m(\u001b[0m\u001b[0mx\u001b[0m\u001b[0;34m)\u001b[0m\u001b[0;34m)\u001b[0m\u001b[0;34m]\u001b[0m\u001b[0;34m\u001b[0m\u001b[0;34m\u001b[0m\u001b[0m\n\u001b[0m\u001b[1;32m    373\u001b[0m \u001b[0;34m\u001b[0m\u001b[0m\n\u001b[1;32m    374\u001b[0m             \u001b[0;32mfor\u001b[0m \u001b[0mkey\u001b[0m\u001b[0;34m,\u001b[0m \u001b[0mitem\u001b[0m \u001b[0;32min\u001b[0m \u001b[0mresult\u001b[0m\u001b[0;34m:\u001b[0m\u001b[0;34m\u001b[0m\u001b[0;34m\u001b[0m\u001b[0m\n",
            "\u001b[0;32m/usr/local/lib/python3.10/dist-packages/tsfresh/feature_extraction/feature_calculators.py\u001b[0m in \u001b[0;36msample_entropy\u001b[0;34m(x)\u001b[0m\n\u001b[1;32m   1727\u001b[0m     \u001b[0;31m# [0, 1] and [1, 0]\u001b[0m\u001b[0;34m\u001b[0m\u001b[0;34m\u001b[0m\u001b[0m\n\u001b[1;32m   1728\u001b[0m     \u001b[0;31m# as the diagonal elements are always 0, we substract 1.\u001b[0m\u001b[0;34m\u001b[0m\u001b[0;34m\u001b[0m\u001b[0m\n\u001b[0;32m-> 1729\u001b[0;31m     \u001b[0mB\u001b[0m \u001b[0;34m=\u001b[0m \u001b[0mnp\u001b[0m\u001b[0;34m.\u001b[0m\u001b[0msum\u001b[0m\u001b[0;34m(\u001b[0m\u001b[0;34m[\u001b[0m\u001b[0mnp\u001b[0m\u001b[0;34m.\u001b[0m\u001b[0msum\u001b[0m\u001b[0;34m(\u001b[0m\u001b[0mnp\u001b[0m\u001b[0;34m.\u001b[0m\u001b[0mabs\u001b[0m\u001b[0;34m(\u001b[0m\u001b[0mxmi\u001b[0m \u001b[0;34m-\u001b[0m \u001b[0mxm\u001b[0m\u001b[0;34m)\u001b[0m\u001b[0;34m.\u001b[0m\u001b[0mmax\u001b[0m\u001b[0;34m(\u001b[0m\u001b[0maxis\u001b[0m\u001b[0;34m=\u001b[0m\u001b[0;36m1\u001b[0m\u001b[0;34m)\u001b[0m \u001b[0;34m<=\u001b[0m \u001b[0mtolerance\u001b[0m\u001b[0;34m)\u001b[0m \u001b[0;34m-\u001b[0m \u001b[0;36m1\u001b[0m \u001b[0;32mfor\u001b[0m \u001b[0mxmi\u001b[0m \u001b[0;32min\u001b[0m \u001b[0mxm\u001b[0m\u001b[0;34m]\u001b[0m\u001b[0;34m)\u001b[0m\u001b[0;34m\u001b[0m\u001b[0;34m\u001b[0m\u001b[0m\n\u001b[0m\u001b[1;32m   1730\u001b[0m \u001b[0;34m\u001b[0m\u001b[0m\n\u001b[1;32m   1731\u001b[0m     \u001b[0;31m# Similar for computing A\u001b[0m\u001b[0;34m\u001b[0m\u001b[0;34m\u001b[0m\u001b[0m\n",
            "\u001b[0;32m/usr/local/lib/python3.10/dist-packages/tsfresh/feature_extraction/feature_calculators.py\u001b[0m in \u001b[0;36m<listcomp>\u001b[0;34m(.0)\u001b[0m\n\u001b[1;32m   1727\u001b[0m     \u001b[0;31m# [0, 1] and [1, 0]\u001b[0m\u001b[0;34m\u001b[0m\u001b[0;34m\u001b[0m\u001b[0m\n\u001b[1;32m   1728\u001b[0m     \u001b[0;31m# as the diagonal elements are always 0, we substract 1.\u001b[0m\u001b[0;34m\u001b[0m\u001b[0;34m\u001b[0m\u001b[0m\n\u001b[0;32m-> 1729\u001b[0;31m     \u001b[0mB\u001b[0m \u001b[0;34m=\u001b[0m \u001b[0mnp\u001b[0m\u001b[0;34m.\u001b[0m\u001b[0msum\u001b[0m\u001b[0;34m(\u001b[0m\u001b[0;34m[\u001b[0m\u001b[0mnp\u001b[0m\u001b[0;34m.\u001b[0m\u001b[0msum\u001b[0m\u001b[0;34m(\u001b[0m\u001b[0mnp\u001b[0m\u001b[0;34m.\u001b[0m\u001b[0mabs\u001b[0m\u001b[0;34m(\u001b[0m\u001b[0mxmi\u001b[0m \u001b[0;34m-\u001b[0m \u001b[0mxm\u001b[0m\u001b[0;34m)\u001b[0m\u001b[0;34m.\u001b[0m\u001b[0mmax\u001b[0m\u001b[0;34m(\u001b[0m\u001b[0maxis\u001b[0m\u001b[0;34m=\u001b[0m\u001b[0;36m1\u001b[0m\u001b[0;34m)\u001b[0m \u001b[0;34m<=\u001b[0m \u001b[0mtolerance\u001b[0m\u001b[0;34m)\u001b[0m \u001b[0;34m-\u001b[0m \u001b[0;36m1\u001b[0m \u001b[0;32mfor\u001b[0m \u001b[0mxmi\u001b[0m \u001b[0;32min\u001b[0m \u001b[0mxm\u001b[0m\u001b[0;34m]\u001b[0m\u001b[0;34m)\u001b[0m\u001b[0;34m\u001b[0m\u001b[0;34m\u001b[0m\u001b[0m\n\u001b[0m\u001b[1;32m   1730\u001b[0m \u001b[0;34m\u001b[0m\u001b[0m\n\u001b[1;32m   1731\u001b[0m     \u001b[0;31m# Similar for computing A\u001b[0m\u001b[0;34m\u001b[0m\u001b[0;34m\u001b[0m\u001b[0m\n",
            "\u001b[0;32m/usr/local/lib/python3.10/dist-packages/numpy/core/fromnumeric.py\u001b[0m in \u001b[0;36m_sum_dispatcher\u001b[0;34m(a, axis, dtype, out, keepdims, initial, where)\u001b[0m\n\u001b[1;32m   2170\u001b[0m \u001b[0;34m\u001b[0m\u001b[0m\n\u001b[1;32m   2171\u001b[0m \u001b[0;34m\u001b[0m\u001b[0m\n\u001b[0;32m-> 2172\u001b[0;31m def _sum_dispatcher(a, axis=None, dtype=None, out=None, keepdims=None,\n\u001b[0m\u001b[1;32m   2173\u001b[0m                     initial=None, where=None):\n\u001b[1;32m   2174\u001b[0m     \u001b[0;32mreturn\u001b[0m \u001b[0;34m(\u001b[0m\u001b[0ma\u001b[0m\u001b[0;34m,\u001b[0m \u001b[0mout\u001b[0m\u001b[0;34m)\u001b[0m\u001b[0;34m\u001b[0m\u001b[0;34m\u001b[0m\u001b[0m\n",
            "\u001b[0;31mKeyboardInterrupt\u001b[0m: "
          ]
        }
      ],
      "source": [
        "from tsfresh import extract_features\n",
        "\n",
        "extracted_features = extract_features(long_df_body_acc_x, column_id='id', column_sort='time')"
      ]
    },
    {
      "cell_type": "code",
      "execution_count": null,
      "metadata": {
        "colab": {
          "base_uri": "https://localhost:8080/"
        },
        "collapsed": true,
        "id": "s9HdQE6UTKWx",
        "outputId": "fc4c6424-8412-4a8f-ad3b-4dd8efa345d3"
      },
      "outputs": [
        {
          "name": "stdout",
          "output_type": "stream",
          "text": [
            "   value__variance_larger_than_standard_deviation  value__has_duplicate_max  \\\n",
            "0                                             0.0                       0.0   \n",
            "1                                             0.0                       0.0   \n",
            "2                                             0.0                       0.0   \n",
            "3                                             0.0                       0.0   \n",
            "4                                             0.0                       0.0   \n",
            "\n",
            "   value__has_duplicate_min  value__has_duplicate  value__sum_values  \\\n",
            "0                       0.0                   0.0           0.290392   \n",
            "1                       0.0                   0.0           0.022239   \n",
            "2                       0.0                   0.0           0.054796   \n",
            "3                       0.0                   0.0           0.042157   \n",
            "4                       0.0                   0.0          -0.024980   \n",
            "\n",
            "   value__abs_energy  value__mean_abs_change  value__mean_change  \\\n",
            "0           0.001766                0.001435            0.000011   \n",
            "1           0.000506                0.001323           -0.000021   \n",
            "2           0.001106                0.001827           -0.000011   \n",
            "3           0.000932                0.001470            0.000014   \n",
            "4           0.000525                0.001215           -0.000027   \n",
            "\n",
            "   value__mean_second_derivative_central  value__median  ...  \\\n",
            "0                              -0.000032       0.002025  ...   \n",
            "1                              -0.000008       0.000110  ...   \n",
            "2                               0.000001       0.000627  ...   \n",
            "3                               0.000003       0.000269  ...   \n",
            "4                              -0.000007      -0.000144  ...   \n",
            "\n",
            "   value__fourier_entropy__bins_5  value__fourier_entropy__bins_10  \\\n",
            "0                        0.079487                         0.419383   \n",
            "1                        0.891060                         1.336251   \n",
            "2                        0.948691                         1.397948   \n",
            "3                        0.600197                         1.022235   \n",
            "4                        0.866293                         1.327997   \n",
            "\n",
            "   value__fourier_entropy__bins_100  \\\n",
            "0                          2.000401   \n",
            "1                          3.019874   \n",
            "2                          2.576279   \n",
            "3                          2.654834   \n",
            "4                          2.760333   \n",
            "\n",
            "   value__permutation_entropy__dimension_3__tau_1  \\\n",
            "0                                        1.747535   \n",
            "1                                        1.706146   \n",
            "2                                        1.669552   \n",
            "3                                        1.638109   \n",
            "4                                        1.637482   \n",
            "\n",
            "   value__permutation_entropy__dimension_4__tau_1  \\\n",
            "0                                        3.015811   \n",
            "1                                        2.903657   \n",
            "2                                        2.772489   \n",
            "3                                        2.654572   \n",
            "4                                        2.680036   \n",
            "\n",
            "   value__permutation_entropy__dimension_5__tau_1  \\\n",
            "0                                        4.068979   \n",
            "1                                        3.936212   \n",
            "2                                        3.784472   \n",
            "3                                        3.644889   \n",
            "4                                        3.652981   \n",
            "\n",
            "   value__permutation_entropy__dimension_6__tau_1  \\\n",
            "0                                        4.555721   \n",
            "1                                        4.520418   \n",
            "2                                        4.409911   \n",
            "3                                        4.335833   \n",
            "4                                        4.350795   \n",
            "\n",
            "   value__permutation_entropy__dimension_7__tau_1  \\\n",
            "0                                        4.724480   \n",
            "1                                        4.747206   \n",
            "2                                        4.735843   \n",
            "3                                        4.686101   \n",
            "4                                        4.656301   \n",
            "\n",
            "   value__query_similarity_count__query_None__threshold_0.0  \\\n",
            "0                                                NaN          \n",
            "1                                                NaN          \n",
            "2                                                NaN          \n",
            "3                                                NaN          \n",
            "4                                                NaN          \n",
            "\n",
            "   value__mean_n_absolute_max__number_of_maxima_7  \n",
            "0                                        0.008684  \n",
            "1                                        0.005250  \n",
            "2                                        0.007916  \n",
            "3                                        0.007687  \n",
            "4                                        0.004961  \n",
            "\n",
            "[5 rows x 783 columns]\n"
          ]
        }
      ],
      "source": [
        "print(extracted_features.head())"
      ]
    },
    {
      "cell_type": "code",
      "execution_count": null,
      "metadata": {
        "colab": {
          "base_uri": "https://localhost:8080/"
        },
        "collapsed": true,
        "id": "lAvKQwdaQZs7",
        "outputId": "fb37601a-ca8e-489c-f2e3-3a1bbc737f6d"
      },
      "outputs": [
        {
          "name": "stdout",
          "output_type": "stream",
          "text": [
            "Shape: \n",
            " (7352, 783)\n",
            "Descriptive statistics: \n",
            "        value__variance_larger_than_standard_deviation  \\\n",
            "count                                          7352.0   \n",
            "mean                                              0.0   \n",
            "std                                               0.0   \n",
            "min                                               0.0   \n",
            "25%                                               0.0   \n",
            "50%                                               0.0   \n",
            "75%                                               0.0   \n",
            "max                                               0.0   \n",
            "\n",
            "       value__has_duplicate_max  value__has_duplicate_min  \\\n",
            "count                    7352.0                    7352.0   \n",
            "mean                        0.0                       0.0   \n",
            "std                         0.0                       0.0   \n",
            "min                         0.0                       0.0   \n",
            "25%                         0.0                       0.0   \n",
            "50%                         0.0                       0.0   \n",
            "75%                         0.0                       0.0   \n",
            "max                         0.0                       0.0   \n",
            "\n",
            "       value__has_duplicate  value__sum_values  value__abs_energy  \\\n",
            "count           7352.000000        7352.000000        7352.000000   \n",
            "mean               0.000952          -0.081447           4.859584   \n",
            "std                0.030844           1.853377           7.010005   \n",
            "min                0.000000         -33.700321           0.000271   \n",
            "25%                0.000000          -0.385138           0.001999   \n",
            "50%                0.000000          -0.010087           0.053028   \n",
            "75%                0.000000           0.287138           7.811842   \n",
            "max                1.000000          19.056348          54.004917   \n",
            "\n",
            "       value__mean_abs_change  value__mean_change  \\\n",
            "count             7352.000000         7352.000000   \n",
            "mean                 0.040392            0.000042   \n",
            "std                  0.045886            0.002242   \n",
            "min                  0.000835           -0.013287   \n",
            "25%                  0.001745           -0.000152   \n",
            "50%                  0.004867            0.000001   \n",
            "75%                  0.080021            0.000194   \n",
            "max                  0.222890            0.011812   \n",
            "\n",
            "       value__mean_second_derivative_central  value__median  ...  \\\n",
            "count                           7.352000e+03    7352.000000  ...   \n",
            "mean                            2.169932e-06      -0.024342  ...   \n",
            "std                             4.782567e-04       0.044907  ...   \n",
            "min                            -4.246484e-03      -0.285125  ...   \n",
            "25%                            -3.049718e-05      -0.038399  ...   \n",
            "50%                             2.246125e-07      -0.001441  ...   \n",
            "75%                             3.056003e-05       0.000300  ...   \n",
            "max                             3.608715e-03       0.151517  ...   \n",
            "\n",
            "       value__fourier_entropy__bins_5  value__fourier_entropy__bins_10  \\\n",
            "count                     7352.000000                      7352.000000   \n",
            "mean                         0.371552                         0.594355   \n",
            "std                          0.237475                         0.360563   \n",
            "min                          0.079487                         0.079487   \n",
            "25%                          0.158734                         0.295163   \n",
            "50%                          0.295163                         0.465912   \n",
            "75%                          0.527636                         0.862597   \n",
            "max                          1.348965                         1.962296   \n",
            "\n",
            "       value__fourier_entropy__bins_100  \\\n",
            "count                       7352.000000   \n",
            "mean                           1.583728   \n",
            "std                            0.700418   \n",
            "min                            0.158734   \n",
            "25%                            1.053833   \n",
            "50%                            1.435505   \n",
            "75%                            2.200720   \n",
            "max                            3.373266   \n",
            "\n",
            "       value__permutation_entropy__dimension_3__tau_1  \\\n",
            "count                                     7352.000000   \n",
            "mean                                         1.556398   \n",
            "std                                          0.104900   \n",
            "min                                          1.149417   \n",
            "25%                                          1.477927   \n",
            "50%                                          1.579079   \n",
            "75%                                          1.643317   \n",
            "max                                          1.753204   \n",
            "\n",
            "       value__permutation_entropy__dimension_4__tau_1  \\\n",
            "count                                     7352.000000   \n",
            "mean                                         2.511915   \n",
            "std                                          0.237026   \n",
            "min                                          1.679488   \n",
            "25%                                          2.332736   \n",
            "50%                                          2.560629   \n",
            "75%                                          2.703405   \n",
            "max                                          3.043035   \n",
            "\n",
            "       value__permutation_entropy__dimension_5__tau_1  \\\n",
            "count                                     7352.000000   \n",
            "mean                                         3.382424   \n",
            "std                                          0.353083   \n",
            "min                                          2.188100   \n",
            "25%                                          3.109109   \n",
            "50%                                          3.460736   \n",
            "75%                                          3.676999   \n",
            "max                                          4.083262   \n",
            "\n",
            "       value__permutation_entropy__dimension_6__tau_1  \\\n",
            "count                                     7352.000000   \n",
            "mean                                         4.020273   \n",
            "std                                          0.382612   \n",
            "min                                          2.695231   \n",
            "25%                                          3.737884   \n",
            "50%                                          4.125629   \n",
            "75%                                          4.341076   \n",
            "max                                          4.661411   \n",
            "\n",
            "       value__permutation_entropy__dimension_7__tau_1  \\\n",
            "count                                     7352.000000   \n",
            "mean                                         4.396980   \n",
            "std                                          0.325055   \n",
            "min                                          3.103273   \n",
            "25%                                          4.185978   \n",
            "50%                                          4.518441   \n",
            "75%                                          4.659086   \n",
            "max                                          4.804021   \n",
            "\n",
            "       value__query_similarity_count__query_None__threshold_0.0  \\\n",
            "count                                                0.0          \n",
            "mean                                                 NaN          \n",
            "std                                                  NaN          \n",
            "min                                                  NaN          \n",
            "25%                                                  NaN          \n",
            "50%                                                  NaN          \n",
            "75%                                                  NaN          \n",
            "max                                                  NaN          \n",
            "\n",
            "       value__mean_n_absolute_max__number_of_maxima_7  \n",
            "count                                     7352.000000  \n",
            "mean                                         0.280842  \n",
            "std                                          0.312710  \n",
            "min                                          0.003344  \n",
            "25%                                          0.009390  \n",
            "50%                                          0.048859  \n",
            "75%                                          0.528522  \n",
            "max                                          1.179323  \n",
            "\n",
            "[8 rows x 783 columns]\n"
          ]
        }
      ],
      "source": [
        "# Shape\n",
        "print(\"Shape: \\n\", extracted_features.shape)\n",
        "# Descriptive statistics\n",
        "print(\"Descriptive statistics: \\n\", extracted_features.describe())"
      ]
    },
    {
      "cell_type": "code",
      "execution_count": null,
      "metadata": {
        "id": "lCfAhkBFQv3J"
      },
      "outputs": [],
      "source": [
        "# No ejecutar\n",
        "# import seaborn as sns\n",
        "# sns.pairplot(extracted_features)"
      ]
    },
    {
      "cell_type": "markdown",
      "metadata": {
        "id": "Ns69PSXPFhUu"
      },
      "source": [
        "# Generación de gráficos de series temporales"
      ]
    },
    {
      "cell_type": "code",
      "execution_count": null,
      "metadata": {
        "colab": {
          "base_uri": "https://localhost:8080/",
          "height": 633
        },
        "id": "9ph6aM4RTh1I",
        "outputId": "e97ef667-9445-44a1-8771-4430eba9799c"
      },
      "outputs": [
        {
          "output_type": "display_data",
          "data": {
            "text/plain": [
              "<Figure size 1200x600 with 1 Axes>"
            ],
            "image/png": "[encoded data removed]"
          },
          "metadata": {}
        },
        {
          "output_type": "stream",
          "name": "stdout",
          "text": [
            "Index([   0,    1,    2,    3,    4,    5,    6,    7,    8,    9,\n",
            "       ...\n",
            "        119,  120,  121,  122,  123,  124,  125,  126,  127, 'id'],\n",
            "      dtype='object', length=129)\n"
          ]
        }
      ],
      "source": [
        "import matplotlib.pyplot as plt\n",
        "\n",
        "# Grafica la serie temporal del primer ID (asumiendo que cada ID representa una serie temporal)\n",
        "plt.figure(figsize=(12, 6))\n",
        "plt.plot(df_body_acc_x.iloc[0][:-1], label='body_acc_x')\n",
        "plt.xlabel('Time')\n",
        "plt.ylabel('Value')\n",
        "plt.title('Time Series for body_acc_x (First ID)')\n",
        "plt.legend()\n",
        "plt.show()\n",
        "\n",
        "print(df_body_acc_x.columns)"
      ]
    },
    {
      "cell_type": "code",
      "source": [
        "import pandas as pd\n",
        "import matplotlib.pyplot as plt\n",
        "\n",
        "# Supongamos que tienes un DataFrame llamado df_features con las características extraídas\n",
        "\n",
        "# Grafica la serie temporal de la característica\n",
        "plt.plot(df_features.index, df_features['feature_name'])\n",
        "plt.xlabel('Índice del DataFrame')\n",
        "plt.ylabel('Valor de la Característica')\n",
        "plt.title('Serie Temporal de la Característica')\n",
        "plt.show()\n"
      ],
      "metadata": {
        "id": "CEWzIhD4tppc"
      },
      "execution_count": null,
      "outputs": []
    },
    {
      "cell_type": "markdown",
      "metadata": {
        "id": "ebxZ4YJjGAsA"
      },
      "source": [
        "# Inspección de features importantes"
      ]
    },
    {
      "cell_type": "code",
      "execution_count": null,
      "metadata": {
        "colab": {
          "base_uri": "https://localhost:8080/"
        },
        "collapsed": true,
        "id": "fif2IOBWFj9-",
        "outputId": "fbccbb8a-0c39-498b-c57d-92db15f7a708"
      },
      "outputs": [
        {
          "name": "stderr",
          "output_type": "stream",
          "text": [
            "/usr/local/lib/python3.10/dist-packages/tsfresh/utilities/dataframe_functions.py:198: RuntimeWarning: The columns ['value__fft_coefficient__attr_\"real\"__coeff_65'\n",
            " 'value__fft_coefficient__attr_\"real\"__coeff_66'\n",
            " 'value__fft_coefficient__attr_\"real\"__coeff_67'\n",
            " 'value__fft_coefficient__attr_\"real\"__coeff_68'\n",
            " 'value__fft_coefficient__attr_\"real\"__coeff_69'\n",
            " 'value__fft_coefficient__attr_\"real\"__coeff_70'\n",
            " 'value__fft_coefficient__attr_\"real\"__coeff_71'\n",
            " 'value__fft_coefficient__attr_\"real\"__coeff_72'\n",
            " 'value__fft_coefficient__attr_\"real\"__coeff_73'\n",
            " 'value__fft_coefficient__attr_\"real\"__coeff_74'\n",
            " 'value__fft_coefficient__attr_\"real\"__coeff_75'\n",
            " 'value__fft_coefficient__attr_\"real\"__coeff_76'\n",
            " 'value__fft_coefficient__attr_\"real\"__coeff_77'\n",
            " 'value__fft_coefficient__attr_\"real\"__coeff_78'\n",
            " 'value__fft_coefficient__attr_\"real\"__coeff_79'\n",
            " 'value__fft_coefficient__attr_\"real\"__coeff_80'\n",
            " 'value__fft_coefficient__attr_\"real\"__coeff_81'\n",
            " 'value__fft_coefficient__attr_\"real\"__coeff_82'\n",
            " 'value__fft_coefficient__attr_\"real\"__coeff_83'\n",
            " 'value__fft_coefficient__attr_\"real\"__coeff_84'\n",
            " 'value__fft_coefficient__attr_\"real\"__coeff_85'\n",
            " 'value__fft_coefficient__attr_\"real\"__coeff_86'\n",
            " 'value__fft_coefficient__attr_\"real\"__coeff_87'\n",
            " 'value__fft_coefficient__attr_\"real\"__coeff_88'\n",
            " 'value__fft_coefficient__attr_\"real\"__coeff_89'\n",
            " 'value__fft_coefficient__attr_\"real\"__coeff_90'\n",
            " 'value__fft_coefficient__attr_\"real\"__coeff_91'\n",
            " 'value__fft_coefficient__attr_\"real\"__coeff_92'\n",
            " 'value__fft_coefficient__attr_\"real\"__coeff_93'\n",
            " 'value__fft_coefficient__attr_\"real\"__coeff_94'\n",
            " 'value__fft_coefficient__attr_\"real\"__coeff_95'\n",
            " 'value__fft_coefficient__attr_\"real\"__coeff_96'\n",
            " 'value__fft_coefficient__attr_\"real\"__coeff_97'\n",
            " 'value__fft_coefficient__attr_\"real\"__coeff_98'\n",
            " 'value__fft_coefficient__attr_\"real\"__coeff_99'\n",
            " 'value__fft_coefficient__attr_\"imag\"__coeff_65'\n",
            " 'value__fft_coefficient__attr_\"imag\"__coeff_66'\n",
            " 'value__fft_coefficient__attr_\"imag\"__coeff_67'\n",
            " 'value__fft_coefficient__attr_\"imag\"__coeff_68'\n",
            " 'value__fft_coefficient__attr_\"imag\"__coeff_69'\n",
            " 'value__fft_coefficient__attr_\"imag\"__coeff_70'\n",
            " 'value__fft_coefficient__attr_\"imag\"__coeff_71'\n",
            " 'value__fft_coefficient__attr_\"imag\"__coeff_72'\n",
            " 'value__fft_coefficient__attr_\"imag\"__coeff_73'\n",
            " 'value__fft_coefficient__attr_\"imag\"__coeff_74'\n",
            " 'value__fft_coefficient__attr_\"imag\"__coeff_75'\n",
            " 'value__fft_coefficient__attr_\"imag\"__coeff_76'\n",
            " 'value__fft_coefficient__attr_\"imag\"__coeff_77'\n",
            " 'value__fft_coefficient__attr_\"imag\"__coeff_78'\n",
            " 'value__fft_coefficient__attr_\"imag\"__coeff_79'\n",
            " 'value__fft_coefficient__attr_\"imag\"__coeff_80'\n",
            " 'value__fft_coefficient__attr_\"imag\"__coeff_81'\n",
            " 'value__fft_coefficient__attr_\"imag\"__coeff_82'\n",
            " 'value__fft_coefficient__attr_\"imag\"__coeff_83'\n",
            " 'value__fft_coefficient__attr_\"imag\"__coeff_84'\n",
            " 'value__fft_coefficient__attr_\"imag\"__coeff_85'\n",
            " 'value__fft_coefficient__attr_\"imag\"__coeff_86'\n",
            " 'value__fft_coefficient__attr_\"imag\"__coeff_87'\n",
            " 'value__fft_coefficient__attr_\"imag\"__coeff_88'\n",
            " 'value__fft_coefficient__attr_\"imag\"__coeff_89'\n",
            " 'value__fft_coefficient__attr_\"imag\"__coeff_90'\n",
            " 'value__fft_coefficient__attr_\"imag\"__coeff_91'\n",
            " 'value__fft_coefficient__attr_\"imag\"__coeff_92'\n",
            " 'value__fft_coefficient__attr_\"imag\"__coeff_93'\n",
            " 'value__fft_coefficient__attr_\"imag\"__coeff_94'\n",
            " 'value__fft_coefficient__attr_\"imag\"__coeff_95'\n",
            " 'value__fft_coefficient__attr_\"imag\"__coeff_96'\n",
            " 'value__fft_coefficient__attr_\"imag\"__coeff_97'\n",
            " 'value__fft_coefficient__attr_\"imag\"__coeff_98'\n",
            " 'value__fft_coefficient__attr_\"imag\"__coeff_99'\n",
            " 'value__fft_coefficient__attr_\"abs\"__coeff_65'\n",
            " 'value__fft_coefficient__attr_\"abs\"__coeff_66'\n",
            " 'value__fft_coefficient__attr_\"abs\"__coeff_67'\n",
            " 'value__fft_coefficient__attr_\"abs\"__coeff_68'\n",
            " 'value__fft_coefficient__attr_\"abs\"__coeff_69'\n",
            " 'value__fft_coefficient__attr_\"abs\"__coeff_70'\n",
            " 'value__fft_coefficient__attr_\"abs\"__coeff_71'\n",
            " 'value__fft_coefficient__attr_\"abs\"__coeff_72'\n",
            " 'value__fft_coefficient__attr_\"abs\"__coeff_73'\n",
            " 'value__fft_coefficient__attr_\"abs\"__coeff_74'\n",
            " 'value__fft_coefficient__attr_\"abs\"__coeff_75'\n",
            " 'value__fft_coefficient__attr_\"abs\"__coeff_76'\n",
            " 'value__fft_coefficient__attr_\"abs\"__coeff_77'\n",
            " 'value__fft_coefficient__attr_\"abs\"__coeff_78'\n",
            " 'value__fft_coefficient__attr_\"abs\"__coeff_79'\n",
            " 'value__fft_coefficient__attr_\"abs\"__coeff_80'\n",
            " 'value__fft_coefficient__attr_\"abs\"__coeff_81'\n",
            " 'value__fft_coefficient__attr_\"abs\"__coeff_82'\n",
            " 'value__fft_coefficient__attr_\"abs\"__coeff_83'\n",
            " 'value__fft_coefficient__attr_\"abs\"__coeff_84'\n",
            " 'value__fft_coefficient__attr_\"abs\"__coeff_85'\n",
            " 'value__fft_coefficient__attr_\"abs\"__coeff_86'\n",
            " 'value__fft_coefficient__attr_\"abs\"__coeff_87'\n",
            " 'value__fft_coefficient__attr_\"abs\"__coeff_88'\n",
            " 'value__fft_coefficient__attr_\"abs\"__coeff_89'\n",
            " 'value__fft_coefficient__attr_\"abs\"__coeff_90'\n",
            " 'value__fft_coefficient__attr_\"abs\"__coeff_91'\n",
            " 'value__fft_coefficient__attr_\"abs\"__coeff_92'\n",
            " 'value__fft_coefficient__attr_\"abs\"__coeff_93'\n",
            " 'value__fft_coefficient__attr_\"abs\"__coeff_94'\n",
            " 'value__fft_coefficient__attr_\"abs\"__coeff_95'\n",
            " 'value__fft_coefficient__attr_\"abs\"__coeff_96'\n",
            " 'value__fft_coefficient__attr_\"abs\"__coeff_97'\n",
            " 'value__fft_coefficient__attr_\"abs\"__coeff_98'\n",
            " 'value__fft_coefficient__attr_\"abs\"__coeff_99'\n",
            " 'value__fft_coefficient__attr_\"angle\"__coeff_65'\n",
            " 'value__fft_coefficient__attr_\"angle\"__coeff_66'\n",
            " 'value__fft_coefficient__attr_\"angle\"__coeff_67'\n",
            " 'value__fft_coefficient__attr_\"angle\"__coeff_68'\n",
            " 'value__fft_coefficient__attr_\"angle\"__coeff_69'\n",
            " 'value__fft_coefficient__attr_\"angle\"__coeff_70'\n",
            " 'value__fft_coefficient__attr_\"angle\"__coeff_71'\n",
            " 'value__fft_coefficient__attr_\"angle\"__coeff_72'\n",
            " 'value__fft_coefficient__attr_\"angle\"__coeff_73'\n",
            " 'value__fft_coefficient__attr_\"angle\"__coeff_74'\n",
            " 'value__fft_coefficient__attr_\"angle\"__coeff_75'\n",
            " 'value__fft_coefficient__attr_\"angle\"__coeff_76'\n",
            " 'value__fft_coefficient__attr_\"angle\"__coeff_77'\n",
            " 'value__fft_coefficient__attr_\"angle\"__coeff_78'\n",
            " 'value__fft_coefficient__attr_\"angle\"__coeff_79'\n",
            " 'value__fft_coefficient__attr_\"angle\"__coeff_80'\n",
            " 'value__fft_coefficient__attr_\"angle\"__coeff_81'\n",
            " 'value__fft_coefficient__attr_\"angle\"__coeff_82'\n",
            " 'value__fft_coefficient__attr_\"angle\"__coeff_83'\n",
            " 'value__fft_coefficient__attr_\"angle\"__coeff_84'\n",
            " 'value__fft_coefficient__attr_\"angle\"__coeff_85'\n",
            " 'value__fft_coefficient__attr_\"angle\"__coeff_86'\n",
            " 'value__fft_coefficient__attr_\"angle\"__coeff_87'\n",
            " 'value__fft_coefficient__attr_\"angle\"__coeff_88'\n",
            " 'value__fft_coefficient__attr_\"angle\"__coeff_89'\n",
            " 'value__fft_coefficient__attr_\"angle\"__coeff_90'\n",
            " 'value__fft_coefficient__attr_\"angle\"__coeff_91'\n",
            " 'value__fft_coefficient__attr_\"angle\"__coeff_92'\n",
            " 'value__fft_coefficient__attr_\"angle\"__coeff_93'\n",
            " 'value__fft_coefficient__attr_\"angle\"__coeff_94'\n",
            " 'value__fft_coefficient__attr_\"angle\"__coeff_95'\n",
            " 'value__fft_coefficient__attr_\"angle\"__coeff_96'\n",
            " 'value__fft_coefficient__attr_\"angle\"__coeff_97'\n",
            " 'value__fft_coefficient__attr_\"angle\"__coeff_98'\n",
            " 'value__fft_coefficient__attr_\"angle\"__coeff_99'\n",
            " 'value__query_similarity_count__query_None__threshold_0.0'] did not have any finite values. Filling with zeros.\n",
            "  warnings.warn(\n"
          ]
        },
        {
          "name": "stdout",
          "output_type": "stream",
          "text": [
            "   value__change_quantiles__f_agg_\"var\"__isabs_True__qh_1.0__ql_0.6  \\\n",
            "0                                       2.003572e-06                  \n",
            "1                                       6.161281e-07                  \n",
            "2                                       1.576832e-06                  \n",
            "3                                       1.831032e-06                  \n",
            "4                                       5.947830e-07                  \n",
            "\n",
            "   value__change_quantiles__f_agg_\"var\"__isabs_True__qh_0.8__ql_0.2  \\\n",
            "0                                       6.368649e-07                  \n",
            "1                                       2.440310e-07                  \n",
            "2                                       7.243013e-07                  \n",
            "3                                       4.431304e-07                  \n",
            "4                                       3.272691e-07                  \n",
            "\n",
            "   value__change_quantiles__f_agg_\"var\"__isabs_False__qh_1.0__ql_0.2  \\\n",
            "0                                           0.000005                   \n",
            "1                                           0.000002                   \n",
            "2                                           0.000003                   \n",
            "3                                           0.000003                   \n",
            "4                                           0.000002                   \n",
            "\n",
            "   value__change_quantiles__f_agg_\"mean\"__isabs_True__qh_1.0__ql_0.2  \\\n",
            "0                                           0.001517                   \n",
            "1                                           0.001062                   \n",
            "2                                           0.001412                   \n",
            "3                                           0.001205                   \n",
            "4                                           0.001053                   \n",
            "\n",
            "   value__change_quantiles__f_agg_\"var\"__isabs_True__qh_1.0__ql_0.2  \\\n",
            "0                                       2.344345e-06                  \n",
            "1                                       7.948448e-07                  \n",
            "2                                       1.176097e-06                  \n",
            "3                                       1.069289e-06                  \n",
            "4                                       6.824330e-07                  \n",
            "\n",
            "   value__change_quantiles__f_agg_\"var\"__isabs_False__qh_0.6__ql_0.4  \\\n",
            "0                                       1.318629e-06                   \n",
            "1                                       5.368966e-08                   \n",
            "2                                       3.731268e-08                   \n",
            "3                                       1.189494e-07                   \n",
            "4                                       4.840200e-08                   \n",
            "\n",
            "   value__change_quantiles__f_agg_\"mean\"__isabs_True__qh_0.6__ql_0.4  \\\n",
            "0                                           0.000936                   \n",
            "1                                           0.000198                   \n",
            "2                                           0.000144                   \n",
            "3                                           0.000234                   \n",
            "4                                           0.000214                   \n",
            "\n",
            "   value__change_quantiles__f_agg_\"var\"__isabs_True__qh_0.6__ql_0.4  \\\n",
            "0                                       4.520684e-07                  \n",
            "1                                       3.533359e-08                  \n",
            "2                                       2.031322e-08                  \n",
            "3                                       6.511606e-08                  \n",
            "4                                       1.571772e-08                  \n",
            "\n",
            "   value__change_quantiles__f_agg_\"var\"__isabs_False__qh_0.8__ql_0.4  \\\n",
            "0                                       2.109719e-06                   \n",
            "1                                       3.412811e-07                   \n",
            "2                                       9.836059e-07                   \n",
            "3                                       8.682530e-07                   \n",
            "4                                       7.246732e-07                   \n",
            "\n",
            "   value__change_quantiles__f_agg_\"mean\"__isabs_True__qh_0.8__ql_0.4  ...  \\\n",
            "0                                           0.001224                  ...   \n",
            "1                                           0.000462                  ...   \n",
            "2                                           0.000787                  ...   \n",
            "3                                           0.000723                  ...   \n",
            "4                                           0.000729                  ...   \n",
            "\n",
            "   value__last_location_of_minimum  \\\n",
            "0                         0.765625   \n",
            "1                         0.539062   \n",
            "2                         0.578125   \n",
            "3                         0.078125   \n",
            "4                         0.664062   \n",
            "\n",
            "   value__fft_coefficient__attr_\"angle\"__coeff_57  \\\n",
            "0                                      111.350023   \n",
            "1                                     -164.862158   \n",
            "2                                      -30.067904   \n",
            "3                                      159.226203   \n",
            "4                                        0.218924   \n",
            "\n",
            "   value__fft_coefficient__attr_\"angle\"__coeff_54  \\\n",
            "0                                       92.616719   \n",
            "1                                      174.274143   \n",
            "2                                      -16.975970   \n",
            "3                                      117.376351   \n",
            "4                                       11.811216   \n",
            "\n",
            "   value__ratio_beyond_r_sigma__r_6  \\\n",
            "0                               0.0   \n",
            "1                               0.0   \n",
            "2                               0.0   \n",
            "3                               0.0   \n",
            "4                               0.0   \n",
            "\n",
            "   value__fft_coefficient__attr_\"imag\"__coeff_22  \\\n",
            "0                                      -0.000445   \n",
            "1                                      -0.006919   \n",
            "2                                       0.018214   \n",
            "3                                       0.010199   \n",
            "4                                      -0.007283   \n",
            "\n",
            "   value__fft_coefficient__attr_\"angle\"__coeff_56  \\\n",
            "0                                      106.226952   \n",
            "1                                     -162.970088   \n",
            "2                                      -36.647181   \n",
            "3                                      157.342419   \n",
            "4                                        0.883800   \n",
            "\n",
            "   value__cwt_coefficients__coeff_6__w_5__widths_(2, 5, 10, 20)  \\\n",
            "0                                           0.007378              \n",
            "1                                           0.004840              \n",
            "2                                          -0.004008              \n",
            "3                                          -0.004865              \n",
            "4                                           0.003763              \n",
            "\n",
            "   value__fft_coefficient__attr_\"angle\"__coeff_58  \\\n",
            "0                                      116.565535   \n",
            "1                                     -165.542588   \n",
            "2                                      -25.524406   \n",
            "3                                      163.199946   \n",
            "4                                       -0.377937   \n",
            "\n",
            "   value__energy_ratio_by_chunks__num_segments_10__segment_focus_2  \\\n",
            "0                                           0.139401                 \n",
            "1                                           0.157085                 \n",
            "2                                           0.051568                 \n",
            "3                                           0.056612                 \n",
            "4                                           0.090822                 \n",
            "\n",
            "   value__lempel_ziv_complexity__bins_2  \n",
            "0                              0.210938  \n",
            "1                              0.226562  \n",
            "2                              0.210938  \n",
            "3                              0.226562  \n",
            "4                              0.218750  \n",
            "\n",
            "[5 rows x 332 columns]\n"
          ]
        }
      ],
      "source": [
        "from tsfresh import select_features\n",
        "from tsfresh.utilities.dataframe_functions import impute\n",
        "\n",
        "# Impute missing values\n",
        "impute(extracted_features)\n",
        "\n",
        "# 'y' is your target variable\n",
        "y = df_y\n",
        "\n",
        "# Selecting important features\n",
        "important_features = select_features(extracted_features, y)\n",
        "\n",
        "# Display important features\n",
        "print(important_features.head())"
      ]
    },
    {
      "cell_type": "code",
      "execution_count": null,
      "metadata": {
        "colab": {
          "base_uri": "https://localhost:8080/"
        },
        "id": "rInCLN4nGbyn",
        "outputId": "02640c1f-ce6a-4d53-9eee-ef3ac7b0ad23"
      },
      "outputs": [
        {
          "name": "stdout",
          "output_type": "stream",
          "text": [
            "332\n"
          ]
        }
      ],
      "source": [
        "print(len(important_features.columns))"
      ]
    },
    {
      "cell_type": "markdown",
      "metadata": {
        "id": "i6b0cwqfQEZx"
      },
      "source": [
        "# Selección de features relevantes\n",
        "(Basicamente lo mismo que inspección de features importantes con pasos de más)"
      ]
    },
    {
      "cell_type": "code",
      "execution_count": null,
      "metadata": {
        "id": "0KYM-G0FQEBD"
      },
      "outputs": [],
      "source": [
        "import pandas as pd\n",
        "import numpy as np\n",
        "import h5py\n",
        "import tsfresh\n",
        "from tsfresh.feature_selection.relevance import calculate_relevance_table\n",
        "\n",
        "# Calcula la relevancia de cada característica respecto a la variable objetivo\n",
        "relevance_table = calculate_relevance_table(extracted_features, df_y)\n",
        "\n",
        "# Filtra características relevantes\n",
        "relevant_features = relevance_table[relevance_table.relevant].feature\n",
        "\n",
        "# Selecciona solo las características relevantes\n",
        "filtered_features = extracted_features[relevant_features]"
      ]
    },
    {
      "cell_type": "code",
      "execution_count": null,
      "metadata": {
        "colab": {
          "base_uri": "https://localhost:8080/"
        },
        "collapsed": true,
        "id": "92_JIBZKUsad",
        "outputId": "e4cd1178-6563-408c-fe84-308edc36d5a5"
      },
      "outputs": [
        {
          "name": "stdout",
          "output_type": "stream",
          "text": [
            "                                                                                              feature  \\\n",
            "feature                                                                                                 \n",
            "value__change_quantiles__f_agg_\"var\"__isabs_Tru...  value__change_quantiles__f_agg_\"var\"__isabs_Tr...   \n",
            "value__change_quantiles__f_agg_\"var\"__isabs_Tru...  value__change_quantiles__f_agg_\"var\"__isabs_Tr...   \n",
            "value__change_quantiles__f_agg_\"var\"__isabs_Fal...  value__change_quantiles__f_agg_\"var\"__isabs_Fa...   \n",
            "value__change_quantiles__f_agg_\"mean\"__isabs_Tr...  value__change_quantiles__f_agg_\"mean\"__isabs_T...   \n",
            "value__change_quantiles__f_agg_\"var\"__isabs_Tru...  value__change_quantiles__f_agg_\"var\"__isabs_Tr...   \n",
            "...                                                                                               ...   \n",
            "value__value_count__value_0                                               value__value_count__value_0   \n",
            "value__value_count__value_1                                               value__value_count__value_1   \n",
            "value__value_count__value_-1                                             value__value_count__value_-1   \n",
            "value__ratio_beyond_r_sigma__r_10                                   value__ratio_beyond_r_sigma__r_10   \n",
            "value__query_similarity_count__query_None__thre...  value__query_similarity_count__query_None__thr...   \n",
            "\n",
            "                                                        type  p_value  \\\n",
            "feature                                                                 \n",
            "value__change_quantiles__f_agg_\"var\"__isabs_Tru...      real      0.0   \n",
            "value__change_quantiles__f_agg_\"var\"__isabs_Tru...      real      0.0   \n",
            "value__change_quantiles__f_agg_\"var\"__isabs_Fal...      real      0.0   \n",
            "value__change_quantiles__f_agg_\"mean\"__isabs_Tr...      real      0.0   \n",
            "value__change_quantiles__f_agg_\"var\"__isabs_Tru...      real      0.0   \n",
            "...                                                      ...      ...   \n",
            "value__value_count__value_0                         constant      NaN   \n",
            "value__value_count__value_1                         constant      NaN   \n",
            "value__value_count__value_-1                        constant      NaN   \n",
            "value__ratio_beyond_r_sigma__r_10                   constant      NaN   \n",
            "value__query_similarity_count__query_None__thre...  constant      NaN   \n",
            "\n",
            "                                                    relevant  \n",
            "feature                                                       \n",
            "value__change_quantiles__f_agg_\"var\"__isabs_Tru...      True  \n",
            "value__change_quantiles__f_agg_\"var\"__isabs_Tru...      True  \n",
            "value__change_quantiles__f_agg_\"var\"__isabs_Fal...      True  \n",
            "value__change_quantiles__f_agg_\"mean\"__isabs_Tr...      True  \n",
            "value__change_quantiles__f_agg_\"var\"__isabs_Tru...      True  \n",
            "...                                                      ...  \n",
            "value__value_count__value_0                            False  \n",
            "value__value_count__value_1                            False  \n",
            "value__value_count__value_-1                           False  \n",
            "value__ratio_beyond_r_sigma__r_10                      False  \n",
            "value__query_similarity_count__query_None__thre...     False  \n",
            "\n",
            "[783 rows x 4 columns]\n"
          ]
        }
      ],
      "source": [
        "# Imprime la tabla de relevancia\n",
        "print(relevance_table)"
      ]
    },
    {
      "cell_type": "code",
      "execution_count": null,
      "metadata": {
        "colab": {
          "base_uri": "https://localhost:8080/"
        },
        "id": "Lj5kU5tHUq3g",
        "outputId": "85402bf9-e391-46fc-88eb-f69696a7ad46"
      },
      "outputs": [
        {
          "name": "stdout",
          "output_type": "stream",
          "text": [
            "Dimensiones originales: (7352, 783)\n",
            "Dimensiones después de la selección de características: (7352, 332)\n"
          ]
        }
      ],
      "source": [
        "# Imprime las dimensiones originales y reducidas\n",
        "print(\"Dimensiones originales:\", extracted_features.shape)\n",
        "print(\"Dimensiones después de la selección de características:\", filtered_features.shape)"
      ]
    },
    {
      "cell_type": "markdown",
      "metadata": {
        "id": "F6ejA5NaQ_9J"
      },
      "source": [
        "# Almacenamiento de features relevantes"
      ]
    },
    {
      "cell_type": "code",
      "execution_count": null,
      "metadata": {
        "colab": {
          "base_uri": "https://localhost:8080/"
        },
        "collapsed": true,
        "id": "Tk1dDBDYVpDo",
        "outputId": "19d5b997-3147-4f3c-e6ef-fc56c11bef0f"
      },
      "outputs": [
        {
          "name": "stdout",
          "output_type": "stream",
          "text": [
            "Directorio de trabajo actual: /content\n"
          ]
        }
      ],
      "source": [
        "import os\n",
        "\n",
        "# Imprimir el directorio de trabajo actual\n",
        "print(\"Directorio de trabajo actual:\", os.getcwd())"
      ]
    },
    {
      "cell_type": "code",
      "execution_count": null,
      "metadata": {
        "colab": {
          "base_uri": "https://localhost:8080/"
        },
        "collapsed": true,
        "id": "3VIwNE_kRK_S",
        "outputId": "1c53f139-cfcd-436f-fe81-6ce5544acff5"
      },
      "outputs": [
        {
          "name": "stdout",
          "output_type": "stream",
          "text": [
            "Características relevantes extraídas guardadas en 'extracted_features.csv'\n"
          ]
        }
      ],
      "source": [
        "# Guardar las características extraídas en un archivo CSV\n",
        "filtered_features.to_csv(folder_path + './relevant-features/train/extracted_features.csv', index=False)\n",
        "print(\"Características relevantes extraídas guardadas en 'extracted_features.csv'\")"
      ]
    },
    {
      "cell_type": "code",
      "source": [
        "import matplotlib.pyplot as plt\n",
        "\n",
        "fF = pd.read_csv(folder_path + './relevant-features/train/extracted_features.csv')\n",
        "plt.figure(figsize=(12, 6))\n",
        "plt.plot([i for i in range(1,fF.shape[1])],fF.iloc[0][:-1])\n",
        "plt.xlabel('Time')\n",
        "plt.ylabel('Value')\n",
        "plt.title('Time Series for body_acc_x (First ID)')\n",
        "plt.legend()\n",
        "plt.show()\n",
        "\n",
        "print(fF.columns)"
      ],
      "metadata": {
        "colab": {
          "base_uri": "https://localhost:8080/",
          "height": 983
        },
        "id": "RKRe6S0SrLEb",
        "outputId": "44f141d0-48a2-4522-bb52-eaeae4c2332f"
      },
      "execution_count": null,
      "outputs": [
        {
          "output_type": "stream",
          "name": "stderr",
          "text": [
            "WARNING:matplotlib.legend:No artists with labels found to put in legend.  Note that artists whose label start with an underscore are ignored when legend() is called with no argument.\n"
          ]
        },
        {
          "output_type": "display_data",
          "data": {
            "text/plain": [
              "<Figure size 1200x600 with 1 Axes>"
            ],
            "image/png": "[encoded data removed]"
          },
          "metadata": {}
        },
        {
          "output_type": "stream",
          "name": "stdout",
          "text": [
            "Index(['value__change_quantiles__f_agg_\"var\"__isabs_True__qh_1.0__ql_0.6',\n",
            "       'value__change_quantiles__f_agg_\"var\"__isabs_True__qh_0.8__ql_0.2',\n",
            "       'value__change_quantiles__f_agg_\"var\"__isabs_False__qh_1.0__ql_0.2',\n",
            "       'value__change_quantiles__f_agg_\"mean\"__isabs_True__qh_1.0__ql_0.2',\n",
            "       'value__change_quantiles__f_agg_\"var\"__isabs_True__qh_1.0__ql_0.2',\n",
            "       'value__change_quantiles__f_agg_\"var\"__isabs_False__qh_0.6__ql_0.4',\n",
            "       'value__change_quantiles__f_agg_\"mean\"__isabs_True__qh_0.6__ql_0.4',\n",
            "       'value__change_quantiles__f_agg_\"var\"__isabs_True__qh_0.6__ql_0.4',\n",
            "       'value__change_quantiles__f_agg_\"var\"__isabs_False__qh_0.8__ql_0.4',\n",
            "       'value__change_quantiles__f_agg_\"mean\"__isabs_True__qh_0.8__ql_0.4',\n",
            "       ...\n",
            "       'value__last_location_of_minimum',\n",
            "       'value__fft_coefficient__attr_\"angle\"__coeff_57',\n",
            "       'value__fft_coefficient__attr_\"angle\"__coeff_54',\n",
            "       'value__ratio_beyond_r_sigma__r_6',\n",
            "       'value__fft_coefficient__attr_\"imag\"__coeff_22',\n",
            "       'value__fft_coefficient__attr_\"angle\"__coeff_56',\n",
            "       'value__cwt_coefficients__coeff_6__w_5__widths_(2, 5, 10, 20)',\n",
            "       'value__fft_coefficient__attr_\"angle\"__coeff_58',\n",
            "       'value__energy_ratio_by_chunks__num_segments_10__segment_focus_2',\n",
            "       'value__lempel_ziv_complexity__bins_2'],\n",
            "      dtype='object', length=332)\n"
          ]
        }
      ]
    },
    {
      "cell_type": "markdown",
      "metadata": {
        "id": "vDA4kdhGX6jL"
      },
      "source": [
        "# Replicamos la generación de los features y selección de features relevantes sobre *df_x*\n",
        "\n",
        "----\n",
        "\n",
        "Recordar que *df_x* es el dataset que contiene la unión de todos los datasets de train.h5, exceptuando el dataset *df_y*\n",
        "\n",
        "## Conversión de la variable *df_x* a un formato compatible con la librería *tsfresh*\n"
      ]
    },
    {
      "cell_type": "code",
      "execution_count": null,
      "metadata": {
        "id": "P3NDEZg9YUf7"
      },
      "outputs": [],
      "source": [
        "df_x['id'] = df_x.index\n",
        "long_df_x = df_x.melt(id_vars=['id'], var_name='time', value_name='value')"
      ]
    },
    {
      "cell_type": "markdown",
      "metadata": {
        "id": "X6hdph2yfybG"
      },
      "source": [
        "## Generación de features de df_x\n",
        "\n"
      ]
    },
    {
      "cell_type": "code",
      "execution_count": null,
      "metadata": {
        "colab": {
          "background_save": true,
          "base_uri": "https://localhost:8080/"
        },
        "collapsed": true,
        "id": "xZ0Gag-tfx8m",
        "outputId": "6caae059-f804-41fc-a104-546060790e81"
      },
      "outputs": [
        {
          "name": "stderr",
          "output_type": "stream",
          "text": [
            "WARNING:tsfresh.feature_extraction.settings:Dependency not available for matrix_profile, this feature will be disabled!\n",
            "Feature Extraction:  49%|████▊     | 3572/7352 [1:30:04<1:44:58,  1.67s/it]"
          ]
        }
      ],
      "source": [
        "from tsfresh import extract_features\n",
        "\n",
        "extracted_features_df_x = extract_features(long_df_x, column_id='id', column_sort='time')"
      ]
    },
    {
      "cell_type": "code",
      "execution_count": null,
      "metadata": {
        "colab": {
          "base_uri": "https://localhost:8080/",
          "height": 141
        },
        "collapsed": true,
        "id": "GZqJqeomJkAC",
        "outputId": "8688550e-f024-4595-9c4f-74722dc1f694"
      },
      "outputs": [
        {
          "ename": "NameError",
          "evalue": "name 'extracted_features_df_x' is not defined",
          "output_type": "error",
          "traceback": [
            "\u001b[0;31m---------------------------------------------------------------------------\u001b[0m",
            "\u001b[0;31mNameError\u001b[0m                                 Traceback (most recent call last)",
            "\u001b[0;32m<ipython-input-31-b4d757387e5f>\u001b[0m in \u001b[0;36m<cell line: 1>\u001b[0;34m()\u001b[0m\n\u001b[0;32m----> 1\u001b[0;31m \u001b[0mprint\u001b[0m\u001b[0;34m(\u001b[0m\u001b[0mextracted_features_df_x\u001b[0m\u001b[0;34m.\u001b[0m\u001b[0mhead\u001b[0m\u001b[0;34m(\u001b[0m\u001b[0;34m)\u001b[0m\u001b[0;34m)\u001b[0m\u001b[0;34m\u001b[0m\u001b[0;34m\u001b[0m\u001b[0m\n\u001b[0m",
            "\u001b[0;31mNameError\u001b[0m: name 'extracted_features_df_x' is not defined"
          ]
        }
      ],
      "source": [
        "print(extracted_features_df_x.head())"
      ]
    },
    {
      "cell_type": "markdown",
      "metadata": {
        "id": "egv9g-b4D7av"
      },
      "source": [
        "## Almacenamos los features de df_x"
      ]
    },
    {
      "cell_type": "code",
      "execution_count": null,
      "metadata": {
        "colab": {
          "base_uri": "https://localhost:8080/"
        },
        "collapsed": true,
        "id": "FxSCdM5sEECW",
        "outputId": "e51865e2-dc01-4c39-937a-083504a4f58c"
      },
      "outputs": [
        {
          "name": "stdout",
          "output_type": "stream",
          "text": [
            "Características relevantes extraídas guardadas en 'extracted_features_df_x.csv'\n"
          ]
        }
      ],
      "source": [
        "# Guardar las características extraídas en un archivo CSV\n",
        "extracted_features_df_x.to_csv(folder_path + './relevant-features/train/extracted_features_df_x.csv', index=False)\n",
        "print(\"Características relevantes extraídas guardadas en 'extracted_features_df_x.csv'\")"
      ]
    },
    {
      "cell_type": "markdown",
      "metadata": {
        "id": "vVNq-NI5JLct"
      },
      "source": [
        "## Inspección de features importantes"
      ]
    },
    {
      "cell_type": "code",
      "execution_count": null,
      "metadata": {
        "colab": {
          "base_uri": "https://localhost:8080/",
          "height": 211
        },
        "collapsed": true,
        "id": "yT_yEDOhJN9l",
        "outputId": "5a0d5013-c14b-41ee-9511-0772c04be75f"
      },
      "outputs": [
        {
          "ename": "NameError",
          "evalue": "name 'extracted_features_df_x' is not defined",
          "output_type": "error",
          "traceback": [
            "\u001b[0;31m---------------------------------------------------------------------------\u001b[0m",
            "\u001b[0;31mNameError\u001b[0m                                 Traceback (most recent call last)",
            "\u001b[0;32m<ipython-input-30-bb2c9323686f>\u001b[0m in \u001b[0;36m<cell line: 5>\u001b[0;34m()\u001b[0m\n\u001b[1;32m      3\u001b[0m \u001b[0;34m\u001b[0m\u001b[0m\n\u001b[1;32m      4\u001b[0m \u001b[0;31m# Impute missing values\u001b[0m\u001b[0;34m\u001b[0m\u001b[0;34m\u001b[0m\u001b[0m\n\u001b[0;32m----> 5\u001b[0;31m \u001b[0mimpute\u001b[0m\u001b[0;34m(\u001b[0m\u001b[0mextracted_features_df_x\u001b[0m\u001b[0;34m)\u001b[0m\u001b[0;34m\u001b[0m\u001b[0;34m\u001b[0m\u001b[0m\n\u001b[0m\u001b[1;32m      6\u001b[0m \u001b[0;34m\u001b[0m\u001b[0m\n\u001b[1;32m      7\u001b[0m \u001b[0;31m# 'y' is your target variable\u001b[0m\u001b[0;34m\u001b[0m\u001b[0;34m\u001b[0m\u001b[0m\n",
            "\u001b[0;31mNameError\u001b[0m: name 'extracted_features_df_x' is not defined"
          ]
        }
      ],
      "source": [
        "from tsfresh import select_features\n",
        "from tsfresh.utilities.dataframe_functions import impute\n",
        "\n",
        "# Impute missing values\n",
        "extracted_features_df_x = pd.read_csv(folder_path + './relevant-features/train/extracted_features_df_x.csv')\n",
        "impute(extracted_features_df_x)\n",
        "\n",
        "# 'y' is your target variable\n",
        "y = df_y\n",
        "\n",
        "# Selecting important features\n",
        "important_features_df_x = select_features(extracted_features_df_x, y)\n",
        "\n",
        "# Display important features\n",
        "print(important_features_df_x.head())"
      ]
    },
    {
      "cell_type": "markdown",
      "metadata": {
        "id": "o1LAvFUSga8B"
      },
      "source": [
        "## Selección de features relevantes de *df_x*"
      ]
    },
    {
      "cell_type": "code",
      "execution_count": null,
      "metadata": {
        "id": "7JYWymgrZM-i"
      },
      "outputs": [],
      "source": [
        "import pandas as pd\n",
        "import numpy as np\n",
        "import h5py\n",
        "import tsfresh\n",
        "from tsfresh.feature_selection.relevance import calculate_relevance_table\n",
        "\n",
        "# Calcula la relevancia de cada característica respecto a la variable objetivo\n",
        "relevance_table_df_x = calculate_relevance_table(extracted_features_df_x, df_y)\n",
        "\n",
        "# Filtra características relevantes\n",
        "relevant_features_df_x = relevance_table_df_x[relevance_table_df_x.relevant].feature\n",
        "\n",
        "# Selecciona solo las características relevantes\n",
        "filtered_features_df_x = extracted_features_df_x[relevant_features_df_x]"
      ]
    },
    {
      "cell_type": "markdown",
      "metadata": {
        "id": "7RCBjGeHgiO6"
      },
      "source": [
        "## Almacenamiento de features relevantes de *df_x*"
      ]
    },
    {
      "cell_type": "code",
      "execution_count": null,
      "metadata": {
        "colab": {
          "base_uri": "https://localhost:8080/"
        },
        "collapsed": true,
        "id": "JJzXfjoziwhq",
        "outputId": "22eebed1-8957-4adf-d6aa-62495575dfbe"
      },
      "outputs": [
        {
          "name": "stdout",
          "output_type": "stream",
          "text": [
            "Características relevantes extraídas guardadas en 'filtered_features_df_x.csv'\n"
          ]
        }
      ],
      "source": [
        "# Guardar las características extraídas en un archivo CSV\n",
        "filtered_features_df_x.to_csv(folder_path + './relevant-features/train/filtered_features_df_x.csv', index=False)\n",
        "print(\"Características relevantes extraídas guardadas en 'filtered_features_df_x.csv'\")"
      ]
    },
    {
      "cell_type": "markdown",
      "metadata": {
        "id": "UlsiXLABKSyS"
      },
      "source": [
        "# Asignación de variables a los datasets del archivo test.h5"
      ]
    },
    {
      "cell_type": "code",
      "execution_count": null,
      "metadata": {
        "colab": {
          "base_uri": "https://localhost:8080/"
        },
        "collapsed": true,
        "id": "DFgwzouOK1_7",
        "outputId": "b2384586-10fc-4d39-9886-07f430825d7e"
      },
      "outputs": [
        {
          "output_type": "stream",
          "name": "stdout",
          "text": [
            "Dimensiones de body_acc_x: (2947, 128)\n",
            "Dimensiones de body_acc_y: (2947, 128)\n",
            "Dimensiones de body_acc_z: (2947, 128)\n",
            "Dimensiones de body_gyro_x: (2947, 128)\n",
            "Dimensiones de body_gyro_y: (2947, 128)\n",
            "Dimensiones de body_gyro_z: (2947, 128)\n",
            "Dimensiones de total_acc_x: (2947, 128)\n",
            "Dimensiones de total_acc_y: (2947, 128)\n",
            "Dimensiones de total_acc_z: (2947, 128)\n"
          ]
        }
      ],
      "source": [
        "import numpy as np\n",
        "import pandas as pd\n",
        "import h5py\n",
        "\n",
        "# Ruta al archivo h5 test\n",
        "with h5py.File(test_path, 'r') as f:\n",
        "    # Lee los dataset 'x' y los convierte a DataFrames de pandas\n",
        "    df_body_acc_x = pd.DataFrame(f['body_acc_x'][:])\n",
        "    df_body_acc_y = pd.DataFrame(f['body_acc_y'][:])\n",
        "    df_body_acc_z = pd.DataFrame(f['body_acc_z'][:])\n",
        "    df_body_gyro_x = pd.DataFrame(f['body_gyro_x'][:])\n",
        "    df_body_gyro_y = pd.DataFrame(f['body_gyro_y'][:])\n",
        "    df_body_gyro_z = pd.DataFrame(f['body_gyro_z'][:])\n",
        "    df_total_acc_x = pd.DataFrame(f['total_acc_x'][:])\n",
        "    df_total_acc_y = pd.DataFrame(f['total_acc_y'][:])\n",
        "    df_total_acc_z = pd.DataFrame(f['total_acc_z'][:])\n",
        "\n",
        "# Imprime las dimensiones de los DataFrames\n",
        "print(\"Dimensiones de body_acc_x:\", df_body_acc_x.shape)\n",
        "print(\"Dimensiones de body_acc_y:\", df_body_acc_y.shape)\n",
        "print(\"Dimensiones de body_acc_z:\", df_body_acc_z.shape)\n",
        "print(\"Dimensiones de body_gyro_x:\", df_body_gyro_x.shape)\n",
        "print(\"Dimensiones de body_gyro_y:\", df_body_gyro_y.shape)\n",
        "print(\"Dimensiones de body_gyro_z:\", df_body_gyro_z.shape)\n",
        "print(\"Dimensiones de total_acc_x:\", df_total_acc_x.shape)\n",
        "print(\"Dimensiones de total_acc_y:\", df_total_acc_y.shape)\n",
        "print(\"Dimensiones de total_acc_z:\", df_total_acc_z.shape)\n",
        "\n",
        "# Imprime los primeros elementos de los DataFrames\n",
        "# print(\"Primeros elementos de df_body_acc_x:\", df_body_acc_x.head())"
      ]
    },
    {
      "cell_type": "markdown",
      "metadata": {
        "id": "3mJhmJTSLC-7"
      },
      "source": [
        "## Unimos los datasets del archivo test.h5 en uno solo, exceptuando el dataset y\n",
        "La unión de los datasets dará como resultado una matriz la cual funcionará como nuestro X. Recordar que al usar la función `concat` los keys de las columnas serán las mismas de los datasets a los que pertenecieron. Optaremos por reescribir los keys, solo para prevenir posibles errores que podrían aparecer al trabajar con la libreria `tsfresh`\n"
      ]
    },
    {
      "cell_type": "code",
      "execution_count": null,
      "metadata": {
        "id": "nIF9WYOgLS_s"
      },
      "outputs": [],
      "source": [
        "df_x = pd.concat([df_body_acc_x, df_body_acc_y, df_body_acc_z,\n",
        "                  df_body_gyro_x, df_body_gyro_y, df_body_gyro_z,\n",
        "                  df_total_acc_x, df_total_acc_y, df_total_acc_z], axis=1)\n",
        "df_x.columns = range(df_x.shape[1])"
      ]
    },
    {
      "cell_type": "code",
      "execution_count": null,
      "metadata": {
        "colab": {
          "base_uri": "https://localhost:8080/"
        },
        "id": "GRuPA6jNO6xI",
        "outputId": "4e1cd511-158a-4734-aaef-60b55da422cb"
      },
      "outputs": [
        {
          "name": "stdout",
          "output_type": "stream",
          "text": [
            "(2947, 1152)\n"
          ]
        }
      ],
      "source": [
        "print(df_x.shape)"
      ]
    },
    {
      "cell_type": "markdown",
      "metadata": {
        "id": "BFN6dHqyLUii"
      },
      "source": [
        "## Conversión de la variable *df_x* a un formato compatible con la librería *tsfresh*"
      ]
    },
    {
      "cell_type": "code",
      "execution_count": null,
      "metadata": {
        "id": "6dbOZsLQML-X"
      },
      "outputs": [],
      "source": [
        "df_x['id'] = df_x.index\n",
        "long_df_x = df_x.melt(id_vars=['id'], var_name='time', value_name='value')"
      ]
    },
    {
      "cell_type": "markdown",
      "metadata": {
        "id": "pQPpmwi5MWTE"
      },
      "source": [
        "## Generación de features de df_x"
      ]
    },
    {
      "cell_type": "code",
      "execution_count": null,
      "metadata": {
        "colab": {
          "base_uri": "https://localhost:8080/"
        },
        "id": "BtzC6vJwMYsc",
        "outputId": "10202796-1d33-4b87-a0c8-7ccec2ab2eb1"
      },
      "outputs": [
        {
          "name": "stderr",
          "output_type": "stream",
          "text": [
            "WARNING:tsfresh.feature_extraction.settings:Dependency not available for matrix_profile, this feature will be disabled!\n",
            "Feature Extraction: 100%|██████████| 2947/2947 [58:09<00:00,  1.18s/it]\n"
          ]
        }
      ],
      "source": [
        "from tsfresh import extract_features\n",
        "\n",
        "extracted_features_df_x = extract_features(long_df_x, column_id='id', column_sort='time')"
      ]
    },
    {
      "cell_type": "code",
      "execution_count": null,
      "metadata": {
        "colab": {
          "base_uri": "https://localhost:8080/",
          "height": 141
        },
        "id": "r1dJGGp5bKbu",
        "outputId": "92abcfc3-31db-44ae-ea3f-a5519a06925a",
        "collapsed": true
      },
      "outputs": [
        {
          "ename": "NameError",
          "evalue": "name 'extracted_features_df_x' is not defined",
          "output_type": "error",
          "traceback": [
            "\u001b[0;31m---------------------------------------------------------------------------\u001b[0m",
            "\u001b[0;31mNameError\u001b[0m                                 Traceback (most recent call last)",
            "\u001b[0;32m<ipython-input-17-922e582bf09f>\u001b[0m in \u001b[0;36m<cell line: 1>\u001b[0;34m()\u001b[0m\n\u001b[0;32m----> 1\u001b[0;31m \u001b[0mprint\u001b[0m\u001b[0;34m(\u001b[0m\u001b[0mextracted_features_df_x\u001b[0m\u001b[0;34m.\u001b[0m\u001b[0mshape\u001b[0m\u001b[0;34m)\u001b[0m\u001b[0;34m\u001b[0m\u001b[0;34m\u001b[0m\u001b[0m\n\u001b[0m",
            "\u001b[0;31mNameError\u001b[0m: name 'extracted_features_df_x' is not defined"
          ]
        }
      ],
      "source": [
        "print(extracted_features_df_x.shape)"
      ]
    },
    {
      "cell_type": "markdown",
      "metadata": {
        "id": "QuGtg1XDbN8M"
      },
      "source": [
        "## Almacenamos los features de df_x"
      ]
    },
    {
      "cell_type": "code",
      "execution_count": null,
      "metadata": {
        "colab": {
          "base_uri": "https://localhost:8080/"
        },
        "id": "RWGcx769bR7Z",
        "outputId": "f8074d85-02d7-4f26-f5b4-838f8bc4e383"
      },
      "outputs": [
        {
          "name": "stdout",
          "output_type": "stream",
          "text": [
            "Características relevantes extraídas guardadas en 'extracted_features_df_x.csv'\n"
          ]
        }
      ],
      "source": [
        "# Guardar las características extraídas en un archivo CSV\n",
        "extracted_features_df_x.to_csv(folder_path + './relevant-features/test/extracted_features_df_x.csv', index=False)\n",
        "print(\"Características relevantes extraídas guardadas en 'extracted_features_df_x.csv'\")"
      ]
    },
    {
      "cell_type": "markdown",
      "metadata": {
        "id": "Ocku8UVvbhkc"
      },
      "source": [
        "## Selección de features relevantes de *df_x*"
      ]
    },
    {
      "cell_type": "code",
      "execution_count": null,
      "metadata": {
        "id": "DhlPDiZgblIj"
      },
      "outputs": [],
      "source": [
        "import pandas as pd\n",
        "import numpy as np\n",
        "import h5py\n",
        "import tsfresh\n",
        "from tsfresh.feature_selection.relevance import calculate_relevance_table\n",
        "\n",
        "# Impute missing values\n",
        "# impute(extracted_features_df_x)\n",
        "\n",
        "# Trabajamos con el relevance_table_df_x del df_x del training. Filtra características relevantes\n",
        "relevant_features_df_x = relevance_table_df_x[relevance_table_df_x.relevant].feature\n",
        "\n",
        "# Selecciona solo las características relevantes\n",
        "filtered_features_df_x = extracted_features_df_x[relevant_features_df_x]"
      ]
    },
    {
      "cell_type": "code",
      "execution_count": null,
      "metadata": {
        "colab": {
          "base_uri": "https://localhost:8080/"
        },
        "collapsed": true,
        "id": "tSz7b6JFe-Z1",
        "outputId": "afeef50f-7b1c-4fb0-f7a7-6e6fce238447"
      },
      "outputs": [
        {
          "name": "stdout",
          "output_type": "stream",
          "text": [
            "      value__sum_values  \\\n",
            "0            138.061978   \n",
            "1            113.080511   \n",
            "2            104.053698   \n",
            "3            100.892873   \n",
            "4             98.442652   \n",
            "...                 ...   \n",
            "2942          55.563126   \n",
            "2943          78.381714   \n",
            "2944          77.508492   \n",
            "2945          50.515193   \n",
            "2946          40.550878   \n",
            "\n",
            "      value__agg_linear_trend__attr_\"rvalue\"__chunk_len_5__f_agg_\"mean\"  \\\n",
            "0                                              0.200160                   \n",
            "1                                              0.223306                   \n",
            "2                                              0.229066                   \n",
            "3                                              0.222288                   \n",
            "4                                              0.214707                   \n",
            "...                                                 ...                   \n",
            "2942                                           0.031808                   \n",
            "2943                                           0.005777                   \n",
            "2944                                           0.035347                   \n",
            "2945                                           0.078120                   \n",
            "2946                                           0.065276                   \n",
            "\n",
            "      value__agg_linear_trend__attr_\"rvalue\"__chunk_len_5__f_agg_\"var\"  \\\n",
            "0                                              0.061725                  \n",
            "1                                              0.077459                  \n",
            "2                                              0.079855                  \n",
            "3                                              0.078186                  \n",
            "4                                              0.078898                  \n",
            "...                                                 ...                  \n",
            "2942                                           0.015096                  \n",
            "2943                                           0.010990                  \n",
            "2944                                          -0.004356                  \n",
            "2945                                           0.009530                  \n",
            "2946                                           0.015255                  \n",
            "\n",
            "      value__agg_linear_trend__attr_\"rvalue\"__chunk_len_10__f_agg_\"max\"  \\\n",
            "0                                              0.198871                   \n",
            "1                                              0.235765                   \n",
            "2                                              0.248764                   \n",
            "3                                              0.240935                   \n",
            "4                                              0.235234                   \n",
            "...                                                 ...                   \n",
            "2942                                          -0.002775                   \n",
            "2943                                          -0.030644                   \n",
            "2944                                           0.027767                   \n",
            "2945                                           0.047356                   \n",
            "2946                                           0.044101                   \n",
            "\n",
            "      value__agg_linear_trend__attr_\"rvalue\"__chunk_len_10__f_agg_\"min\"  \\\n",
            "0                                              0.190639                   \n",
            "1                                              0.199537                   \n",
            "2                                              0.199887                   \n",
            "3                                              0.193453                   \n",
            "4                                              0.185855                   \n",
            "...                                                 ...                   \n",
            "2942                                           0.034721                   \n",
            "2943                                           0.018993                   \n",
            "2944                                           0.029023                   \n",
            "2945                                           0.075652                   \n",
            "2946                                           0.073870                   \n",
            "\n",
            "      value__agg_linear_trend__attr_\"rvalue\"__chunk_len_10__f_agg_\"mean\"  \\\n",
            "0                                              0.202610                    \n",
            "1                                              0.225612                    \n",
            "2                                              0.231509                    \n",
            "3                                              0.224376                    \n",
            "4                                              0.217030                    \n",
            "...                                                 ...                    \n",
            "2942                                           0.027830                    \n",
            "2943                                          -0.004194                    \n",
            "2944                                           0.036218                    \n",
            "2945                                           0.076408                    \n",
            "2946                                           0.067228                    \n",
            "\n",
            "      value__agg_linear_trend__attr_\"rvalue\"__chunk_len_10__f_agg_\"var\"  \\\n",
            "0                                              0.097057                   \n",
            "1                                              0.109643                   \n",
            "2                                              0.113676                   \n",
            "3                                              0.113529                   \n",
            "4                                              0.113361                   \n",
            "...                                                 ...                   \n",
            "2942                                           0.023845                   \n",
            "2943                                           0.005997                   \n",
            "2944                                           0.051752                   \n",
            "2945                                           0.034642                   \n",
            "2946                                           0.022677                   \n",
            "\n",
            "      value__fft_coefficient__attr_\"imag\"__coeff_12  \\\n",
            "0                                        -20.338184   \n",
            "1                                        -23.577132   \n",
            "2                                        -16.775056   \n",
            "3                                        -20.191238   \n",
            "4                                        -18.511023   \n",
            "...                                             ...   \n",
            "2942                                     -21.867240   \n",
            "2943                                       4.335237   \n",
            "2944                                     -49.548912   \n",
            "2945                                     -34.743338   \n",
            "2946                                     -40.975823   \n",
            "\n",
            "      value__fft_coefficient__attr_\"imag\"__coeff_11  \\\n",
            "0                                         -1.442537   \n",
            "1                                         -9.765237   \n",
            "2                                        -12.477859   \n",
            "3                                         -9.888423   \n",
            "4                                        -11.136610   \n",
            "...                                             ...   \n",
            "2942                                       3.205263   \n",
            "2943                                     -72.760361   \n",
            "2944                                     -15.006725   \n",
            "2945                                     -24.872713   \n",
            "2946                                     -21.943771   \n",
            "\n",
            "      value__agg_linear_trend__attr_\"rvalue\"__chunk_len_5__f_agg_\"min\"  ...  \\\n",
            "0                                              0.201123                 ...   \n",
            "1                                              0.217515                 ...   \n",
            "2                                              0.219988                 ...   \n",
            "3                                              0.214443                 ...   \n",
            "4                                              0.206170                 ...   \n",
            "...                                                 ...                 ...   \n",
            "2942                                           0.047843                 ...   \n",
            "2943                                           0.008205                 ...   \n",
            "2944                                           0.047306                 ...   \n",
            "2945                                           0.090185                 ...   \n",
            "2946                                           0.078181                 ...   \n",
            "\n",
            "      value__cwt_coefficients__coeff_8__w_5__widths_(2, 5, 10, 20)  \\\n",
            "0                                             -0.103849              \n",
            "1                                              0.053814              \n",
            "2                                              0.001605              \n",
            "3                                              0.004502              \n",
            "4                                              0.011867              \n",
            "...                                                 ...              \n",
            "2942                                           0.704798              \n",
            "2943                                           0.554681              \n",
            "2944                                          -0.283882              \n",
            "2945                                          -0.558328              \n",
            "2946                                          -0.322932              \n",
            "\n",
            "      value__fft_coefficient__attr_\"imag\"__coeff_9  \\\n",
            "0                                        -6.314034   \n",
            "1                                        -7.162639   \n",
            "2                                         1.381972   \n",
            "3                                        -3.462382   \n",
            "4                                         1.084988   \n",
            "...                                            ...   \n",
            "2942                                      7.657997   \n",
            "2943                                     14.934341   \n",
            "2944                                    -14.455643   \n",
            "2945                                     -5.421481   \n",
            "2946                                     -5.511407   \n",
            "\n",
            "      value__fft_coefficient__attr_\"angle\"__coeff_18  \\\n",
            "0                                         -54.211668   \n",
            "1                                         -99.247461   \n",
            "2                                        -139.478182   \n",
            "3                                        -136.908595   \n",
            "4                                          47.206893   \n",
            "...                                              ...   \n",
            "2942                                     -124.303018   \n",
            "2943                                     -147.347825   \n",
            "2944                                      179.384188   \n",
            "2945                                      141.611412   \n",
            "2946                                      124.065880   \n",
            "\n",
            "      value__fft_coefficient__attr_\"imag\"__coeff_91  \\\n",
            "0                                          0.468716   \n",
            "1                                          0.254559   \n",
            "2                                          0.797902   \n",
            "3                                          0.957317   \n",
            "4                                          0.790854   \n",
            "...                                             ...   \n",
            "2942                                      -3.668478   \n",
            "2943                                      10.687604   \n",
            "2944                                       8.032406   \n",
            "2945                                      -4.758079   \n",
            "2946                                       3.547173   \n",
            "\n",
            "      value__fft_coefficient__attr_\"imag\"__coeff_17  \\\n",
            "0                                         12.674895   \n",
            "1                                          7.070525   \n",
            "2                                          5.788681   \n",
            "3                                          5.778350   \n",
            "4                                          5.364219   \n",
            "...                                             ...   \n",
            "2942                                      42.415961   \n",
            "2943                                      31.587090   \n",
            "2944                                      -1.109620   \n",
            "2945                                     -19.986014   \n",
            "2946                                     -30.311909   \n",
            "\n",
            "      value__large_standard_deviation__r_0.4  \\\n",
            "0                                        0.0   \n",
            "1                                        0.0   \n",
            "2                                        0.0   \n",
            "3                                        0.0   \n",
            "4                                        0.0   \n",
            "...                                      ...   \n",
            "2942                                     0.0   \n",
            "2943                                     0.0   \n",
            "2944                                     0.0   \n",
            "2945                                     0.0   \n",
            "2946                                     0.0   \n",
            "\n",
            "      value__fft_coefficient__attr_\"angle\"__coeff_23  \\\n",
            "0                                         129.469562   \n",
            "1                                         133.890734   \n",
            "2                                         139.234575   \n",
            "3                                         139.365762   \n",
            "4                                         134.229739   \n",
            "...                                              ...   \n",
            "2942                                      106.925707   \n",
            "2943                                      163.169055   \n",
            "2944                                      164.874745   \n",
            "2945                                      174.613173   \n",
            "2946                                      144.210373   \n",
            "\n",
            "      value__change_quantiles__f_agg_\"mean\"__isabs_False__qh_1.0__ql_0.2  \\\n",
            "0                                              0.000424                    \n",
            "1                                              0.001165                    \n",
            "2                                              0.001093                    \n",
            "3                                              0.001135                    \n",
            "4                                              0.001102                    \n",
            "...                                                 ...                    \n",
            "2942                                          -0.001856                    \n",
            "2943                                          -0.001330                    \n",
            "2944                                           0.000611                    \n",
            "2945                                           0.001604                    \n",
            "2946                                           0.001761                    \n",
            "\n",
            "      value__cwt_coefficients__coeff_6__w_5__widths_(2, 5, 10, 20)  \\\n",
            "0                                             -0.065101              \n",
            "1                                              0.051892              \n",
            "2                                              0.004273              \n",
            "3                                             -0.000108              \n",
            "4                                              0.004369              \n",
            "...                                                 ...              \n",
            "2942                                           0.908554              \n",
            "2943                                           0.135135              \n",
            "2944                                          -0.310166              \n",
            "2945                                          -0.440582              \n",
            "2946                                          -0.089278              \n",
            "\n",
            "      value__fft_coefficient__attr_\"angle\"__coeff_4  \n",
            "0                                         56.045463  \n",
            "1                                         51.575319  \n",
            "2                                         49.202907  \n",
            "3                                         46.648380  \n",
            "4                                         46.719735  \n",
            "...                                             ...  \n",
            "2942                                      27.752038  \n",
            "2943                                      47.084691  \n",
            "2944                                      12.991244  \n",
            "2945                                      25.623421  \n",
            "2946                                      34.824930  \n",
            "\n",
            "[2947 rows x 645 columns]\n"
          ]
        }
      ],
      "source": [
        "print(filtered_features_df_x)"
      ]
    },
    {
      "cell_type": "markdown",
      "metadata": {
        "id": "mfuXY6OHbqun"
      },
      "source": [
        "## Almacenamiento de features relevantes de *df_x*"
      ]
    },
    {
      "cell_type": "code",
      "execution_count": null,
      "metadata": {
        "colab": {
          "base_uri": "https://localhost:8080/"
        },
        "id": "0hn3yjZybrhd",
        "outputId": "6345bc1b-5c90-416e-c3c2-d4e40c447b53"
      },
      "outputs": [
        {
          "name": "stdout",
          "output_type": "stream",
          "text": [
            "Características relevantes extraídas guardadas en 'filtered_features_df_x.csv'\n"
          ]
        }
      ],
      "source": [
        "# Guardar las características extraídas en un archivo CSV\n",
        "filtered_features_df_x.to_csv(folder_path + './relevant-features/test/filtered_features_df_x.csv', index=False)\n",
        "print(\"Características relevantes extraídas guardadas en 'filtered_features_df_x.csv'\")"
      ]
    },
    {
      "cell_type": "markdown",
      "metadata": {
        "id": "6-A4cbq3i8Hg"
      },
      "source": [
        "# Modelo Hard SVM"
      ]
    },
    {
      "cell_type": "markdown",
      "metadata": {
        "id": "4l9ERHr-jXJk"
      },
      "source": [
        "## Librerias necesarias"
      ]
    },
    {
      "cell_type": "code",
      "execution_count": null,
      "metadata": {
        "id": "JbUTvn5xjFvu"
      },
      "outputs": [],
      "source": [
        "import numpy as np\n",
        "import matplotlib.pyplot as plt\n",
        "import pandas as pd\n",
        "import cvxopt\n",
        "import math\n",
        "from sklearn.model_selection import train_test_split\n",
        "from sklearn.metrics import confusion_matrix\n",
        "from sklearn import metrics"
      ]
    },
    {
      "cell_type": "markdown",
      "metadata": {
        "id": "umSFTncdjTGI"
      },
      "source": [
        "## Multiplicadores de Lagrange\n",
        "\n",
        "----\n",
        "\n",
        "$\\frac{\\partial f(x)}{ \\partial x} = \\lambda \\frac{\\partial g(  x)}{ \\partial x}$\n",
        "\n",
        "----\n",
        "Encontrar los valores de $λ_i$ para cada elemento $X_i$ de training.\n",
        "\n",
        "La función ***GetLambda*** retorna un vector que llamaremos \\lambda (vector con los multiplicadores de lagrange), tal que $λ[i]$ será $0$, si el elemento $X[i]$ no se intersecta con cualquiera de las lineas rectas $XW^T + b >=1$ o $XW^T + b >=0$\n",
        "\n",
        "Nota: $X$ es una matriz, por lo tanto $X_i$ será un vector $K$-dimensional que represente el  $i$-ésimo objeto o punto $k$-dimensional, y  $X_{ij}$ es the $j$-ésimo elemento de el $i$-ésimo objeto.\n",
        "\n",
        "----\n"
      ]
    },
    {
      "cell_type": "code",
      "execution_count": null,
      "metadata": {
        "id": "gDgTzEfpjZhm"
      },
      "outputs": [],
      "source": [
        "import numpy as np\n",
        "from cvxopt import matrix, solvers\n",
        "\n",
        "def GetLambda(X, y):\n",
        "    n, m = X.shape\n",
        "    y = y.astype(float)\n",
        "    K = np.dot(X, X.T) * np.dot(y, y.T)  # Kernel\n",
        "    P = matrix(K)\n",
        "    q = matrix(-np.ones(n))\n",
        "    G = matrix(-np.eye(n))\n",
        "    h = matrix(np.zeros(n))\n",
        "    A = matrix(y.values.reshape(1, -1))\n",
        "    b = matrix(np.zeros(1))\n",
        "    sol = solvers.qp(P, q, G, h, A, b)\n",
        "    alpha = np.array(sol['x'])\n",
        "    return alpha\n"
      ]
    },
    {
      "cell_type": "markdown",
      "metadata": {
        "id": "m-h9QQ1yjZLt"
      },
      "source": [
        "## Cálculo de los pesos de W\n",
        "\n",
        "----\n",
        "\n",
        "$W_j = \\sum_{i=0}^n \\lambda_iy_ix_{ij}$  \n",
        "\n",
        "----\n",
        "Donde: $λ_i$ representa el $i$-ésimo multiplicador de lagrange, $W_j$ es el $j$-ésimo peso, $x_{ij}$ representa el valor del feature $(j)$ del $(i)-ésimo$ objeto de training, y $y_i$ el el output esperado (1 or -1) para el $i$-ésimimo objeto.\n",
        "\n",
        "$W_j = \\sum_{i=0}^n \\lambda_iy_ix_{ij}$  \n",
        "Notar que la sumatoria solo incluye elementos para el cual el multiplicador de Lagrange $\\lambda_i$ es distinto de cero.\n",
        "\n",
        "----"
      ]
    },
    {
      "cell_type": "code",
      "execution_count": null,
      "metadata": {
        "id": "_aRmpfR1kcKr"
      },
      "outputs": [],
      "source": [
        "def Get_W(X, Y, lambda_list):\n",
        "    W = np.sum(lambda_list[:len(X)] * Y.values * X.values, axis=0)\n",
        "    return W"
      ]
    },
    {
      "cell_type": "markdown",
      "metadata": {
        "id": "nBDrd6stkiot"
      },
      "source": [
        "## Encontrando el Bias (b)\n",
        "\n",
        "$XW^t + b = 0$\n",
        "\n",
        "$b = - \\frac{1}{n}∑_{i=0}^n X_iW^t$\n",
        "\n",
        "Donde $X_i$ es un vector $k$-dimensional vector que representa al $i$-ésimo objeto, y $k$ es el número de features del objeto."
      ]
    },
    {
      "cell_type": "code",
      "execution_count": null,
      "metadata": {
        "id": "DCp6D05Bkoby"
      },
      "outputs": [],
      "source": [
        "def Get_b(X,W):\n",
        "  return -np.sum(np.dot(X,W.T))/len(X)"
      ]
    },
    {
      "cell_type": "markdown",
      "metadata": {
        "id": "F_WjMk_skrU8"
      },
      "source": [
        "## Etapa de Testing\n",
        "\n",
        "----\n",
        "Para esta etapa, uno debe solo calcular :\n",
        "\n",
        "- $f(X_j) = X_jW^t + b$\n",
        "\n",
        "Pero dado que nosotros ya tenemos calculados los valores de los parámetros $W$ y $b$, entonces por sustitución tenemos:\n",
        "\n",
        "- $f(X_j) = \\sum_{i=0}^n \\lambda_iy_i<X_{i},X_{j}> + b$\n",
        "\n",
        "Donde: $X_i$ es el $i$-ésimo vector de entrenamiento y $X_j$ es el nuevo vector que pasa a través del modelo para predecir la clase (1 or -1)\n",
        "\n",
        "Finalmente, para determinar a cual clase el nuevo vector $X_j$ pertenece, basta con revisar el signo de f(X_j).\n",
        "\n",
        "- **Si $f(X_j) >=0$ entonces $Y_j$ = 1 caso contrario $Y_j = -1$**\n",
        "  \n",
        "-----"
      ]
    },
    {
      "cell_type": "code",
      "execution_count": null,
      "metadata": {
        "id": "yFnYlBUtkw3I"
      },
      "outputs": [],
      "source": [
        "def Test(X,W,b):\n",
        "  f_values = np.dot(X,W.T) + b\n",
        "  y_pred = np.where(f_values >= 0, 1, -1)\n",
        "  return y_pred"
      ]
    },
    {
      "cell_type": "markdown",
      "metadata": {
        "id": "5d5ANGf_ySC_"
      },
      "source": [
        "# Creación de csvs de los y\n",
        "\n",
        "Sea RESTO = WALKING_UPSTAIRS, WALKING_DOWNSTAIRS, SITTING, STANDING, LAYING\n",
        "- y1: 1 = WALKING y -1 = RESTO\n",
        "\n",
        "Sea RESTO = WALKING, WALKING_DOWNSTAIRS, SITTING, STANDING, LAYING\n",
        "- y2: 1 = WALKING_UPSTAIRS y -1 = RESTO\n",
        "\n",
        "Sea RESTO = WALKING, WALKING_UPSTAIRS, SITTING, STANDING, LAYING\n",
        "- y3: 1 = WALKING_DOWNSTAIRS y -1 = RESTO\n",
        "\n",
        "Sea RESTO = WALKING, WALKING_UPSTAIRS, WALKING_DOWNSTAIRS, STANDING, LAYING\n",
        "- y4: 1 = SITTING y -1 = RESTO\n",
        "\n",
        "Sea RESTO = WALKING, WALKING_UPSTAIRS, WALKING_DOWNSTAIRS, SITTING, LAYING\n",
        "- y5: 1 = STANDING y -1 = RESTO\n",
        "\n",
        "Sea RESTO = WALKING, WALKING_UPSTAIRS, WALKING_DOWNSTAIRS, SITTING, STANDING\n",
        "- y6: 1 = LAYING y -1 = RESTO"
      ]
    },
    {
      "cell_type": "code",
      "execution_count": null,
      "metadata": {
        "id": "URELTlAs16xn"
      },
      "outputs": [],
      "source": [
        "df_y1 = df_y.apply(lambda x: 1 if x == 1 else -1)\n",
        "df_y2 = df_y.apply(lambda x: 1 if x == 2 else -1)\n",
        "df_y3 = df_y.apply(lambda x: 1 if x == 3 else -1)\n",
        "df_y4 = df_y.apply(lambda x: 1 if x == 4 else -1)\n",
        "df_y5 = df_y.apply(lambda x: 1 if x == 5 else -1)\n",
        "df_y6 = df_y.apply(lambda x: 1 if x == 6 else -1)"
      ]
    },
    {
      "cell_type": "markdown",
      "metadata": {
        "id": "zgQu_xlElCrT"
      },
      "source": [
        "# Predicción\n",
        "## Predicción de los y1"
      ]
    },
    {
      "cell_type": "code",
      "execution_count": null,
      "metadata": {
        "id": "N6jqUxp7ppo2"
      },
      "outputs": [],
      "source": [
        "import pandas as pd\n",
        "import numpy as np\n",
        "\n",
        "# Ruta a los archivos h5 en Google Drive\n",
        "feature_vectors_path = '/content/drive/My Drive/Machine Learning/project-2-classification-d1/relevant-features'\n",
        "\n",
        "train_df_x_path = feature_vectors_path + '/train/filtered_features_df_x.csv'\n",
        "test_df_x_path = feature_vectors_path + '/test/filtered_features_df_x.csv'\n",
        "\n",
        "df_x_train = pd.read_csv(train_df_x_path)\n",
        "df_x_test = pd.read_csv(test_df_x_path)"
      ]
    },
    {
      "cell_type": "code",
      "execution_count": null,
      "metadata": {
        "id": "-mjNr4FJ3zK4"
      },
      "outputs": [],
      "source": [
        "y1_train = df_y1.to_frame()\n",
        "y2_train = df_y2.to_frame()\n",
        "y3_train = df_y3.to_frame()\n",
        "y4_train = df_y4.to_frame()\n",
        "y5_train = df_y5.to_frame()\n",
        "y6_train = df_y6.to_frame()"
      ]
    },
    {
      "cell_type": "code",
      "execution_count": null,
      "metadata": {
        "id": "iCmUzitK3qfs"
      },
      "outputs": [],
      "source": [
        "X_train = df_x_train\n",
        "X_test = df_x_test\n",
        "Y_train = y1_train"
      ]
    },
    {
      "cell_type": "code",
      "execution_count": null,
      "metadata": {
        "colab": {
          "base_uri": "https://localhost:8080/"
        },
        "id": "9b0UECzXwAy8",
        "outputId": "a7d9a265-b71d-4256-9919-0af74c7991e5",
        "collapsed": true
      },
      "outputs": [
        {
          "output_type": "stream",
          "name": "stdout",
          "text": [
            "     pcost       dcost       gap    pres   dres\n",
            " 0: -3.3469e+02 -8.5828e+02  4e+04  2e+02  2e+00\n",
            " 1: -5.2216e+02 -5.7287e+02  2e+04  7e+01  8e-01\n",
            " 2: -1.6426e+02 -7.4853e+01  4e+03  1e+01  2e-01\n",
            " 3: -4.1092e+01 -1.1439e+01  7e+02  3e+00  3e-02\n",
            " 4: -1.1164e+01 -2.1133e+00  2e+02  7e-01  8e-03\n",
            " 5: -2.0114e+00 -2.6299e-01  3e+01  1e-01  1e-03\n",
            " 6: -3.0011e-01 -6.2598e-02  5e+00  2e-02  2e-04\n",
            " 7: -5.1872e-02 -3.7697e-02  1e+00  3e-03  4e-05\n",
            " 8: -1.2554e-02 -2.5426e-02  3e-01  8e-04  9e-06\n",
            " 9: -6.3488e-03 -1.7770e-02  1e-01  3e-04  3e-06\n",
            "10: -5.6452e-03 -1.4349e-02  5e-02  1e-04  1e-06\n",
            "11: -6.1232e-03 -1.2508e-02  2e-02  5e-05  6e-07\n",
            "12: -7.0773e-03 -1.1690e-02  1e-02  2e-05  3e-07\n",
            "13: -8.5003e-03 -1.0887e-02  5e-03  6e-06  8e-08\n",
            "14: -8.5686e-03 -1.0843e-02  4e-03  4e-06  4e-08\n",
            "15: -9.5114e-03 -1.0556e-02  1e-03  9e-07  1e-08\n",
            "16: -9.6815e-03 -1.0517e-02  9e-04  1e-07  2e-09\n",
            "17: -1.0157e-02 -1.0443e-02  3e-04  3e-08  1e-09\n",
            "18: -1.0360e-02 -1.0419e-02  6e-05  3e-09  1e-09\n",
            "19: -1.0401e-02 -1.0416e-02  1e-05  3e-18  1e-09\n",
            "20: -1.0415e-02 -1.0415e-02  4e-07  3e-18  1e-09\n",
            "21: -1.0415e-02 -1.0415e-02  4e-09  6e-19  1e-09\n",
            "Optimal solution found.\n"
          ]
        }
      ],
      "source": [
        "lambda_list = GetLambda(X_train,Y_train)\n",
        "sv = lambda_list > 1e-5"
      ]
    },
    {
      "cell_type": "code",
      "execution_count": null,
      "metadata": {
        "id": "uAPa-uaRyIzg"
      },
      "outputs": [],
      "source": [
        "W = Get_W(X_train, Y_train, lambda_list)\n",
        "b = Get_b(X_train,W)\n",
        "\n",
        "# Convert all values greater than 0 to 1, and those less than 0 to -1\n",
        "Y1_pred = np.sign(Test(X_test,W,b))"
      ]
    },
    {
      "cell_type": "code",
      "source": [
        "dfY1_pred_train = pd.DataFrame(np.sign(Test(X_train,W,b)))\n",
        "print(dfY1_pred_train)"
      ],
      "metadata": {
        "colab": {
          "base_uri": "https://localhost:8080/"
        },
        "id": "ISQKhf7EPlBS",
        "outputId": "d79b847d-f9fa-4793-eba9-1cf4f5aa10a9"
      },
      "execution_count": null,
      "outputs": [
        {
          "output_type": "stream",
          "name": "stdout",
          "text": [
            "      0\n",
            "0    -1\n",
            "1    -1\n",
            "2    -1\n",
            "3    -1\n",
            "4    -1\n",
            "...  ..\n",
            "7347 -1\n",
            "7348  1\n",
            "7349 -1\n",
            "7350  1\n",
            "7351  1\n",
            "\n",
            "[7352 rows x 1 columns]\n"
          ]
        }
      ]
    },
    {
      "cell_type": "code",
      "execution_count": null,
      "metadata": {
        "id": "PK3VhcExIryw"
      },
      "outputs": [],
      "source": [
        "# Guardar las predicciones en un archivo CSV\n",
        "pd.DataFrame(Y1_pred).to_csv(folder_path + './predictions/pred_y1.csv', index=False)\n",
        "print(\"Predicciones y1 guardadas en 'pred_y1.csv'\")"
      ]
    },
    {
      "cell_type": "markdown",
      "metadata": {
        "id": "MdLcbKsPDCOs"
      },
      "source": [
        "## Predicción de los y2"
      ]
    },
    {
      "cell_type": "code",
      "execution_count": null,
      "metadata": {
        "id": "oSMIylYYCCsa"
      },
      "outputs": [],
      "source": [
        "Y_train = y2_train"
      ]
    },
    {
      "cell_type": "code",
      "execution_count": null,
      "metadata": {
        "colab": {
          "base_uri": "https://localhost:8080/"
        },
        "id": "GECdlrf1GTzW",
        "outputId": "08d391f8-5f2b-4fe9-f55d-d6f57d0215a3",
        "collapsed": true
      },
      "outputs": [
        {
          "output_type": "stream",
          "name": "stdout",
          "text": [
            "     pcost       dcost       gap    pres   dres\n",
            " 0: -3.5389e+02 -8.7687e+02  4e+04  2e+02  2e+00\n",
            " 1: -5.1281e+02 -5.2005e+02  1e+04  6e+01  8e-01\n",
            " 2: -1.7726e+02 -7.4331e+01  3e+03  1e+01  2e-01\n",
            " 3: -5.0371e+01 -1.1504e+01  6e+02  2e+00  3e-02\n",
            " 4: -1.1086e+01 -2.3063e+00  1e+02  5e-01  6e-03\n",
            " 5: -3.2356e+00 -5.2258e-01  3e+01  1e-01  2e-03\n",
            " 6: -8.7034e-01 -1.1433e-01  9e+00  3e-02  4e-04\n",
            " 7: -1.6346e-01 -4.8148e-02  2e+00  7e-03  9e-05\n",
            " 8: -4.4885e-02 -3.1361e-02  6e-01  2e-03  2e-05\n",
            " 9: -1.6149e-02 -2.1529e-02  2e-01  5e-04  7e-06\n",
            "10: -1.0273e-02 -1.6192e-02  1e-01  2e-04  3e-06\n",
            "11: -8.9516e-03 -1.3091e-02  6e-02  1e-04  2e-06\n",
            "12: -6.6457e-03 -1.1531e-02  4e-02  8e-05  1e-06\n",
            "13: -6.8940e-03 -9.3733e-03  2e-02  3e-05  4e-07\n",
            "14: -6.1595e-03 -8.9510e-03  2e-02  2e-05  3e-07\n",
            "15: -5.9617e-03 -8.5214e-03  1e-02  1e-05  2e-07\n",
            "16: -6.1196e-03 -8.1764e-03  6e-03  6e-06  8e-08\n",
            "17: -6.2894e-03 -8.0553e-03  4e-03  3e-06  4e-08\n",
            "18: -7.0194e-03 -7.8647e-03  1e-03  8e-07  1e-08\n",
            "19: -7.4974e-03 -7.7847e-03  3e-04  7e-08  1e-09\n",
            "20: -7.6626e-03 -7.7680e-03  1e-04  2e-08  1e-09\n",
            "21: -7.7140e-03 -7.7617e-03  5e-05  5e-18  1e-09\n",
            "22: -7.7588e-03 -7.7601e-03  1e-06  5e-19  1e-09\n",
            "23: -7.7600e-03 -7.7600e-03  2e-08  2e-18  1e-09\n",
            "Optimal solution found.\n"
          ]
        }
      ],
      "source": [
        "lambda_list = GetLambda(X_train,Y_train)\n",
        "sv = lambda_list > 1e-5"
      ]
    },
    {
      "cell_type": "code",
      "execution_count": null,
      "metadata": {
        "id": "BMuINKz0GUfv"
      },
      "outputs": [],
      "source": [
        "W = Get_W(X_train, Y_train, lambda_list)\n",
        "b = Get_b(X_test,W)\n",
        "\n",
        "# Convert all values greater than 0 to 1, and those less than 0 to -1\n",
        "Y2_pred  = np.sign(Test(X_test,W,b))"
      ]
    },
    {
      "cell_type": "code",
      "execution_count": null,
      "metadata": {
        "id": "fZyMIKCQLkRp"
      },
      "outputs": [],
      "source": [
        "Y2_pred = pd.DataFrame(Y2_pred)"
      ]
    },
    {
      "cell_type": "code",
      "source": [
        "dfY2_pred_train = pd.DataFrame(np.sign(Test(X_train,W,b)))\n",
        "print(dfY2_pred_train)"
      ],
      "metadata": {
        "colab": {
          "base_uri": "https://localhost:8080/"
        },
        "id": "1HKjQZRzVbXG",
        "outputId": "10e5a6bd-2794-475d-a610-7e5c0e4e7b8f"
      },
      "execution_count": null,
      "outputs": [
        {
          "output_type": "stream",
          "name": "stdout",
          "text": [
            "      0\n",
            "0    -1\n",
            "1    -1\n",
            "2    -1\n",
            "3    -1\n",
            "4    -1\n",
            "...  ..\n",
            "7347  1\n",
            "7348  1\n",
            "7349  1\n",
            "7350  1\n",
            "7351  1\n",
            "\n",
            "[7352 rows x 1 columns]\n"
          ]
        }
      ]
    },
    {
      "cell_type": "code",
      "execution_count": null,
      "metadata": {
        "colab": {
          "base_uri": "https://localhost:8080/"
        },
        "id": "u4P8GN83JZSj",
        "outputId": "81e89bba-aa25-41a5-d051-2ea59765b4fe"
      },
      "outputs": [
        {
          "name": "stdout",
          "output_type": "stream",
          "text": [
            "Predicciones y2 guardadas en 'pred_y2.csv'\n"
          ]
        }
      ],
      "source": [
        "# Guardar las predicciones en un archivo CSV\n",
        "Y2_pred.to_csv(folder_path + './predictions/pred_y2.csv', index=False)\n",
        "print(\"Predicciones y2 guardadas en 'pred_y2.csv'\")"
      ]
    },
    {
      "cell_type": "markdown",
      "metadata": {
        "id": "hhkNEFBFJe2h"
      },
      "source": [
        "## Predicciones y3"
      ]
    },
    {
      "cell_type": "code",
      "execution_count": null,
      "metadata": {
        "id": "9Uz-h6iqJgf_"
      },
      "outputs": [],
      "source": [
        "Y_train = y3_train"
      ]
    },
    {
      "cell_type": "code",
      "execution_count": null,
      "metadata": {
        "colab": {
          "base_uri": "https://localhost:8080/"
        },
        "id": "zQN6OUWJJkHh",
        "outputId": "8d6ee678-b2b0-41cd-9d73-d79ede1768c3",
        "collapsed": true
      },
      "outputs": [
        {
          "output_type": "stream",
          "name": "stdout",
          "text": [
            "     pcost       dcost       gap    pres   dres\n",
            " 0: -2.8756e+02 -6.4248e+02  3e+04  2e+02  2e+00\n",
            " 1: -3.6075e+02 -3.4526e+02  1e+04  6e+01  8e-01\n",
            " 2: -1.1434e+02 -3.3793e+01  2e+03  1e+01  1e-01\n",
            " 3: -2.6049e+01 -3.5620e+00  4e+02  2e+00  3e-02\n",
            " 4: -4.1772e+00 -4.1481e-01  7e+01  3e-01  4e-03\n",
            " 5: -5.4888e-01 -6.4475e-02  8e+00  4e-02  5e-04\n",
            " 6: -7.5588e-02 -2.1384e-02  1e+00  6e-03  8e-05\n",
            " 7: -1.3787e-02 -1.4273e-02  3e-01  1e-03  2e-05\n",
            " 8: -4.7009e-03 -1.0379e-02  1e-01  3e-04  5e-06\n",
            " 9: -2.6017e-03 -7.7477e-03  3e-02  1e-04  1e-06\n",
            "10: -2.9473e-03 -6.2078e-03  1e-02  4e-05  5e-07\n",
            "11: -3.0466e-03 -5.9391e-03  9e-03  2e-05  3e-07\n",
            "12: -3.7900e-03 -5.4159e-03  3e-03  5e-06  7e-08\n",
            "13: -4.1410e-03 -5.2542e-03  1e-03  9e-07  1e-08\n",
            "14: -4.4345e-03 -5.1120e-03  7e-04  2e-07  3e-09\n",
            "15: -4.5437e-03 -5.0783e-03  6e-04  9e-08  1e-09\n",
            "16: -4.6740e-03 -5.0354e-03  4e-04  4e-08  7e-10\n",
            "17: -4.6864e-03 -5.0294e-03  3e-04  3e-08  6e-10\n",
            "18: -4.8169e-03 -4.9890e-03  2e-04  1e-08  5e-10\n",
            "19: -4.8870e-03 -4.9719e-03  8e-05  2e-10  6e-10\n",
            "20: -4.9314e-03 -4.9656e-03  3e-05  4e-11  5e-10\n",
            "21: -4.9499e-03 -4.9635e-03  1e-05  9e-12  5e-10\n",
            "22: -4.9608e-03 -4.9628e-03  2e-06  6e-14  6e-10\n",
            "23: -4.9627e-03 -4.9627e-03  3e-08  8e-16  6e-10\n",
            "Optimal solution found.\n"
          ]
        }
      ],
      "source": [
        "lambda_list = GetLambda(X_train,Y_train)\n",
        "sv = lambda_list > 1e-5"
      ]
    },
    {
      "cell_type": "code",
      "execution_count": null,
      "metadata": {
        "id": "QwS3OYHkJp0X"
      },
      "outputs": [],
      "source": [
        "W = Get_W(X_train, Y_train, lambda_list)\n",
        "b = Get_b(X_train,W)\n",
        "\n",
        "# Convert all values greater than 0 to 1, and those less than 0 to -1\n",
        "Y3_pred  = np.sign(Test(X_test,W,b))"
      ]
    },
    {
      "cell_type": "code",
      "execution_count": null,
      "metadata": {
        "id": "--HelHTgPRu4"
      },
      "outputs": [],
      "source": [
        "Y3_pred = pd.DataFrame(Y3_pred)"
      ]
    },
    {
      "cell_type": "code",
      "source": [
        "dfY3_pred_train = pd.DataFrame(np.sign(Test(X_train,W,b)))\n",
        "print(dfY3_pred_train)"
      ],
      "metadata": {
        "colab": {
          "base_uri": "https://localhost:8080/"
        },
        "collapsed": true,
        "id": "ChxJpS5Ir0Lo",
        "outputId": "fb24973c-9f27-4002-a55e-0d73585cfbb6"
      },
      "execution_count": null,
      "outputs": [
        {
          "output_type": "stream",
          "name": "stdout",
          "text": [
            "      0\n",
            "0    -1\n",
            "1    -1\n",
            "2    -1\n",
            "3    -1\n",
            "4    -1\n",
            "...  ..\n",
            "7347 -1\n",
            "7348 -1\n",
            "7349 -1\n",
            "7350 -1\n",
            "7351 -1\n",
            "\n",
            "[7352 rows x 1 columns]\n"
          ]
        }
      ]
    },
    {
      "cell_type": "code",
      "execution_count": null,
      "metadata": {
        "colab": {
          "base_uri": "https://localhost:8080/"
        },
        "id": "2DoxDK1lJwGL",
        "outputId": "fb1129fb-5856-4745-bb86-6bda84b8fce1"
      },
      "outputs": [
        {
          "name": "stdout",
          "output_type": "stream",
          "text": [
            "Predicciones y3 guardadas en 'pred_y3.csv'\n"
          ]
        }
      ],
      "source": [
        "# Guardar las predicciones en un archivo CSV\n",
        "Y3_pred.to_csv(folder_path + './predictions/pred_y3.csv', index=False)\n",
        "print(\"Predicciones y3 guardadas en 'pred_y3.csv'\")"
      ]
    },
    {
      "cell_type": "markdown",
      "metadata": {
        "id": "8hzipV2CJzqT"
      },
      "source": [
        "## Predicciones y4"
      ]
    },
    {
      "cell_type": "code",
      "execution_count": null,
      "metadata": {
        "id": "4VbU0UK1J1Uh"
      },
      "outputs": [],
      "source": [
        "Y_train = y4_train"
      ]
    },
    {
      "cell_type": "code",
      "execution_count": null,
      "metadata": {
        "colab": {
          "base_uri": "https://localhost:8080/"
        },
        "id": "MqOFVtcFJ3lE",
        "outputId": "2f998d6f-c58c-4340-bc6f-d1949e8cb83e",
        "collapsed": true
      },
      "outputs": [
        {
          "output_type": "stream",
          "name": "stdout",
          "text": [
            "     pcost       dcost       gap    pres   dres\n",
            " 0: -1.2227e+03 -3.7201e+03  4e+04  2e+02  3e+00\n",
            " 1: -3.8053e+03 -8.4842e+03  4e+04  1e+02  2e+00\n",
            " 2: -8.7815e+03 -1.5895e+04  4e+04  1e+02  2e+00\n",
            " 3: -1.8988e+04 -2.7857e+04  3e+04  8e+01  1e+00\n",
            " 4: -3.6668e+04 -4.8380e+04  4e+04  8e+01  1e+00\n",
            " 5: -6.8627e+04 -8.4884e+04  4e+04  7e+01  1e+00\n",
            " 6: -1.3827e+05 -1.6278e+05  5e+04  7e+01  1e+00\n",
            " 7: -2.3319e+05 -2.6810e+05  7e+04  7e+01  1e+00\n",
            " 8: -3.6114e+05 -4.0900e+05  8e+04  7e+01  1e+00\n",
            " 9: -5.5032e+05 -6.1549e+05  1e+05  6e+01  1e+00\n",
            "10: -7.1000e+05 -7.8914e+05  1e+05  6e+01  1e+00\n",
            "11: -9.0947e+05 -1.0047e+06  2e+05  6e+01  1e+00\n",
            "12: -1.1387e+06 -1.2515e+06  2e+05  6e+01  1e+00\n",
            "13: -1.3592e+06 -1.4892e+06  2e+05  6e+01  1e+00\n",
            "14: -1.6151e+06 -1.7672e+06  3e+05  6e+01  1e+00\n",
            "15: -1.7581e+06 -1.9237e+06  3e+05  6e+01  1e+00\n",
            "16: -1.8689e+06 -2.0451e+06  4e+05  6e+01  1e+00\n",
            "17: -1.9929e+06 -2.1817e+06  4e+05  6e+01  1e+00\n",
            "18: -2.1015e+06 -2.3006e+06  5e+05  6e+01  1e+00\n",
            "19: -2.2275e+06 -2.4403e+06  5e+05  6e+01  1e+00\n",
            "20: -2.3259e+06 -2.5475e+06  6e+05  6e+01  1e+00\n",
            "21: -2.4239e+06 -2.6552e+06  7e+05  6e+01  1e+00\n",
            "22: -2.5031e+06 -2.7396e+06  8e+05  6e+01  1e+00\n",
            "23: -2.5497e+06 -2.7859e+06  9e+05  6e+01  9e-01\n",
            "24: -2.6410e+06 -2.8716e+06  1e+06  6e+01  9e-01\n",
            "25: -2.6271e+06 -2.8525e+06  1e+06  5e+01  9e-01\n",
            "26: -2.6970e+06 -2.8973e+06  1e+06  5e+01  9e-01\n",
            "27: -2.6353e+06 -2.8265e+06  1e+06  5e+01  8e-01\n",
            "28: -2.5896e+06 -2.7657e+06  1e+06  5e+01  8e-01\n",
            "29: -2.5595e+06 -2.7222e+06  2e+06  4e+01  7e-01\n",
            "30: -2.5142e+06 -2.6751e+06  2e+06  4e+01  7e-01\n",
            "31: -2.4465e+06 -2.6084e+06  2e+06  4e+01  6e-01\n",
            "32: -2.3646e+06 -2.5226e+06  2e+06  4e+01  6e-01\n",
            "33: -2.2746e+06 -2.4168e+06  2e+06  3e+01  5e-01\n",
            "34: -2.1608e+06 -2.2941e+06  2e+06  3e+01  5e-01\n",
            "35: -2.1312e+06 -2.2796e+06  2e+06  2e+01  4e-01\n",
            "36: -2.0300e+06 -2.1875e+06  2e+06  2e+01  4e-01\n",
            "37: -1.9030e+06 -2.0987e+06  2e+06  2e+01  3e-01\n",
            "38: -1.8437e+06 -2.0569e+06  2e+06  2e+01  3e-01\n",
            "39: -1.7241e+06 -1.9584e+06  1e+06  1e+01  3e-01\n",
            "40: -1.6689e+06 -1.9500e+06  1e+06  1e+01  2e-01\n",
            "41: -1.5730e+06 -1.9026e+06  1e+06  9e+00  2e-01\n",
            "42: -1.5282e+06 -1.8533e+06  1e+06  8e+00  2e-01\n",
            "43: -1.4841e+06 -1.7771e+06  9e+05  5e+00  2e-01\n",
            "44: -1.4281e+06 -1.6938e+06  6e+05  3e+00  2e-01\n",
            "45: -1.3688e+06 -1.6596e+06  6e+05  3e+00  2e-01\n",
            "46: -1.4209e+06 -1.6886e+06  5e+05  2e+00  2e-01\n",
            "47: -1.3948e+06 -1.6654e+06  4e+05  1e+00  2e-01\n",
            "48: -1.4119e+06 -1.6807e+06  4e+05  1e+00  2e-01\n",
            "49: -1.4215e+06 -1.6833e+06  4e+05  1e+00  2e-01\n",
            "50: -1.4128e+06 -1.6567e+06  3e+05  7e-01  2e-01\n",
            "51: -1.3981e+06 -1.6262e+06  3e+05  6e-01  2e-01\n",
            "52: -1.4388e+06 -1.6519e+06  3e+05  4e-01  2e-01\n",
            "53: -1.3908e+06 -1.6050e+06  3e+05  4e-01  2e-01\n",
            "54: -1.4238e+06 -1.6044e+06  2e+05  2e-01  2e-01\n",
            "55: -1.5050e+06 -1.6796e+06  2e+05  2e-01  2e-01\n",
            "56: -1.4806e+06 -1.6537e+06  2e+05  2e-01  2e-01\n",
            "57: -1.4771e+06 -1.6500e+06  2e+05  1e-01  2e-01\n",
            "58: -1.5070e+06 -1.6520e+06  2e+05  8e-02  2e-01\n",
            "59: -1.4385e+06 -1.5733e+06  1e+05  6e-02  2e-01\n",
            "60: -1.4438e+06 -1.5733e+06  1e+05  4e-02  2e-01\n",
            "61: -1.4909e+06 -1.6172e+06  1e+05  4e-02  2e-01\n",
            "62: -1.5353e+06 -1.6583e+06  1e+05  3e-02  2e-01\n",
            "63: -1.4652e+06 -1.5901e+06  1e+05  3e-02  2e-01\n",
            "64: -1.4966e+06 -1.6071e+06  1e+05  2e-02  2e-01\n",
            "65: -1.5182e+06 -1.6224e+06  1e+05  2e-02  2e-01\n",
            "66: -1.5294e+06 -1.6275e+06  1e+05  1e-02  2e-01\n",
            "67: -1.5172e+06 -1.6144e+06  1e+05  1e-02  2e-01\n",
            "68: -1.5432e+06 -1.6356e+06  9e+04  8e-03  2e-01\n",
            "69: -1.4887e+06 -1.5813e+06  9e+04  7e-03  2e-01\n",
            "70: -1.5044e+06 -1.5950e+06  9e+04  6e-03  2e-01\n",
            "71: -1.5071e+06 -1.5984e+06  9e+04  5e-03  2e-01\n",
            "72: -1.5122e+06 -1.6010e+06  9e+04  4e-03  2e-01\n",
            "73: -1.5019e+06 -1.5834e+06  8e+04  3e-03  2e-01\n",
            "74: -1.4878e+06 -1.5703e+06  8e+04  3e-03  2e-01\n",
            "75: -1.5710e+06 -1.6525e+06  8e+04  2e-03  2e-01\n",
            "76: -1.5494e+06 -1.6340e+06  8e+04  2e-03  2e-01\n",
            "77: -1.5224e+06 -1.6095e+06  9e+04  2e-03  2e-01\n",
            "78: -1.5208e+06 -1.5975e+06  8e+04  1e-03  2e-01\n",
            "79: -1.5673e+06 -1.6455e+06  8e+04  9e-04  2e-01\n",
            "80: -1.5109e+06 -1.5869e+06  8e+04  7e-04  2e-01\n",
            "81: -1.5337e+06 -1.6103e+06  8e+04  6e-04  2e-01\n",
            "82: -1.5153e+06 -1.5869e+06  7e+04  5e-04  2e-01\n",
            "83: -1.5102e+06 -1.5813e+06  7e+04  4e-04  2e-01\n",
            "84: -1.5256e+06 -1.5957e+06  7e+04  3e-04  2e-01\n",
            "85: -1.5253e+06 -1.5982e+06  7e+04  3e-04  2e-01\n",
            "86: -1.5538e+06 -1.6144e+06  6e+04  2e-04  2e-01\n",
            "87: -1.5536e+06 -1.6153e+06  6e+04  1e-04  2e-01\n",
            "88: -1.5712e+06 -1.6298e+06  6e+04  1e-04  2e-01\n",
            "89: -1.5303e+06 -1.5892e+06  6e+04  9e-05  2e-01\n",
            "90: -1.5591e+06 -1.6133e+06  5e+04  6e-05  2e-01\n",
            "91: -1.5281e+06 -1.5817e+06  5e+04  6e-05  2e-01\n",
            "92: -1.5595e+06 -1.6146e+06  6e+04  5e-05  2e-01\n",
            "93: -1.5558e+06 -1.6048e+06  5e+04  4e-05  2e-01\n",
            "94: -1.5093e+06 -1.5587e+06  5e+04  3e-05  2e-01\n",
            "95: -1.5508e+06 -1.5997e+06  5e+04  3e-05  2e-01\n",
            "96: -1.5156e+06 -1.5655e+06  5e+04  3e-05  2e-01\n",
            "97: -1.5445e+06 -1.5951e+06  5e+04  3e-05  2e-01\n",
            "98: -1.5821e+06 -1.6341e+06  5e+04  2e-05  2e-01\n",
            "99: -1.4965e+06 -1.5489e+06  5e+04  2e-05  2e-01\n",
            "100: -1.5351e+06 -1.5867e+06  5e+04  2e-05  2e-01\n",
            "Terminated (maximum number of iterations reached).\n"
          ]
        }
      ],
      "source": [
        "lambda_list = GetLambda(X_train,Y_train)\n",
        "sv = lambda_list > 1e-5"
      ]
    },
    {
      "cell_type": "code",
      "execution_count": null,
      "metadata": {
        "id": "avdvHApxJ4ii"
      },
      "outputs": [],
      "source": [
        "W = Get_W(X_train, Y_train, lambda_list)\n",
        "b = Get_b(X_train,W)\n",
        "\n",
        "# Convert all values greater than 0 to 1, and those less than 0 to -1\n",
        "Y4_pred  = np.sign(Test(X_test,W,b))"
      ]
    },
    {
      "cell_type": "code",
      "execution_count": null,
      "metadata": {
        "id": "Sj_hEu85VlfA"
      },
      "outputs": [],
      "source": [
        "Y4_pred = pd.DataFrame(Y4_pred)"
      ]
    },
    {
      "cell_type": "code",
      "source": [
        "dfY4_pred_train = pd.DataFrame(np.sign(Test(X_train,W,b)))\n",
        "print(dfY4_pred_train)"
      ],
      "metadata": {
        "colab": {
          "base_uri": "https://localhost:8080/"
        },
        "id": "z73Tk5BDvRCW",
        "outputId": "3483f42e-0730-472d-f4ed-f53fc910f1b8"
      },
      "execution_count": null,
      "outputs": [
        {
          "output_type": "stream",
          "name": "stdout",
          "text": [
            "      0\n",
            "0     1\n",
            "1     1\n",
            "2     1\n",
            "3     1\n",
            "4     1\n",
            "...  ..\n",
            "7347  1\n",
            "7348  1\n",
            "7349 -1\n",
            "7350 -1\n",
            "7351 -1\n",
            "\n",
            "[7352 rows x 1 columns]\n"
          ]
        }
      ]
    },
    {
      "cell_type": "code",
      "execution_count": null,
      "metadata": {
        "colab": {
          "base_uri": "https://localhost:8080/"
        },
        "id": "QvdvD__vJ8G6",
        "outputId": "c393013b-4692-46b9-d57b-1d68660a78d4"
      },
      "outputs": [
        {
          "name": "stdout",
          "output_type": "stream",
          "text": [
            "Predicciones y4 guardadas en 'pred_y4.csv'\n"
          ]
        }
      ],
      "source": [
        "# Guardar las predicciones en un archivo CSV\n",
        "Y4_pred.to_csv(folder_path + './predictions/pred_y4.csv', index=False)\n",
        "print(\"Predicciones y4 guardadas en 'pred_y4.csv'\")"
      ]
    },
    {
      "cell_type": "markdown",
      "metadata": {
        "id": "mT8alqsPJ_v_"
      },
      "source": [
        "## Predicciones y5"
      ]
    },
    {
      "cell_type": "code",
      "execution_count": null,
      "metadata": {
        "id": "iKE_Xn3rKCjd"
      },
      "outputs": [],
      "source": [
        "Y_train = y5_train"
      ]
    },
    {
      "cell_type": "code",
      "execution_count": null,
      "metadata": {
        "colab": {
          "base_uri": "https://localhost:8080/"
        },
        "id": "Z9sjCFUlKYKE",
        "outputId": "6b7f4ad9-5180-4298-f0e4-28f68259db38",
        "collapsed": true
      },
      "outputs": [
        {
          "output_type": "stream",
          "name": "stdout",
          "text": [
            "     pcost       dcost       gap    pres   dres\n",
            " 0: -1.2178e+03 -3.6888e+03  4e+04  2e+02  3e+00\n",
            " 1: -3.5987e+03 -8.0108e+03  3e+04  1e+02  2e+00\n",
            " 2: -8.2991e+03 -1.4800e+04  3e+04  9e+01  2e+00\n",
            " 3: -1.6738e+04 -2.5013e+04  3e+04  8e+01  1e+00\n",
            " 4: -3.6233e+04 -4.7018e+04  3e+04  7e+01  1e+00\n",
            " 5: -6.4450e+04 -7.9329e+04  4e+04  6e+01  1e+00\n",
            " 6: -1.2113e+05 -1.4316e+05  5e+04  6e+01  1e+00\n",
            " 7: -2.0825e+05 -2.4030e+05  6e+04  6e+01  1e+00\n",
            " 8: -3.4928e+05 -3.9576e+05  8e+04  6e+01  1e+00\n",
            " 9: -5.1705e+05 -5.7955e+05  1e+05  6e+01  1e+00\n",
            "10: -7.0073e+05 -7.7975e+05  1e+05  6e+01  1e+00\n",
            "11: -8.9502e+05 -9.9115e+05  2e+05  6e+01  1e+00\n",
            "12: -1.1288e+06 -1.2455e+06  2e+05  6e+01  1e+00\n",
            "13: -1.3069e+06 -1.4391e+06  2e+05  6e+01  1e+00\n",
            "14: -1.4634e+06 -1.6111e+06  3e+05  6e+01  1e+00\n",
            "15: -1.6594e+06 -1.8259e+06  3e+05  6e+01  1e+00\n",
            "16: -1.8348e+06 -2.0196e+06  4e+05  6e+01  1e+00\n",
            "17: -1.9156e+06 -2.1121e+06  4e+05  6e+01  1e+00\n",
            "18: -2.0912e+06 -2.3049e+06  5e+05  5e+01  1e+00\n",
            "19: -2.2177e+06 -2.4435e+06  5e+05  5e+01  1e+00\n",
            "20: -2.3046e+06 -2.5430e+06  6e+05  5e+01  1e+00\n",
            "21: -2.3695e+06 -2.6127e+06  7e+05  5e+01  1e+00\n",
            "22: -2.4473e+06 -2.6953e+06  7e+05  5e+01  1e+00\n",
            "23: -2.4525e+06 -2.7034e+06  8e+05  5e+01  1e+00\n",
            "24: -2.5249e+06 -2.7786e+06  9e+05  5e+01  1e+00\n",
            "25: -2.5803e+06 -2.8400e+06  9e+05  5e+01  9e-01\n",
            "26: -2.6734e+06 -2.9409e+06  1e+06  5e+01  9e-01\n",
            "27: -2.6894e+06 -2.9673e+06  1e+06  5e+01  9e-01\n",
            "28: -2.8034e+06 -3.0881e+06  1e+06  4e+01  8e-01\n",
            "29: -2.7936e+06 -3.0889e+06  1e+06  4e+01  8e-01\n",
            "30: -2.8107e+06 -3.1124e+06  1e+06  4e+01  8e-01\n",
            "31: -2.8043e+06 -3.1077e+06  2e+06  4e+01  7e-01\n",
            "32: -2.7936e+06 -3.1114e+06  2e+06  3e+01  7e-01\n",
            "33: -2.7781e+06 -3.1113e+06  2e+06  3e+01  6e-01\n",
            "34: -2.7742e+06 -3.1201e+06  2e+06  3e+01  6e-01\n",
            "35: -2.7212e+06 -3.0823e+06  2e+06  3e+01  5e-01\n",
            "36: -2.5938e+06 -2.9905e+06  2e+06  2e+01  5e-01\n",
            "37: -2.5992e+06 -3.0206e+06  2e+06  2e+01  5e-01\n",
            "38: -2.4587e+06 -2.9242e+06  2e+06  2e+01  4e-01\n",
            "39: -2.3348e+06 -2.7957e+06  2e+06  1e+01  4e-01\n",
            "40: -2.3108e+06 -2.7946e+06  2e+06  1e+01  3e-01\n",
            "41: -2.2543e+06 -2.7585e+06  2e+06  1e+01  3e-01\n",
            "42: -2.2312e+06 -2.7442e+06  1e+06  8e+00  3e-01\n",
            "43: -2.0999e+06 -2.6081e+06  1e+06  6e+00  3e-01\n",
            "44: -2.0476e+06 -2.5708e+06  1e+06  5e+00  3e-01\n",
            "45: -2.0309e+06 -2.5626e+06  1e+06  4e+00  3e-01\n",
            "46: -1.8938e+06 -2.4458e+06  9e+05  3e+00  3e-01\n",
            "47: -1.9954e+06 -2.5448e+06  9e+05  2e+00  3e-01\n",
            "48: -1.9149e+06 -2.4745e+06  8e+05  2e+00  3e-01\n",
            "49: -1.8835e+06 -2.3998e+06  7e+05  1e+00  3e-01\n",
            "50: -2.0841e+06 -2.5998e+06  7e+05  1e+00  3e-01\n",
            "51: -1.9088e+06 -2.4410e+06  7e+05  9e-01  3e-01\n",
            "52: -2.0626e+06 -2.5003e+06  5e+05  6e-01  3e-01\n",
            "53: -2.0510e+06 -2.4709e+06  5e+05  5e-01  3e-01\n",
            "54: -2.1833e+06 -2.5860e+06  5e+05  4e-01  3e-01\n",
            "55: -2.1034e+06 -2.4938e+06  4e+05  4e-01  3e-01\n",
            "56: -2.0339e+06 -2.4163e+06  4e+05  3e-01  3e-01\n",
            "57: -2.1213e+06 -2.4783e+06  4e+05  3e-01  3e-01\n",
            "58: -2.1017e+06 -2.4623e+06  4e+05  2e-01  3e-01\n",
            "59: -2.1515e+06 -2.4945e+06  4e+05  2e-01  3e-01\n",
            "60: -2.1581e+06 -2.4946e+06  4e+05  2e-01  3e-01\n",
            "61: -2.0554e+06 -2.3984e+06  4e+05  1e-01  3e-01\n",
            "62: -2.1209e+06 -2.4565e+06  3e+05  1e-01  3e-01\n",
            "63: -2.1296e+06 -2.4589e+06  3e+05  1e-01  3e-01\n",
            "64: -2.1602e+06 -2.4946e+06  3e+05  8e-02  3e-01\n",
            "65: -2.1806e+06 -2.5087e+06  3e+05  7e-02  3e-01\n",
            "66: -2.2001e+06 -2.5108e+06  3e+05  6e-02  3e-01\n",
            "67: -2.1683e+06 -2.4547e+06  3e+05  4e-02  3e-01\n",
            "68: -2.1829e+06 -2.4478e+06  3e+05  3e-02  3e-01\n",
            "69: -2.1711e+06 -2.4368e+06  3e+05  3e-02  3e-01\n",
            "70: -2.1792e+06 -2.4486e+06  3e+05  3e-02  3e-01\n",
            "71: -2.2195e+06 -2.4652e+06  2e+05  2e-02  3e-01\n",
            "72: -2.2335e+06 -2.4656e+06  2e+05  2e-02  3e-01\n",
            "73: -2.2781e+06 -2.4988e+06  2e+05  1e-02  3e-01\n",
            "74: -2.1694e+06 -2.3923e+06  2e+05  1e-02  3e-01\n",
            "75: -2.1142e+06 -2.3324e+06  2e+05  1e-02  3e-01\n",
            "76: -2.1676e+06 -2.3849e+06  2e+05  9e-03  3e-01\n",
            "77: -2.2215e+06 -2.4491e+06  2e+05  8e-03  3e-01\n",
            "78: -2.2937e+06 -2.4996e+06  2e+05  6e-03  3e-01\n",
            "79: -2.1144e+06 -2.3003e+06  2e+05  5e-03  3e-01\n",
            "80: -2.1976e+06 -2.3872e+06  2e+05  4e-03  3e-01\n",
            "81: -2.2623e+06 -2.4603e+06  2e+05  4e-03  3e-01\n",
            "82: -2.2784e+06 -2.4784e+06  2e+05  3e-03  3e-01\n",
            "83: -2.1942e+06 -2.4000e+06  2e+05  3e-03  3e-01\n",
            "84: -2.1145e+06 -2.3188e+06  2e+05  2e-03  3e-01\n",
            "85: -2.1248e+06 -2.3170e+06  2e+05  2e-03  3e-01\n",
            "86: -2.1357e+06 -2.3298e+06  2e+05  2e-03  3e-01\n",
            "87: -2.2344e+06 -2.4248e+06  2e+05  1e-03  3e-01\n",
            "88: -2.1995e+06 -2.3897e+06  2e+05  1e-03  3e-01\n",
            "89: -2.1843e+06 -2.3741e+06  2e+05  1e-03  3e-01\n",
            "90: -2.2789e+06 -2.4715e+06  2e+05  1e-03  3e-01\n",
            "91: -2.2850e+06 -2.4750e+06  2e+05  1e-03  3e-01\n",
            "92: -2.1674e+06 -2.3656e+06  2e+05  8e-04  3e-01\n",
            "93: -2.2883e+06 -2.4835e+06  2e+05  7e-04  3e-01\n",
            "94: -2.2210e+06 -2.4211e+06  2e+05  6e-04  3e-01\n",
            "95: -2.2592e+06 -2.4589e+06  2e+05  5e-04  3e-01\n",
            "96: -2.2323e+06 -2.4211e+06  2e+05  4e-04  3e-01\n",
            "97: -2.1332e+06 -2.3236e+06  2e+05  3e-04  3e-01\n",
            "98: -2.2145e+06 -2.3979e+06  2e+05  3e-04  3e-01\n",
            "99: -2.1977e+06 -2.3796e+06  2e+05  2e-04  3e-01\n",
            "100: -2.1953e+06 -2.3771e+06  2e+05  2e-04  3e-01\n",
            "Terminated (maximum number of iterations reached).\n"
          ]
        }
      ],
      "source": [
        "lambda_list = GetLambda(X_train,Y_train)\n",
        "sv = lambda_list > 1e-5"
      ]
    },
    {
      "cell_type": "code",
      "execution_count": null,
      "metadata": {
        "id": "zVynoJoXKY8j"
      },
      "outputs": [],
      "source": [
        "W = Get_W(X_train, Y_train, lambda_list)\n",
        "b = Get_b(X_train,W)\n",
        "\n",
        "# Convert all values greater than 0 to 1, and those less than 0 to -1\n",
        "Y5_pred  = np.sign(Test(X_test,W,b))"
      ]
    },
    {
      "cell_type": "code",
      "execution_count": null,
      "metadata": {
        "id": "2WYi-1JebtFq"
      },
      "outputs": [],
      "source": [
        "Y5_pred = pd.DataFrame(Y5_pred)"
      ]
    },
    {
      "cell_type": "code",
      "source": [
        "dfY5_pred_train = pd.DataFrame(np.sign(Test(X_train,W,b)))\n",
        "print(dfY5_pred_train)"
      ],
      "metadata": {
        "colab": {
          "base_uri": "https://localhost:8080/"
        },
        "id": "DZYkbjaB4orz",
        "outputId": "23976927-6cf8-478e-8511-ee51d9a9e8fa"
      },
      "execution_count": null,
      "outputs": [
        {
          "output_type": "stream",
          "name": "stdout",
          "text": [
            "      0\n",
            "0     1\n",
            "1     1\n",
            "2     1\n",
            "3     1\n",
            "4     1\n",
            "...  ..\n",
            "7347 -1\n",
            "7348 -1\n",
            "7349 -1\n",
            "7350 -1\n",
            "7351  1\n",
            "\n",
            "[7352 rows x 1 columns]\n"
          ]
        }
      ]
    },
    {
      "cell_type": "code",
      "execution_count": null,
      "metadata": {
        "colab": {
          "base_uri": "https://localhost:8080/"
        },
        "id": "NbNEXsdFKa3Q",
        "outputId": "eefbb3f9-04f3-4230-9f6a-bb637f36876a"
      },
      "outputs": [
        {
          "name": "stdout",
          "output_type": "stream",
          "text": [
            "Predicciones y5 guardadas en 'pred_y5.csv'\n"
          ]
        }
      ],
      "source": [
        "# Guardar las predicciones en un archivo CSV\n",
        "Y5_pred.to_csv(folder_path + './predictions/pred_y5.csv', index=False)\n",
        "print(\"Predicciones y5 guardadas en 'pred_y5.csv'\")"
      ]
    },
    {
      "cell_type": "markdown",
      "metadata": {
        "id": "5r63MZ8YbeaV"
      },
      "source": [
        "## Predicciones y6"
      ]
    },
    {
      "cell_type": "code",
      "execution_count": null,
      "metadata": {
        "id": "AhsP2gYibgB_"
      },
      "outputs": [],
      "source": [
        "Y_train = y6_train"
      ]
    },
    {
      "cell_type": "code",
      "execution_count": null,
      "metadata": {
        "colab": {
          "base_uri": "https://localhost:8080/"
        },
        "id": "OLwyXpvsbi8_",
        "outputId": "e16e7543-da2d-48ef-dcbc-06f9501fdf3b"
      },
      "outputs": [
        {
          "output_type": "stream",
          "name": "stdout",
          "text": [
            "     pcost       dcost       gap    pres   dres\n",
            " 0: -4.5478e+01 -1.0828e+02  2e+04  1e+02  2e+00\n",
            " 1: -4.6973e+01 -4.1700e+01  4e+03  2e+01  4e-01\n",
            " 2: -9.9271e+00 -4.6649e+00  7e+02  3e+00  6e-02\n",
            " 3: -1.9339e+00 -6.8877e-01  1e+02  5e-01  8e-03\n",
            " 4: -3.7938e-01 -8.7522e-02  2e+01  7e-02  1e-03\n",
            " 5: -6.6247e-02 -7.5122e-03  2e+00  1e-02  2e-04\n",
            " 6: -5.9334e-03 -1.9262e-03  2e-01  1e-03  2e-05\n",
            " 7: -1.0458e-03 -8.6730e-04  4e-02  2e-04  3e-06\n",
            " 8: -2.4769e-04 -3.7818e-04  5e-03  2e-05  3e-07\n",
            " 9: -1.4094e-04 -1.8304e-04  1e-03  5e-06  9e-08\n",
            "10: -9.7849e-05 -1.6359e-04  9e-04  3e-06  5e-08\n",
            "11: -8.1118e-05 -1.3803e-04  3e-04  8e-07  1e-08\n",
            "12: -7.8336e-05 -1.3153e-04  1e-04  2e-07  4e-09\n",
            "13: -9.1186e-05 -1.2771e-04  5e-05  4e-08  6e-10\n",
            "14: -9.9767e-05 -1.2470e-04  3e-05  2e-08  3e-10\n",
            "15: -1.0224e-04 -1.2451e-04  2e-05  6e-09  1e-10\n",
            "16: -1.1243e-04 -1.2230e-04  1e-05  2e-09  5e-11\n",
            "17: -1.1649e-04 -1.2156e-04  5e-06  6e-20  4e-11\n",
            "18: -1.1922e-04 -1.2136e-04  2e-06  3e-20  4e-11\n",
            "19: -1.2079e-04 -1.2129e-04  5e-07  7e-20  4e-11\n",
            "20: -1.2128e-04 -1.2128e-04  8e-09  7e-20  4e-11\n",
            "Optimal solution found.\n"
          ]
        }
      ],
      "source": [
        "lambda_list = GetLambda(X_train,Y_train)\n",
        "sv = lambda_list > 1e-5"
      ]
    },
    {
      "cell_type": "code",
      "execution_count": null,
      "metadata": {
        "id": "KRXQKGKtbl9N"
      },
      "outputs": [],
      "source": [
        "W = Get_W(X_train, Y_train, lambda_list)\n",
        "b = Get_b(X_train,W)\n",
        "\n",
        "# Convert all values greater than 0 to 1, and those less than 0 to -1\n",
        "Y6_pred  = np.sign(Test(X_test,W,b))"
      ]
    },
    {
      "cell_type": "code",
      "execution_count": null,
      "metadata": {
        "id": "suoWvbAvdfrX"
      },
      "outputs": [],
      "source": [
        "Y6_pred = pd.DataFrame(Y6_pred)"
      ]
    },
    {
      "cell_type": "code",
      "source": [
        "dfY6_pred_train = pd.DataFrame(np.sign(Test(X_train,W,b)))\n",
        "print(dfY6_pred_train)"
      ],
      "metadata": {
        "colab": {
          "base_uri": "https://localhost:8080/"
        },
        "id": "JQhsVG5mEcJn",
        "outputId": "5fbe29bc-8147-4d19-9b04-dc170800e620"
      },
      "execution_count": null,
      "outputs": [
        {
          "output_type": "stream",
          "name": "stdout",
          "text": [
            "      0\n",
            "0    -1\n",
            "1    -1\n",
            "2    -1\n",
            "3    -1\n",
            "4    -1\n",
            "...  ..\n",
            "7347 -1\n",
            "7348 -1\n",
            "7349 -1\n",
            "7350 -1\n",
            "7351 -1\n",
            "\n",
            "[7352 rows x 1 columns]\n"
          ]
        }
      ]
    },
    {
      "cell_type": "code",
      "execution_count": null,
      "metadata": {
        "colab": {
          "base_uri": "https://localhost:8080/"
        },
        "id": "OJT1WBvgbobC",
        "outputId": "96d2eabf-3e0a-49b5-9d60-44365e8f8bab"
      },
      "outputs": [
        {
          "name": "stdout",
          "output_type": "stream",
          "text": [
            "Predicciones y6 guardadas en 'pred_y6.csv'\n"
          ]
        }
      ],
      "source": [
        "# Guardar las predicciones en un archivo CSV\n",
        "Y6_pred.to_csv(folder_path + './predictions/pred_y6.csv', index=False)\n",
        "print(\"Predicciones y6 guardadas en 'pred_y6.csv'\")"
      ]
    },
    {
      "cell_type": "markdown",
      "metadata": {
        "id": "z9-eGPpk6rmE"
      },
      "source": [
        "## Union de predicciones y1, y2, y3, y4, y5, y6"
      ]
    },
    {
      "cell_type": "code",
      "execution_count": null,
      "metadata": {
        "id": "tN2tqwO98MCT"
      },
      "outputs": [],
      "source": [
        "import pandas as pd\n",
        "\n",
        "#pred_y1 = pd.read_csv(folder_path + 'predictions/pred_y1.csv')\n",
        "#dfY1_pred_train.to_csv('/content/drive/My Drive/Machine Learning/dfY1train.csv', index=False)\n",
        "pred_y1 = pd.read_csv('/content/drive/My Drive/Machine Learning/dfY1train.csv')\n",
        "\n",
        "#pred_y2 = pd.read_csv(folder_path + 'predictions/pred_y2.csv')\n",
        "#dfY2_pred_train.to_csv('/content/drive/My Drive/Machine Learning/dfY2train.csv', index=False)\n",
        "pred_y2 = pd.read_csv('/content/drive/My Drive/Machine Learning/dfY2train.csv')\n",
        "\n",
        "#pred_y3 = pd.read_csv(folder_path + 'predictions/pred_y3.csv')\n",
        "#dfY3_pred_train.to_csv('/content/drive/My Drive/Machine Learning/dfY3train.csv', index=False)\n",
        "pred_y3 = pd.read_csv('/content/drive/My Drive/Machine Learning/dfY3train.csv')\n",
        "\n",
        "#pred_y4 = pd.read_csv(folder_path + 'predictions/pred_y4.csv')\n",
        "#dfY4_pred_train.to_csv('/content/drive/My Drive/Machine Learning/dfY4train.csv', index=False)\n",
        "pred_y4 = pd.read_csv('/content/drive/My Drive/Machine Learning/dfY4train.csv')\n",
        "\n",
        "#pred_y5 = pd.read_csv(folder_path + 'predictions/pred_y5.csv')\n",
        "#dfY5_pred_train.to_csv('/content/drive/My Drive/Machine Learning/dfY5train.csv', index=False)\n",
        "pred_y5 = pd.read_csv('/content/drive/My Drive/Machine Learning/dfY5train.csv')\n",
        "\n",
        "#pred_y6 = pd.read_csv(folder_path + 'predictions/pred_y6.csv')\n",
        "#dfY6_pred_train.to_csv('/content/drive/My Drive/Machine Learning/dfY6train.csv', index=False)\n",
        "pred_y6 = pd.read_csv('/content/drive/My Drive/Machine Learning/dfY6train.csv')"
      ]
    },
    {
      "cell_type": "code",
      "execution_count": null,
      "metadata": {
        "id": "tCONrOJt66ir"
      },
      "outputs": [],
      "source": [
        "pred_y = pred_y1"
      ]
    },
    {
      "cell_type": "code",
      "execution_count": null,
      "metadata": {
        "colab": {
          "base_uri": "https://localhost:8080/"
        },
        "id": "IhlhqFZneb4w",
        "outputId": "9a1bb0db-a01e-43d2-b379-d6ee2bfa61ae"
      },
      "outputs": [
        {
          "output_type": "stream",
          "name": "stdout",
          "text": [
            "2999\n"
          ]
        }
      ],
      "source": [
        "for i in range(len(pred_y)):\n",
        "    if (pred_y.iloc[i, 0] == -1) and (pred_y2.iloc[i, 0]) == 1:\n",
        "        pred_y.iloc[i, 0] = 2\n",
        "\n",
        "count_minus_ones = (pred_y['0'] == -1).sum()\n",
        "print(count_minus_ones)"
      ]
    },
    {
      "cell_type": "code",
      "execution_count": null,
      "metadata": {
        "colab": {
          "base_uri": "https://localhost:8080/"
        },
        "id": "MZ2GZulMe8Np",
        "outputId": "13a71f70-e5b7-4d71-feb5-3a9a12406b2c"
      },
      "outputs": [
        {
          "output_type": "stream",
          "name": "stdout",
          "text": [
            "2446\n"
          ]
        }
      ],
      "source": [
        "for i in range(len(pred_y)):\n",
        "    if (pred_y.iloc[i, 0] == -1) and (pred_y3.iloc[i, 0]) == 1:\n",
        "        pred_y.iloc[i, 0] = 3\n",
        "\n",
        "count_minus_ones = (pred_y['0'] == -1).sum()\n",
        "print(count_minus_ones)"
      ]
    },
    {
      "cell_type": "code",
      "execution_count": null,
      "metadata": {
        "colab": {
          "base_uri": "https://localhost:8080/"
        },
        "id": "1_Sz962TfIhY",
        "outputId": "d53062bb-d1c9-436d-e06c-8dc436b7538d"
      },
      "outputs": [
        {
          "output_type": "stream",
          "name": "stdout",
          "text": [
            "373\n"
          ]
        }
      ],
      "source": [
        "for i in range(len(pred_y)):\n",
        "    if (pred_y.iloc[i, 0] == -1) and (pred_y4.iloc[i, 0]) == 1:\n",
        "        pred_y.iloc[i, 0] = 4\n",
        "\n",
        "count_minus_ones = (pred_y['0'] == -1).sum()\n",
        "print(count_minus_ones)"
      ]
    },
    {
      "cell_type": "code",
      "execution_count": null,
      "metadata": {
        "colab": {
          "base_uri": "https://localhost:8080/"
        },
        "id": "XDD1qvbKfLF9",
        "outputId": "ff8f38f8-c371-4378-a95d-82cd2163efaf"
      },
      "outputs": [
        {
          "output_type": "stream",
          "name": "stdout",
          "text": [
            "177\n"
          ]
        }
      ],
      "source": [
        "for i in range(len(pred_y)):\n",
        "    if (pred_y.iloc[i, 0] == -1) and (pred_y5.iloc[i, 0]) == 1:\n",
        "        pred_y.iloc[i, 0] = 5\n",
        "\n",
        "count_minus_ones = (pred_y['0'] == -1).sum()\n",
        "print(count_minus_ones)"
      ]
    },
    {
      "cell_type": "code",
      "execution_count": null,
      "metadata": {
        "colab": {
          "base_uri": "https://localhost:8080/"
        },
        "id": "_y7Mb9x8fMwS",
        "outputId": "197f2a5c-a7bf-4c31-a71c-da269679a6e2"
      },
      "outputs": [
        {
          "output_type": "stream",
          "name": "stdout",
          "text": [
            "0\n"
          ]
        }
      ],
      "source": [
        "for i in range(len(pred_y)):\n",
        "    if (pred_y.iloc[i, 0] == -1):\n",
        "        pred_y.iloc[i, 0] = 6\n",
        "\n",
        "count_minus_ones = (pred_y['0'] == -1).sum()\n",
        "print(count_minus_ones)"
      ]
    },
    {
      "cell_type": "markdown",
      "metadata": {
        "id": "Jy6mSx3NfTOu"
      },
      "source": [
        "## Predicción final"
      ]
    },
    {
      "cell_type": "code",
      "execution_count": null,
      "metadata": {
        "colab": {
          "base_uri": "https://localhost:8080/"
        },
        "id": "sE3WwdpBfa6L",
        "outputId": "8d9aa0a9-e30d-4278-b50f-593d7c479a50"
      },
      "outputs": [
        {
          "output_type": "stream",
          "name": "stdout",
          "text": [
            "      0\n",
            "0     4\n",
            "1     4\n",
            "2     4\n",
            "3     4\n",
            "4     4\n",
            "...  ..\n",
            "7347  2\n",
            "7348  1\n",
            "7349  2\n",
            "7350  1\n",
            "7351  1\n",
            "\n",
            "[7352 rows x 1 columns]\n"
          ]
        }
      ],
      "source": [
        "print(pred_y)"
      ]
    },
    {
      "cell_type": "code",
      "execution_count": null,
      "metadata": {
        "colab": {
          "base_uri": "https://localhost:8080/"
        },
        "id": "n6ASCBCoflGU",
        "outputId": "90a87ade-3ea2-483c-81a5-170e382ba1d5"
      },
      "outputs": [
        {
          "output_type": "stream",
          "name": "stdout",
          "text": [
            "Predicción final guardada en 'pred_y_train.csv'\n"
          ]
        }
      ],
      "source": [
        "# Guardar la predicción final en un archivo CSV\n",
        "pred_y.to_csv('/content/drive/My Drive/Machine Learning/pred_y_train.csv', index=False)\n",
        "print(\"Predicción final guardada en 'pred_y_train.csv'\")"
      ]
    },
    {
      "cell_type": "code",
      "source": [
        "npPredY = np.array(pred_y).squeeze()\n",
        "print(npPredY)"
      ],
      "metadata": {
        "colab": {
          "base_uri": "https://localhost:8080/"
        },
        "id": "OCj8mQMEGLSs",
        "outputId": "faeb3769-9a94-4c46-d145-86101cb86554"
      },
      "execution_count": null,
      "outputs": [
        {
          "output_type": "stream",
          "name": "stdout",
          "text": [
            "[4 4 4 ... 2 1 1]\n"
          ]
        }
      ]
    },
    {
      "cell_type": "code",
      "source": [
        "yTrain = np.array(df_y).squeeze()\n",
        "print(yTrain)"
      ],
      "metadata": {
        "colab": {
          "base_uri": "https://localhost:8080/"
        },
        "id": "boSduKLRGSNo",
        "outputId": "f522806b-88e2-4293-9535-da72eda3e9c6"
      },
      "execution_count": null,
      "outputs": [
        {
          "output_type": "stream",
          "name": "stdout",
          "text": [
            "[5. 5. 5. ... 2. 2. 2.]\n"
          ]
        }
      ]
    },
    {
      "cell_type": "code",
      "source": [
        "import matplotlib.pyplot as plt\n",
        "import cvxopt\n",
        "from sklearn import metrics\n",
        "from sklearn.metrics import confusion_matrix, accuracy_score, f1_score\n",
        "\n",
        "def show_metrics(y_true, y_pred):\n",
        "  # Mostramos la matriz de confusion\n",
        "  confusion_matrix = metrics.confusion_matrix(yTrain, npPredY)\n",
        "  cm_display = metrics.ConfusionMatrixDisplay(confusion_matrix = confusion_matrix, display_labels = [1, 2, 3, 4, 5, 6])\n",
        "\n",
        "  y_true = [i for i in y_true]\n",
        "  y_pred = [i for i in y_pred]\n",
        "\n",
        "  print(\"Matriz de Confusión:\")\n",
        "  cm_display.plot()\n",
        "  plt.show()\n",
        "\n",
        "  accuracy = accuracy_score(y_true, y_pred)\n",
        "  print(\"\\nExactitud (Accuracy):\")\n",
        "  print(accuracy)\n",
        "\n",
        "  f1 = f1_score(y_true, y_pred, average=None)\n",
        "  print(\"\\nF1-Score por clase:\",f1)\n",
        "\n",
        "  # Calcular el F1-score promedio (macro)\n",
        "  f1_macro = f1_score(y_true, y_pred, average='macro')\n",
        "  print(\"\\nF1-Score promedio (Macro):\")\n",
        "  print(f1_macro)\n",
        "\n",
        "  # Calcular el F1-score promedio (weighted)\n",
        "  f1_weighted = f1_score(y_true, y_pred, average='weighted')\n",
        "  print(\"\\nF1-Score promedio (Weighted):\")\n",
        "  print(f1_weighted)"
      ],
      "metadata": {
        "id": "aDRK6QpTGn4S"
      },
      "execution_count": null,
      "outputs": []
    },
    {
      "cell_type": "code",
      "source": [
        "show_metrics(yTrain, npPredY)"
      ],
      "metadata": {
        "colab": {
          "base_uri": "https://localhost:8080/",
          "height": 657
        },
        "id": "B3jFNrP-G-tZ",
        "outputId": "5bf904c7-3eff-49e9-a774-856db5f10362"
      },
      "execution_count": null,
      "outputs": [
        {
          "output_type": "stream",
          "name": "stdout",
          "text": [
            "Matriz de Confusión:\n"
          ]
        },
        {
          "output_type": "display_data",
          "data": {
            "text/plain": [
              "<Figure size 640x480 with 2 Axes>"
            ],
            "image/png": "[encoded data removed]"
          },
          "metadata": {}
        },
        {
          "output_type": "stream",
          "name": "stdout",
          "text": [
            "\n",
            "Exactitud (Accuracy):\n",
            "0.3443960826985854\n",
            "\n",
            "F1-Score por clase: [0.5335074  0.43287938 0.04548408 0.38642453 0.         0.22348485]\n",
            "\n",
            "F1-Score promedio (Macro):\n",
            "0.2702967058893612\n",
            "\n",
            "F1-Score promedio (Weighted):\n",
            "0.26860610362897336\n"
          ]
        }
      ]
    },
    {
      "cell_type": "markdown",
      "metadata": {
        "id": "ZEKUoJFei-Pc"
      },
      "source": [
        "### Predicción final formateada"
      ]
    },
    {
      "cell_type": "code",
      "execution_count": null,
      "metadata": {
        "id": "pNEFzdPvgP2C"
      },
      "outputs": [],
      "source": [
        "pred_y_formated = pd.read_csv('/content/drive/My Drive/Machine Learning/pred_y_train.csv')\n",
        "ids = range(1, len(pred_y_formated) + 1)\n",
        "pred_y_formated.insert(0, 'id', ids)\n",
        "pred_y_formated.rename(columns={'id': '0', '0': '1'}, inplace=True)"
      ]
    },
    {
      "cell_type": "code",
      "execution_count": null,
      "metadata": {
        "colab": {
          "base_uri": "https://localhost:8080/"
        },
        "id": "5s8Vz15giCHv",
        "outputId": "bec5fbfd-10a6-4ec6-c366-dc509091a25d"
      },
      "outputs": [
        {
          "output_type": "stream",
          "name": "stdout",
          "text": [
            "         0  1\n",
            "0        1  4\n",
            "1        2  4\n",
            "2        3  4\n",
            "3        4  4\n",
            "4        5  4\n",
            "...    ... ..\n",
            "7347  7348  2\n",
            "7348  7349  1\n",
            "7349  7350  2\n",
            "7350  7351  1\n",
            "7351  7352  1\n",
            "\n",
            "[7352 rows x 2 columns]\n"
          ]
        }
      ],
      "source": [
        "print(pred_y_formated)"
      ]
    },
    {
      "cell_type": "code",
      "execution_count": null,
      "metadata": {
        "colab": {
          "base_uri": "https://localhost:8080/"
        },
        "id": "t6mO2MGLjBcK",
        "outputId": "1235dc5d-a37f-49a8-d40c-5afbdfc16d6e"
      },
      "outputs": [
        {
          "output_type": "stream",
          "name": "stdout",
          "text": [
            "Predicción final formateada guardada en 'pred_y_train_formated.csv'\n"
          ]
        }
      ],
      "source": [
        "# Guardar la predicción final formateada en un archivo CSV\n",
        "pred_y_formated.to_csv('/content/drive/My Drive/Machine Learning/pred_y_train_formated.csv', index=False, header=False)\n",
        "print(\"Predicción final formateada guardada en 'pred_y_train_formated.csv'\")"
      ]
    },
    {
      "cell_type": "markdown",
      "source": [
        "# Soft SVM"
      ],
      "metadata": {
        "id": "0JD_wTqFnGvX"
      }
    },
    {
      "cell_type": "code",
      "source": [
        "def h(X,w,b):\n",
        "  return np.dot(X,w) + b\n",
        "\n",
        "def loss(X, Y, y_aprox, w, b, C):\n",
        "    fT = 0.5 * (np.linalg.norm(w)**2)\n",
        "    sT = C * np.sum(np.maximum(0, 1 - Y*y_aprox))\n",
        "\n",
        "    return fT + sT\n",
        "\n",
        "def dL(X, Y, y_aprox, w, b, C):\n",
        "    db = 0\n",
        "    dw = np.zeros_like(w)\n",
        "\n",
        "    for i in range(len(Y)):\n",
        "      if Y[i] * y_aprox[i] < 1:\n",
        "        dw += w - C * Y[i] * X[i]\n",
        "        db -= C * Y[i]\n",
        "      else:\n",
        "        dw += w\n",
        "\n",
        "    db /= len(Y)\n",
        "    dw /= len(Y)\n",
        "    return db, dw\n",
        "\n",
        "def Update(w, b, dw, db, alpha):\n",
        "    w = w - alpha * dw\n",
        "    b = b - alpha * db\n",
        "    return w, b\n",
        "\n",
        "def trainSoft(X, Y, C, alpha, epochs):\n",
        "  np.random.seed(13)\n",
        "  w = np.array([np.random.rand() for i in range(X.shape[1])])\n",
        "  b = np.random.rand()\n",
        "  error = []\n",
        "  for i in range(epochs):\n",
        "    Y_aprox = h(X,w,b)\n",
        "    dw, db = dL(X, Y, Y_aprox, w, b, C)\n",
        "    w, b = Update(w, b, db, dw, alpha)\n",
        "    L = loss(X, Y, Y_aprox, w, b, C)\n",
        "    error.append(L)\n",
        "  return w, b, error\n",
        "\n",
        "def testSoft(X,W,b):\n",
        "  y_aprox = []\n",
        "  for i in range(X.shape[0]):\n",
        "    y_aprox.append(np.sign(h(X[i],W,b)))\n",
        "  return np.array(y_aprox)"
      ],
      "metadata": {
        "id": "tS-ciiSYnFkL"
      },
      "execution_count": null,
      "outputs": []
    },
    {
      "cell_type": "code",
      "source": [
        "# Monta Google Drive\n",
        "from google.colab import drive\n",
        "drive.mount('/content/drive')\n",
        "\n",
        "# Ruta a los archivos h5 en Google Drive\n",
        "folder_path = '/content/drive/My Drive/Machine Learning/project-2-classification-d1/'\n",
        "\n",
        "train_path = folder_path + 'train.h5'\n",
        "test_path = folder_path + 'test.h5'"
      ],
      "metadata": {
        "colab": {
          "base_uri": "https://localhost:8080/"
        },
        "id": "hfQFWC-pngBR",
        "outputId": "8dbb0e11-9dbb-4455-a37b-3b22c8a77274"
      },
      "execution_count": null,
      "outputs": [
        {
          "output_type": "stream",
          "name": "stdout",
          "text": [
            "Drive already mounted at /content/drive; to attempt to forcibly remount, call drive.mount(\"/content/drive\", force_remount=True).\n"
          ]
        }
      ]
    },
    {
      "cell_type": "code",
      "source": [
        "import numpy as np\n",
        "import pandas as pd\n",
        "import h5py\n",
        "\n",
        "# Ruta al archivo h5 train\n",
        "with h5py.File(train_path, 'r') as f:\n",
        "    # Lee los dataset 'x' y los convierte a DataFrames de pandas\n",
        "    df_body_acc_x = pd.DataFrame(f['body_acc_x'][:])\n",
        "    df_body_acc_y = pd.DataFrame(f['body_acc_y'][:])\n",
        "    df_body_acc_z = pd.DataFrame(f['body_acc_z'][:])\n",
        "    df_body_gyro_x = pd.DataFrame(f['body_gyro_x'][:])\n",
        "    df_body_gyro_y = pd.DataFrame(f['body_gyro_y'][:])\n",
        "    df_body_gyro_z = pd.DataFrame(f['body_gyro_z'][:])\n",
        "    df_total_acc_x = pd.DataFrame(f['total_acc_x'][:])\n",
        "    df_total_acc_y = pd.DataFrame(f['total_acc_y'][:])\n",
        "    df_total_acc_z = pd.DataFrame(f['total_acc_z'][:])\n",
        "    # Lee el dataset 'y' y lo convierte a DataFrame de pandas\n",
        "    df_y = pd.DataFrame(f['y']).squeeze()"
      ],
      "metadata": {
        "id": "JJj7BUmInjrg"
      },
      "execution_count": null,
      "outputs": []
    },
    {
      "cell_type": "code",
      "source": [
        "import pandas as pd\n",
        "import numpy as np\n",
        "\n",
        "# Ruta a los archivos h5 en Google Drive\n",
        "feature_vectors_path = '/content/drive/My Drive/Machine Learning/project-2-classification-d1/relevant-features'\n",
        "\n",
        "train_df_x_path = feature_vectors_path + '/train/filtered_features_df_x.csv'\n",
        "test_df_x_path = feature_vectors_path + '/test/filtered_features_df_x.csv'\n",
        "\n",
        "df_x_train = pd.read_csv(train_df_x_path)\n",
        "df_x_test = pd.read_csv(test_df_x_path)"
      ],
      "metadata": {
        "id": "6CGeC9MQoJB7"
      },
      "execution_count": null,
      "outputs": []
    },
    {
      "cell_type": "code",
      "source": [
        "df_y1 = df_y.apply(lambda x: 1 if x == 1 else -1)\n",
        "df_y2 = df_y.apply(lambda x: 1 if x == 2 else -1)\n",
        "df_y3 = df_y.apply(lambda x: 1 if x == 3 else -1)\n",
        "df_y4 = df_y.apply(lambda x: 1 if x == 4 else -1)\n",
        "df_y5 = df_y.apply(lambda x: 1 if x == 5 else -1)\n",
        "df_y6 = df_y.apply(lambda x: 1 if x == 6 else -1)"
      ],
      "metadata": {
        "id": "oeyYE1mXoUDn"
      },
      "execution_count": null,
      "outputs": []
    },
    {
      "cell_type": "code",
      "source": [
        "y1_train = df_y1.to_frame()\n",
        "y2_train = df_y2.to_frame()\n",
        "y3_train = df_y3.to_frame()\n",
        "y4_train = df_y4.to_frame()\n",
        "y5_train = df_y5.to_frame()\n",
        "y6_train = df_y6.to_frame()"
      ],
      "metadata": {
        "id": "LpXTcAZaoOWa"
      },
      "execution_count": null,
      "outputs": []
    },
    {
      "cell_type": "code",
      "source": [
        "X_train = np.array(df_x_train)\n",
        "print(X_train.shape)"
      ],
      "metadata": {
        "colab": {
          "base_uri": "https://localhost:8080/"
        },
        "id": "7wGOVOwKoX-t",
        "outputId": "ee3da4ea-964d-4cde-b10b-45e8a86e1310"
      },
      "execution_count": null,
      "outputs": [
        {
          "output_type": "stream",
          "name": "stdout",
          "text": [
            "(7352, 645)\n"
          ]
        }
      ]
    },
    {
      "cell_type": "code",
      "source": [
        "X_test = np.array(df_x_test)\n",
        "print(X_test.shape)"
      ],
      "metadata": {
        "colab": {
          "base_uri": "https://localhost:8080/"
        },
        "id": "6AyX571OpHxd",
        "outputId": "8eb9d4c4-ac6f-41d8-cee6-94d0afdecd13"
      },
      "execution_count": null,
      "outputs": [
        {
          "output_type": "stream",
          "name": "stdout",
          "text": [
            "(2947, 645)\n"
          ]
        }
      ]
    },
    {
      "cell_type": "code",
      "source": [
        "Y_train = np.array(y1_train).squeeze()\n",
        "print(Y_train)"
      ],
      "metadata": {
        "colab": {
          "base_uri": "https://localhost:8080/"
        },
        "id": "-vmLnsVjo71-",
        "outputId": "215fd323-6add-49e6-d2a0-5d6fb3436e0b"
      },
      "execution_count": null,
      "outputs": [
        {
          "output_type": "stream",
          "name": "stdout",
          "text": [
            "[-1 -1 -1 ... -1 -1 -1]\n"
          ]
        }
      ]
    },
    {
      "cell_type": "code",
      "source": [
        "w, b, e1 = trainSoft(X_train, Y_train, 8e6, 1e-8, 1800)\n",
        "Y1_pred_train = testSoft(X_train, w, b)\n",
        "print(Y1_pred_train)"
      ],
      "metadata": {
        "colab": {
          "base_uri": "https://localhost:8080/"
        },
        "id": "gxFOH3HEobk1",
        "outputId": "341c51cc-3cd5-4b8e-a74e-19c640322af2"
      },
      "execution_count": null,
      "outputs": [
        {
          "output_type": "stream",
          "name": "stdout",
          "text": [
            "[-1. -1. -1. ...  1.  1.  1.]\n"
          ]
        }
      ]
    },
    {
      "cell_type": "code",
      "source": [
        "Y_train = np.array(y2_train).squeeze()\n",
        "w, b, e2 = trainSoft(X_train, Y_train, 8e6, 1e-8, 1800)\n",
        "Y2_pred_train = testSoft(X_train, w, b)\n",
        "print(Y2_pred_train)"
      ],
      "metadata": {
        "colab": {
          "base_uri": "https://localhost:8080/"
        },
        "id": "0nClh6pr5Txd",
        "outputId": "94df12c2-44eb-47b3-cc83-2ac842c66b51"
      },
      "execution_count": null,
      "outputs": [
        {
          "output_type": "stream",
          "name": "stdout",
          "text": [
            "[-1. -1. -1. ... -1. -1. -1.]\n"
          ]
        }
      ]
    },
    {
      "cell_type": "code",
      "source": [
        "Y_train = np.array(y3_train).squeeze()\n",
        "w, b, e3 = trainSoft(X_train, Y_train, 8e6, 1e-8, 1800)\n",
        "Y3_pred_train = testSoft(X_train, w, b)\n",
        "print(Y3_pred_train)"
      ],
      "metadata": {
        "colab": {
          "base_uri": "https://localhost:8080/"
        },
        "id": "A6Dnz70Q52A3",
        "outputId": "870709e8-f3c0-4d85-9526-17d7a23602b8"
      },
      "execution_count": null,
      "outputs": [
        {
          "output_type": "stream",
          "name": "stdout",
          "text": [
            "[-1. -1. -1. ... -1. -1. -1.]\n"
          ]
        }
      ]
    },
    {
      "cell_type": "code",
      "source": [
        "Y_train = np.array(y4_train).squeeze()\n",
        "w, b, e4 = trainSoft(X_train, Y_train, 8e6, 1e-8, 1800)\n",
        "Y4_pred_train = testSoft(X_train, w, b)\n",
        "print(Y4_pred_train)"
      ],
      "metadata": {
        "colab": {
          "base_uri": "https://localhost:8080/"
        },
        "id": "VH_sw7UV6RGh",
        "outputId": "d92d3a7c-ea04-4e72-8f78-380783c5e2dc"
      },
      "execution_count": null,
      "outputs": [
        {
          "output_type": "stream",
          "name": "stdout",
          "text": [
            "[ 1.  1.  1. ... -1. -1. -1.]\n"
          ]
        }
      ]
    },
    {
      "cell_type": "code",
      "source": [
        "Y_train = np.array(y5_train).squeeze()\n",
        "w, b, e5 = trainSoft(X_train, Y_train, 8e6, 1e-8, 1800)\n",
        "Y5_pred_train = testSoft(X_train, w, b)\n",
        "print(Y5_pred_train)"
      ],
      "metadata": {
        "colab": {
          "base_uri": "https://localhost:8080/"
        },
        "id": "d2cuO-YZ6VRH",
        "outputId": "82a17512-fa0a-4986-e9cd-4db9a4f75859"
      },
      "execution_count": null,
      "outputs": [
        {
          "output_type": "stream",
          "name": "stdout",
          "text": [
            "[ 1.  1.  1. ... -1. -1. -1.]\n"
          ]
        }
      ]
    },
    {
      "cell_type": "code",
      "source": [
        "Y_train = np.array(y6_train).squeeze()\n",
        "w, b, e6 = trainSoft(X_train, Y_train, 8e6, 1e-8, 1800)\n",
        "Y6_pred_train = testSoft(X_train, w, b)\n",
        "print(Y6_pred_train)"
      ],
      "metadata": {
        "colab": {
          "base_uri": "https://localhost:8080/"
        },
        "id": "hme2sbK26V6O",
        "outputId": "9054b7ee-1ceb-49b1-aa25-63e1ee29d69a"
      },
      "execution_count": null,
      "outputs": [
        {
          "output_type": "stream",
          "name": "stdout",
          "text": [
            "[-1. -1. -1. ... -1. -1. -1.]\n"
          ]
        }
      ]
    },
    {
      "cell_type": "code",
      "source": [
        "import pandas as pd\n",
        "\n",
        "#pred_y1 = pd.read_csv(folder_path + 'predictions/pred_y1.csv')\n",
        "#pd.DataFrame(Y1_pred_train).to_csv('/content/drive/My Drive/Machine Learning/dfY1trainSoft.csv', index=False)\n",
        "pred_y1 = pd.read_csv('/content/drive/My Drive/Machine Learning/dfY1trainSoft.csv')\n",
        "\n",
        "#pred_y2 = pd.read_csv(folder_path + 'predictions/pred_y2.csv')\n",
        "#pd.DataFrame(Y2_pred_train).to_csv('/content/drive/My Drive/Machine Learning/dfY2trainSoft.csv', index=False)\n",
        "pred_y2 = pd.read_csv('/content/drive/My Drive/Machine Learning/dfY2trainSoft.csv')\n",
        "\n",
        "#pred_y3 = pd.read_csv(folder_path + 'predictions/pred_y3.csv')\n",
        "#pd.DataFrame(Y3_pred_train).to_csv('/content/drive/My Drive/Machine Learning/dfY3trainSoft.csv', index=False)\n",
        "pred_y3 = pd.read_csv('/content/drive/My Drive/Machine Learning/dfY3trainSoft.csv')\n",
        "\n",
        "#pred_y4 = pd.read_csv(folder_path + 'predictions/pred_y4.csv')\n",
        "#pd.DataFrame(Y4_pred_train).to_csv('/content/drive/My Drive/Machine Learning/dfY4trainSoft.csv', index=False)\n",
        "pred_y4 = pd.read_csv('/content/drive/My Drive/Machine Learning/dfY4trainSoft.csv')\n",
        "\n",
        "#pred_y5 = pd.read_csv(folder_path + 'predictions/pred_y5.csv')\n",
        "#pd.DataFrame(Y5_pred_train).to_csv('/content/drive/My Drive/Machine Learning/dfY5trainSoft.csv', index=False)\n",
        "pred_y5 = pd.read_csv('/content/drive/My Drive/Machine Learning/dfY5trainSoft.csv')\n",
        "\n",
        "#pred_y6 = pd.read_csv(folder_path + 'predictions/pred_y6.csv')\n",
        "#pd.DataFrame(Y6_pred_train).to_csv('/content/drive/My Drive/Machine Learning/dfY6trainSoft.csv', index=False)\n",
        "pred_y6 = pd.read_csv('/content/drive/My Drive/Machine Learning/dfY6trainSoft.csv')"
      ],
      "metadata": {
        "id": "Lbj138Ak71lX"
      },
      "execution_count": null,
      "outputs": []
    },
    {
      "cell_type": "code",
      "execution_count": null,
      "metadata": {
        "id": "-jE1CpLP8k91"
      },
      "outputs": [],
      "source": [
        "pred_y = pred_y1"
      ]
    },
    {
      "cell_type": "code",
      "execution_count": null,
      "metadata": {
        "colab": {
          "base_uri": "https://localhost:8080/"
        },
        "outputId": "5e59abb1-96d4-42c6-f7eb-c4e5e829b86d",
        "id": "c1G6Us5G8k91"
      },
      "outputs": [
        {
          "output_type": "stream",
          "name": "stdout",
          "text": [
            "3971\n"
          ]
        }
      ],
      "source": [
        "for i in range(len(pred_y)):\n",
        "    if (pred_y.iloc[i, 0] == -1) and (pred_y2.iloc[i, 0]) == 1:\n",
        "        pred_y.iloc[i, 0] = 2\n",
        "\n",
        "count_minus_ones = (pred_y['0'] == -1).sum()\n",
        "print(count_minus_ones)"
      ]
    },
    {
      "cell_type": "code",
      "execution_count": null,
      "metadata": {
        "colab": {
          "base_uri": "https://localhost:8080/"
        },
        "outputId": "117f3659-3003-4423-d722-172b5b43a6ea",
        "id": "ZhguSro48k91"
      },
      "outputs": [
        {
          "output_type": "stream",
          "name": "stdout",
          "text": [
            "3971\n"
          ]
        }
      ],
      "source": [
        "for i in range(len(pred_y)):\n",
        "    if (pred_y.iloc[i, 0] == -1) and (pred_y3.iloc[i, 0]) == 1:\n",
        "        pred_y.iloc[i, 0] = 3\n",
        "\n",
        "count_minus_ones = (pred_y['0'] == -1).sum()\n",
        "print(count_minus_ones)"
      ]
    },
    {
      "cell_type": "code",
      "execution_count": null,
      "metadata": {
        "colab": {
          "base_uri": "https://localhost:8080/"
        },
        "outputId": "eb5a21e8-af29-4f39-a213-8c1fdb56f8e4",
        "id": "coPIj0qf8k92"
      },
      "outputs": [
        {
          "output_type": "stream",
          "name": "stdout",
          "text": [
            "1432\n"
          ]
        }
      ],
      "source": [
        "for i in range(len(pred_y)):\n",
        "    if (pred_y.iloc[i, 0] == -1) and (pred_y4.iloc[i, 0]) == 1:\n",
        "        pred_y.iloc[i, 0] = 4\n",
        "\n",
        "count_minus_ones = (pred_y['0'] == -1).sum()\n",
        "print(count_minus_ones)"
      ]
    },
    {
      "cell_type": "code",
      "execution_count": null,
      "metadata": {
        "colab": {
          "base_uri": "https://localhost:8080/"
        },
        "outputId": "2e755460-f2a8-45ca-a8d0-a2d3c7ca398d",
        "id": "Wj8k35b48k92"
      },
      "outputs": [
        {
          "output_type": "stream",
          "name": "stdout",
          "text": [
            "1265\n"
          ]
        }
      ],
      "source": [
        "for i in range(len(pred_y)):\n",
        "    if (pred_y.iloc[i, 0] == -1) and (pred_y5.iloc[i, 0]) == 1:\n",
        "        pred_y.iloc[i, 0] = 5\n",
        "\n",
        "count_minus_ones = (pred_y['0'] == -1).sum()\n",
        "print(count_minus_ones)"
      ]
    },
    {
      "cell_type": "code",
      "execution_count": null,
      "metadata": {
        "colab": {
          "base_uri": "https://localhost:8080/"
        },
        "outputId": "f91e4ffc-0367-4ac3-bde0-a804af7f7242",
        "id": "yhhvUDlA8k92"
      },
      "outputs": [
        {
          "output_type": "stream",
          "name": "stdout",
          "text": [
            "0\n"
          ]
        }
      ],
      "source": [
        "for i in range(len(pred_y)):\n",
        "    if (pred_y.iloc[i, 0] == -1):\n",
        "        pred_y.iloc[i, 0] = 6\n",
        "\n",
        "count_minus_ones = (pred_y['0'] == -1).sum()\n",
        "print(count_minus_ones)"
      ]
    },
    {
      "cell_type": "code",
      "source": [
        "print(pred_y)"
      ],
      "metadata": {
        "colab": {
          "base_uri": "https://localhost:8080/"
        },
        "id": "cm6X3Ct88wY1",
        "outputId": "8955bf29-3fa1-4b09-88c5-e0ed7aa3f16e"
      },
      "execution_count": null,
      "outputs": [
        {
          "output_type": "stream",
          "name": "stdout",
          "text": [
            "        0\n",
            "0     4.0\n",
            "1     4.0\n",
            "2     4.0\n",
            "3     4.0\n",
            "4     4.0\n",
            "...   ...\n",
            "7347  1.0\n",
            "7348  1.0\n",
            "7349  1.0\n",
            "7350  1.0\n",
            "7351  1.0\n",
            "\n",
            "[7352 rows x 1 columns]\n"
          ]
        }
      ]
    },
    {
      "cell_type": "code",
      "source": [
        "npPredY = np.array(pred_y).squeeze()\n",
        "print(npPredY)"
      ],
      "metadata": {
        "colab": {
          "base_uri": "https://localhost:8080/"
        },
        "outputId": "92366943-022a-4002-c8d2-2bf6c08f4633",
        "id": "1V8dczEv8-z9"
      },
      "execution_count": null,
      "outputs": [
        {
          "output_type": "stream",
          "name": "stdout",
          "text": [
            "[4. 4. 4. ... 1. 1. 1.]\n"
          ]
        }
      ]
    },
    {
      "cell_type": "code",
      "source": [
        "yTrain = np.array(df_y).squeeze()\n",
        "print(yTrain)"
      ],
      "metadata": {
        "colab": {
          "base_uri": "https://localhost:8080/"
        },
        "outputId": "0d4d9114-9876-4f17-d81e-f1227d1ba9a0",
        "id": "mpiWzQ668-z9"
      },
      "execution_count": null,
      "outputs": [
        {
          "output_type": "stream",
          "name": "stdout",
          "text": [
            "[5. 5. 5. ... 2. 2. 2.]\n"
          ]
        }
      ]
    },
    {
      "cell_type": "code",
      "source": [
        "show_metrics(yTrain, npPredY)"
      ],
      "metadata": {
        "colab": {
          "base_uri": "https://localhost:8080/",
          "height": 657
        },
        "id": "7uO7lzsq9BXu",
        "outputId": "c3e8c251-7cce-4fe7-b9a1-00c9d57d2a5d"
      },
      "execution_count": null,
      "outputs": [
        {
          "output_type": "stream",
          "name": "stdout",
          "text": [
            "Matriz de Confusión:\n"
          ]
        },
        {
          "output_type": "display_data",
          "data": {
            "text/plain": [
              "<Figure size 640x480 with 2 Axes>"
            ],
            "image/png": "[encoded data removed]"
          },
          "metadata": {}
        },
        {
          "output_type": "stream",
          "name": "stdout",
          "text": [
            "\n",
            "Exactitud (Accuracy):\n",
            "0.5228509249183896\n",
            "\n",
            "F1-Score por clase: [0.53223356 0.         0.         0.65254902 0.15314731 0.93712575]\n",
            "\n",
            "F1-Score promedio (Macro):\n",
            "0.379175938780679\n",
            "\n",
            "F1-Score promedio (Weighted):\n",
            "0.4108619027140685\n"
          ]
        }
      ]
    }
  ],
  "metadata": {
    "colab": {
      "provenance": [],
      "collapsed_sections": [
        "O9cNDbSECv6A",
        "fo9GzET9C3c0",
        "MNACGO4sDHDx",
        "HLhshR4YDWEI",
        "mhU4CAkAD1KB",
        "Ns69PSXPFhUu",
        "ebxZ4YJjGAsA",
        "i6b0cwqfQEZx",
        "F6ejA5NaQ_9J",
        "vDA4kdhGX6jL",
        "X6hdph2yfybG",
        "egv9g-b4D7av",
        "vVNq-NI5JLct",
        "o1LAvFUSga8B",
        "7RCBjGeHgiO6",
        "UlsiXLABKSyS",
        "3mJhmJTSLC-7",
        "BFN6dHqyLUii",
        "pQPpmwi5MWTE",
        "QuGtg1XDbN8M",
        "Ocku8UVvbhkc",
        "6-A4cbq3i8Hg",
        "5d5ANGf_ySC_",
        "zgQu_xlElCrT",
        "hhkNEFBFJe2h",
        "8hzipV2CJzqT",
        "mT8alqsPJ_v_",
        "5r63MZ8YbeaV"
      ]
    },
    "kernelspec": {
      "display_name": "Python 3",
      "name": "python3"
    },
    "language_info": {
      "name": "python"
    }
  },
  "nbformat": 4,
  "nbformat_minor": 0
}